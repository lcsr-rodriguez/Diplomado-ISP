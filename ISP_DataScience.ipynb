{
 "cells": [
  {
   "cell_type": "markdown",
   "id": "926ff184",
   "metadata": {},
   "source": [
    "# Proyecto de Grado - Ciencia de Datos\n",
    "# Universidad Libre Cali\n",
    "## Leiner Ceballos Rodriguez\n",
    "## David Cespedes"
   ]
  },
  {
   "cell_type": "code",
   "execution_count": 124,
   "id": "845c0cec",
   "metadata": {},
   "outputs": [],
   "source": [
    "import pandas as pd\n",
    "import numpy as np\n",
    "import scipy.stats as ss\n",
    "import seaborn as sns\n",
    "import matplotlib.pyplot as plt\n",
    "from scipy.stats import mode"
   ]
  },
  {
   "cell_type": "code",
   "execution_count": 138,
   "id": "3ee784d8",
   "metadata": {},
   "outputs": [
    {
     "name": "stdout",
     "output_type": "stream",
     "text": [
      "<class 'pandas.core.frame.DataFrame'>\n",
      "RangeIndex: 129069 entries, 0 to 129068\n",
      "Data columns (total 12 columns):\n",
      " #   Column       Non-Null Count   Dtype         \n",
      "---  ------       --------------   -----         \n",
      " 0   PREFIJO      129069 non-null  object        \n",
      " 1   CONSECUTIVO  129069 non-null  int64         \n",
      " 2   ID_FACTURA   129069 non-null  int64         \n",
      " 3   SUCURSAL     129069 non-null  int64         \n",
      " 4   CLIENTE      129069 non-null  int64         \n",
      " 5   TOTAL        129069 non-null  float64       \n",
      " 6   FECHA        129069 non-null  datetime64[ns]\n",
      " 7   DIA          129069 non-null  int64         \n",
      " 8   MES          129069 non-null  int64         \n",
      " 9   AÑO          129069 non-null  int64         \n",
      " 10  CONTRATO     53640 non-null   float64       \n",
      " 11  USUARIO      129069 non-null  int64         \n",
      "dtypes: datetime64[ns](1), float64(2), int64(8), object(1)\n",
      "memory usage: 11.8+ MB\n"
     ]
    }
   ],
   "source": [
    "tbl_facturas = pd.read_excel(\"TBL_FACTURAS.xlsx\")\n",
    "tbl_facturas.info()"
   ]
  },
  {
   "cell_type": "code",
   "execution_count": 126,
   "id": "ad347e5f",
   "metadata": {},
   "outputs": [],
   "source": [
    "tbl_sucursales = pd.read_excel(\"TBL_SUCURSALES.xlsx\")"
   ]
  },
  {
   "cell_type": "code",
   "execution_count": 127,
   "id": "5208319d",
   "metadata": {},
   "outputs": [],
   "source": [
    "# Unión entre ambos DataFrames\n",
    "df_fact_sucursal = pd.merge(left=tbl_facturas,right=tbl_sucursales, left_on='SUCURSAL', right_on='ID_SUCURSAL')"
   ]
  },
  {
   "cell_type": "markdown",
   "id": "f9257a18",
   "metadata": {},
   "source": [
    "### Se exportan los datos necesarios para crear un solo DataFrame"
   ]
  },
  {
   "cell_type": "code",
   "execution_count": 128,
   "id": "f3fff7a7",
   "metadata": {},
   "outputs": [],
   "source": [
    "# Se exportan los datos de la tabla de contratos\n",
    "tbl_contratos = pd.read_excel(\"TBL_CONTRATOS.xlsx\")\n",
    "# Unión entre el merge y tbl_contratos\n",
    "merged_contratos = pd.merge(left=tbl_contratos, right=df_fact_sucursal, how='left', left_on='ID_CONTRATO', right_on='CONTRATO')\n",
    "# Se exportan los datos de la tabla de planes isp\n",
    "tbl_planes = pd.read_excel(\"TBL_PLANES_ISP.xlsx\")\n",
    "# Unión entre el merge y tbl_planes_isp\n",
    "merged_planes = pd.merge(left=merged_contratos,right=tbl_planes, left_on='PLANISP', right_on='ID_PLAN_ISP')\n",
    "# Se exportan los datos de la tabla de productos\n",
    "tbl_productos = pd.read_excel(\"TBL_PRODUCTOS.xlsx\")\n",
    "# Unión entre el merge y tbl_productos\n",
    "merged_productos = pd.merge(left=merged_planes,right=tbl_productos, left_on='PRODUCTO', right_on='ID_PRODUCTO')"
   ]
  },
  {
   "cell_type": "markdown",
   "id": "991a9c8c",
   "metadata": {},
   "source": [
    "### Datos Finales"
   ]
  },
  {
   "cell_type": "code",
   "execution_count": 129,
   "id": "bf69dbc8",
   "metadata": {},
   "outputs": [],
   "source": [
    "datos = pd.DataFrame(merged_productos)"
   ]
  },
  {
   "cell_type": "markdown",
   "id": "49df20df",
   "metadata": {},
   "source": [
    "### Se limpian los datos vacios o nulos"
   ]
  },
  {
   "cell_type": "code",
   "execution_count": 130,
   "id": "abadbfb1",
   "metadata": {
    "scrolled": true
   },
   "outputs": [
    {
     "name": "stdout",
     "output_type": "stream",
     "text": [
      "<class 'pandas.core.frame.DataFrame'>\n",
      "Int64Index: 45463 entries, 0 to 45462\n",
      "Data columns (total 37 columns):\n",
      " #   Column           Non-Null Count  Dtype         \n",
      "---  ------           --------------  -----         \n",
      " 0   ID_CONTRATO      45463 non-null  int64         \n",
      " 1   PLANISP          45463 non-null  int64         \n",
      " 2   SERVER           45463 non-null  int64         \n",
      " 3   EQUIPO           45463 non-null  int64         \n",
      " 4   ROUTER_UK        45463 non-null  int64         \n",
      " 5   IP               45463 non-null  object        \n",
      " 6   MAC              45462 non-null  object        \n",
      " 7   FECHA_CONTRATO   45463 non-null  datetime64[ns]\n",
      " 8   MEDIO_CONEXION   45463 non-null  object        \n",
      " 9   PREFIJO          45043 non-null  object        \n",
      " 10  CONSECUTIVO      45043 non-null  float64       \n",
      " 11  ID_FACTURA       45043 non-null  float64       \n",
      " 12  SUCURSAL         45043 non-null  float64       \n",
      " 13  CLIENTE          45043 non-null  float64       \n",
      " 14  TOTAL            45043 non-null  float64       \n",
      " 15  FECHA            45043 non-null  datetime64[ns]\n",
      " 16  DIA              45043 non-null  float64       \n",
      " 17  MES              45043 non-null  float64       \n",
      " 18  AÑO              45043 non-null  float64       \n",
      " 19  CONTRATO         45043 non-null  float64       \n",
      " 20  USUARIO          45043 non-null  float64       \n",
      " 21  ID_SUCURSAL      45043 non-null  float64       \n",
      " 22  NOMBRE_SUCURSAL  45043 non-null  object        \n",
      " 23  DIRECCION        44853 non-null  object        \n",
      " 24  CIUDAD           45043 non-null  float64       \n",
      " 25  ZONA             45043 non-null  object        \n",
      " 26  LONGITUD         45043 non-null  float64       \n",
      " 27  LATITUD          45043 non-null  float64       \n",
      " 28  COORDENADAS      45043 non-null  object        \n",
      " 29  ID_PLAN_ISP      45463 non-null  int64         \n",
      " 30  PRODUCTO         45463 non-null  int64         \n",
      " 31  MAX_BAJADA       45463 non-null  int64         \n",
      " 32  MAX_SUBIDA       45463 non-null  int64         \n",
      " 33  MIN_BAJADA       45463 non-null  int64         \n",
      " 34  MIN_SUBIDA       45463 non-null  int64         \n",
      " 35  ID_PRODUCTO      45463 non-null  int64         \n",
      " 36  NOMBRE_PRODUCTO  45463 non-null  object        \n",
      "dtypes: datetime64[ns](2), float64(14), int64(12), object(9)\n",
      "memory usage: 13.2+ MB\n",
      "None\n",
      "ID_CONTRATO          0\n",
      "PLANISP              0\n",
      "SERVER               0\n",
      "EQUIPO               0\n",
      "ROUTER_UK            0\n",
      "IP                   0\n",
      "MAC                  1\n",
      "FECHA_CONTRATO       0\n",
      "MEDIO_CONEXION       0\n",
      "PREFIJO            420\n",
      "CONSECUTIVO        420\n",
      "ID_FACTURA         420\n",
      "SUCURSAL           420\n",
      "CLIENTE            420\n",
      "TOTAL              420\n",
      "FECHA              420\n",
      "DIA                420\n",
      "MES                420\n",
      "AÑO                420\n",
      "CONTRATO           420\n",
      "USUARIO            420\n",
      "ID_SUCURSAL        420\n",
      "NOMBRE_SUCURSAL    420\n",
      "DIRECCION          610\n",
      "CIUDAD             420\n",
      "ZONA               420\n",
      "LONGITUD           420\n",
      "LATITUD            420\n",
      "COORDENADAS        420\n",
      "ID_PLAN_ISP          0\n",
      "PRODUCTO             0\n",
      "MAX_BAJADA           0\n",
      "MAX_SUBIDA           0\n",
      "MIN_BAJADA           0\n",
      "MIN_SUBIDA           0\n",
      "ID_PRODUCTO          0\n",
      "NOMBRE_PRODUCTO      0\n",
      "dtype: int64\n"
     ]
    }
   ],
   "source": [
    "# ¿Hay datos nulos?\n",
    "print(datos.info())\n",
    "print(datos.isnull().sum())"
   ]
  },
  {
   "cell_type": "markdown",
   "id": "0e122675",
   "metadata": {},
   "source": [
    "### Algunos datos de la base de datos son nulos o NaN, debemos cambiarlo para tener una base de datos uniforme"
   ]
  },
  {
   "cell_type": "code",
   "execution_count": 131,
   "id": "bcfd7df3",
   "metadata": {},
   "outputs": [],
   "source": [
    "datos['DIRECCION'].fillna(\"SIN DIRECCIÓN\", inplace = True) # Direccion\n",
    "datos['PREFIJO'].fillna(\"NO TIENE\", inplace = True) # Prefijo\n",
    "datos['ID_FACTURA'].fillna(0, inplace = True) # id factura\n",
    "datos['SUCURSAL'].fillna(0, inplace = True) # Sucursal\n",
    "datos['CLIENTE'].fillna(0, inplace = True) # Cliente\n",
    "datos['TOTAL'].fillna(0, inplace = True) # Total\n",
    "datos['CONTRATO'].fillna(0, inplace = True) # Contrato\n",
    "datos['USUARIO'].fillna(0, inplace = True) # Usuario\n",
    "datos['ID_SUCURSAL'].fillna(0, inplace = True) # Id sucursal"
   ]
  },
  {
   "cell_type": "markdown",
   "id": "5227040d",
   "metadata": {},
   "source": [
    "### Con el código anterior reemplazamos el valor nulo en los datos por una cadena, támbien se puede reemplazar por el promedio de la columna si fuera un campo de valores o eliminar las filas con datos nulos"
   ]
  },
  {
   "cell_type": "markdown",
   "id": "957c7073",
   "metadata": {},
   "source": [
    "### Se genera una visualización de los datos codificados"
   ]
  },
  {
   "cell_type": "code",
   "execution_count": 132,
   "id": "fac39a61",
   "metadata": {},
   "outputs": [
    {
     "data": {
      "text/html": [
       "<div>\n",
       "<style scoped>\n",
       "    .dataframe tbody tr th:only-of-type {\n",
       "        vertical-align: middle;\n",
       "    }\n",
       "\n",
       "    .dataframe tbody tr th {\n",
       "        vertical-align: top;\n",
       "    }\n",
       "\n",
       "    .dataframe thead th {\n",
       "        text-align: right;\n",
       "    }\n",
       "</style>\n",
       "<table border=\"1\" class=\"dataframe\">\n",
       "  <thead>\n",
       "    <tr style=\"text-align: right;\">\n",
       "      <th></th>\n",
       "      <th>ID_CONTRATO</th>\n",
       "      <th>PLANISP</th>\n",
       "      <th>SERVER</th>\n",
       "      <th>EQUIPO</th>\n",
       "      <th>ROUTER_UK</th>\n",
       "      <th>IP</th>\n",
       "      <th>MAC</th>\n",
       "      <th>FECHA_CONTRATO</th>\n",
       "      <th>MEDIO_CONEXION</th>\n",
       "      <th>PREFIJO</th>\n",
       "      <th>...</th>\n",
       "      <th>LATITUD</th>\n",
       "      <th>COORDENADAS</th>\n",
       "      <th>ID_PLAN_ISP</th>\n",
       "      <th>PRODUCTO</th>\n",
       "      <th>MAX_BAJADA</th>\n",
       "      <th>MAX_SUBIDA</th>\n",
       "      <th>MIN_BAJADA</th>\n",
       "      <th>MIN_SUBIDA</th>\n",
       "      <th>ID_PRODUCTO</th>\n",
       "      <th>NOMBRE_PRODUCTO</th>\n",
       "    </tr>\n",
       "  </thead>\n",
       "  <tbody>\n",
       "    <tr>\n",
       "      <th>0</th>\n",
       "      <td>1</td>\n",
       "      <td>33</td>\n",
       "      <td>6</td>\n",
       "      <td>451</td>\n",
       "      <td>155</td>\n",
       "      <td>10.10.8.10</td>\n",
       "      <td>24:A4:3C:4E:88:94</td>\n",
       "      <td>2017-10-23</td>\n",
       "      <td>RADIO ENLACE</td>\n",
       "      <td>NO TIENE</td>\n",
       "      <td>...</td>\n",
       "      <td>NaN</td>\n",
       "      <td>NaN</td>\n",
       "      <td>33</td>\n",
       "      <td>309</td>\n",
       "      <td>22000</td>\n",
       "      <td>10000</td>\n",
       "      <td>0</td>\n",
       "      <td>0</td>\n",
       "      <td>309</td>\n",
       "      <td>INTERNET HOGAR RADIO BASICO</td>\n",
       "    </tr>\n",
       "    <tr>\n",
       "      <th>1</th>\n",
       "      <td>2010</td>\n",
       "      <td>33</td>\n",
       "      <td>1</td>\n",
       "      <td>6560</td>\n",
       "      <td>311</td>\n",
       "      <td>10.1.0.13</td>\n",
       "      <td>44:D9:E7:5C:EA:1C</td>\n",
       "      <td>2018-04-04</td>\n",
       "      <td>RADIO ENLACE</td>\n",
       "      <td>NO TIENE</td>\n",
       "      <td>...</td>\n",
       "      <td>NaN</td>\n",
       "      <td>NaN</td>\n",
       "      <td>33</td>\n",
       "      <td>309</td>\n",
       "      <td>22000</td>\n",
       "      <td>10000</td>\n",
       "      <td>0</td>\n",
       "      <td>0</td>\n",
       "      <td>309</td>\n",
       "      <td>INTERNET HOGAR RADIO BASICO</td>\n",
       "    </tr>\n",
       "    <tr>\n",
       "      <th>2</th>\n",
       "      <td>2490</td>\n",
       "      <td>33</td>\n",
       "      <td>6</td>\n",
       "      <td>7374</td>\n",
       "      <td>354</td>\n",
       "      <td>10.10.8.179</td>\n",
       "      <td>FC:EC:DA:64:0F:42</td>\n",
       "      <td>2018-10-04</td>\n",
       "      <td>RADIO ENLACE</td>\n",
       "      <td>FE</td>\n",
       "      <td>...</td>\n",
       "      <td>-76.519489</td>\n",
       "      <td>3.415502003973917,-76.51948932806492</td>\n",
       "      <td>33</td>\n",
       "      <td>309</td>\n",
       "      <td>22000</td>\n",
       "      <td>10000</td>\n",
       "      <td>0</td>\n",
       "      <td>0</td>\n",
       "      <td>309</td>\n",
       "      <td>INTERNET HOGAR RADIO BASICO</td>\n",
       "    </tr>\n",
       "    <tr>\n",
       "      <th>3</th>\n",
       "      <td>2490</td>\n",
       "      <td>33</td>\n",
       "      <td>6</td>\n",
       "      <td>7374</td>\n",
       "      <td>354</td>\n",
       "      <td>10.10.8.179</td>\n",
       "      <td>FC:EC:DA:64:0F:42</td>\n",
       "      <td>2018-10-04</td>\n",
       "      <td>RADIO ENLACE</td>\n",
       "      <td>FE</td>\n",
       "      <td>...</td>\n",
       "      <td>-76.519489</td>\n",
       "      <td>3.415502003973917,-76.51948932806492</td>\n",
       "      <td>33</td>\n",
       "      <td>309</td>\n",
       "      <td>22000</td>\n",
       "      <td>10000</td>\n",
       "      <td>0</td>\n",
       "      <td>0</td>\n",
       "      <td>309</td>\n",
       "      <td>INTERNET HOGAR RADIO BASICO</td>\n",
       "    </tr>\n",
       "    <tr>\n",
       "      <th>4</th>\n",
       "      <td>2490</td>\n",
       "      <td>33</td>\n",
       "      <td>6</td>\n",
       "      <td>7374</td>\n",
       "      <td>354</td>\n",
       "      <td>10.10.8.179</td>\n",
       "      <td>FC:EC:DA:64:0F:42</td>\n",
       "      <td>2018-10-04</td>\n",
       "      <td>RADIO ENLACE</td>\n",
       "      <td>FE</td>\n",
       "      <td>...</td>\n",
       "      <td>-76.519489</td>\n",
       "      <td>3.415502003973917,-76.51948932806492</td>\n",
       "      <td>33</td>\n",
       "      <td>309</td>\n",
       "      <td>22000</td>\n",
       "      <td>10000</td>\n",
       "      <td>0</td>\n",
       "      <td>0</td>\n",
       "      <td>309</td>\n",
       "      <td>INTERNET HOGAR RADIO BASICO</td>\n",
       "    </tr>\n",
       "  </tbody>\n",
       "</table>\n",
       "<p>5 rows × 37 columns</p>\n",
       "</div>"
      ],
      "text/plain": [
       "   ID_CONTRATO  PLANISP  SERVER  EQUIPO  ROUTER_UK           IP  \\\n",
       "0            1       33       6     451        155   10.10.8.10   \n",
       "1         2010       33       1    6560        311    10.1.0.13   \n",
       "2         2490       33       6    7374        354  10.10.8.179   \n",
       "3         2490       33       6    7374        354  10.10.8.179   \n",
       "4         2490       33       6    7374        354  10.10.8.179   \n",
       "\n",
       "                 MAC FECHA_CONTRATO MEDIO_CONEXION   PREFIJO  ...    LATITUD  \\\n",
       "0  24:A4:3C:4E:88:94     2017-10-23   RADIO ENLACE  NO TIENE  ...        NaN   \n",
       "1  44:D9:E7:5C:EA:1C     2018-04-04   RADIO ENLACE  NO TIENE  ...        NaN   \n",
       "2  FC:EC:DA:64:0F:42     2018-10-04   RADIO ENLACE        FE  ... -76.519489   \n",
       "3  FC:EC:DA:64:0F:42     2018-10-04   RADIO ENLACE        FE  ... -76.519489   \n",
       "4  FC:EC:DA:64:0F:42     2018-10-04   RADIO ENLACE        FE  ... -76.519489   \n",
       "\n",
       "                            COORDENADAS  ID_PLAN_ISP  PRODUCTO  MAX_BAJADA  \\\n",
       "0                                   NaN           33       309       22000   \n",
       "1                                   NaN           33       309       22000   \n",
       "2  3.415502003973917,-76.51948932806492           33       309       22000   \n",
       "3  3.415502003973917,-76.51948932806492           33       309       22000   \n",
       "4  3.415502003973917,-76.51948932806492           33       309       22000   \n",
       "\n",
       "  MAX_SUBIDA  MIN_BAJADA  MIN_SUBIDA  ID_PRODUCTO              NOMBRE_PRODUCTO  \n",
       "0      10000           0           0          309  INTERNET HOGAR RADIO BASICO  \n",
       "1      10000           0           0          309  INTERNET HOGAR RADIO BASICO  \n",
       "2      10000           0           0          309  INTERNET HOGAR RADIO BASICO  \n",
       "3      10000           0           0          309  INTERNET HOGAR RADIO BASICO  \n",
       "4      10000           0           0          309  INTERNET HOGAR RADIO BASICO  \n",
       "\n",
       "[5 rows x 37 columns]"
      ]
     },
     "execution_count": 132,
     "metadata": {},
     "output_type": "execute_result"
    }
   ],
   "source": [
    "datos.head()"
   ]
  },
  {
   "cell_type": "markdown",
   "id": "efef809a",
   "metadata": {},
   "source": [
    "### DataFrame"
   ]
  },
  {
   "cell_type": "code",
   "execution_count": 140,
   "id": "2edbce87",
   "metadata": {},
   "outputs": [
    {
     "data": {
      "text/plain": [
       "Index(['PREFIJO', 'CONSECUTIVO', 'ID_FACTURA', 'SUCURSAL', 'CLIENTE', 'TOTAL',\n",
       "       'FECHA', 'DIA', 'MES', 'AÑO', 'CONTRATO', 'USUARIO'],\n",
       "      dtype='object')"
      ]
     },
     "execution_count": 140,
     "metadata": {},
     "output_type": "execute_result"
    }
   ],
   "source": [
    "df_main = pd.DataFrame(tbl_facturas)\n",
    "df_main.columns"
   ]
  },
  {
   "cell_type": "markdown",
   "id": "dc1927e1",
   "metadata": {},
   "source": [
    "\n",
    "### Se analiza el resultado para hallar las posibles correlaciones entre Total en ventas y los planes de internet."
   ]
  },
  {
   "cell_type": "code",
   "execution_count": 141,
   "id": "2403fff0",
   "metadata": {
    "scrolled": true
   },
   "outputs": [
    {
     "data": {
      "text/plain": [
       "(array([3.0040e+04, 1.4483e+04, 8.9800e+02, 9.0000e+00, 2.1000e+01,\n",
       "        9.0000e+00, 0.0000e+00, 0.0000e+00, 0.0000e+00, 3.0000e+00]),\n",
       " array([  2100.,  24418.,  46736.,  69054.,  91372., 113690., 136008.,\n",
       "        158326., 180644., 202962., 225280.]),\n",
       " <BarContainer object of 10 artists>)"
      ]
     },
     "execution_count": 141,
     "metadata": {},
     "output_type": "execute_result"
    },
    {
     "data": {
      "image/png": "[encoded data removed]",
      "text/plain": [
       "<Figure size 432x288 with 1 Axes>"
      ]
     },
     "metadata": {
      "needs_background": "light"
     },
     "output_type": "display_data"
    }
   ],
   "source": [
    "# Histograma de velocidad de descarga Kb\n",
    "plt.hist(datos[\"MAX_BAJADA\"])"
   ]
  },
  {
   "cell_type": "markdown",
   "id": "805b49ce",
   "metadata": {},
   "source": [
    "### Varias empresas de la categoría de proveedores de internet poseen mayores velocidades en sus planes que la empresa x. Este hecho puede afectar el desempeño en ventas del servicio."
   ]
  },
  {
   "cell_type": "code",
   "execution_count": 143,
   "id": "638fc63d",
   "metadata": {},
   "outputs": [
    {
     "data": {
      "image/png": "[encoded data removed]",
      "text/plain": [
       "<Figure size 720x504 with 1 Axes>"
      ]
     },
     "metadata": {
      "needs_background": "light"
     },
     "output_type": "display_data"
    }
   ],
   "source": [
    "# Gráfica de la velocidad de descarga Kb\n",
    "plot = datos[\"MAX_BAJADA\"].plot(figsize=(10,7))"
   ]
  },
  {
   "cell_type": "markdown",
   "id": "fbcec7c5",
   "metadata": {},
   "source": [
    "### Comportamientos"
   ]
  },
  {
   "cell_type": "code",
   "execution_count": 144,
   "id": "c2306637",
   "metadata": {
    "scrolled": true
   },
   "outputs": [],
   "source": [
    "# Librerias\n",
    "from datetime import datetime, timedelta\n",
    "from matplotlib import dates as mpl_dates"
   ]
  },
  {
   "cell_type": "code",
   "execution_count": 145,
   "id": "ba73261c",
   "metadata": {},
   "outputs": [
    {
     "name": "stdout",
     "output_type": "stream",
     "text": [
      "Fecha inicial 2013-07-01 00:00:00\n",
      "Fecha final 2021-05-20 00:00:00\n",
      "Cantidad de dias 2880 days 00:00:00\n"
     ]
    }
   ],
   "source": [
    "print(\"Fecha inicial\", df_main['FECHA'].min())\n",
    "print(\"Fecha final\", df_main['FECHA'].max())\n",
    "print(\"Cantidad de dias\", df_main['FECHA'].max() - df_main['FECHA'].min() )"
   ]
  },
  {
   "cell_type": "code",
   "execution_count": 146,
   "id": "c4fde0aa",
   "metadata": {},
   "outputs": [
    {
     "data": {
      "text/html": [
       "<div>\n",
       "<style scoped>\n",
       "    .dataframe tbody tr th:only-of-type {\n",
       "        vertical-align: middle;\n",
       "    }\n",
       "\n",
       "    .dataframe tbody tr th {\n",
       "        vertical-align: top;\n",
       "    }\n",
       "\n",
       "    .dataframe thead th {\n",
       "        text-align: right;\n",
       "    }\n",
       "</style>\n",
       "<table border=\"1\" class=\"dataframe\">\n",
       "  <thead>\n",
       "    <tr style=\"text-align: right;\">\n",
       "      <th></th>\n",
       "      <th>TOTAL</th>\n",
       "    </tr>\n",
       "    <tr>\n",
       "      <th>FECHA</th>\n",
       "      <th></th>\n",
       "    </tr>\n",
       "  </thead>\n",
       "  <tbody>\n",
       "    <tr>\n",
       "      <th>2013-07-01</th>\n",
       "      <td>5200.0</td>\n",
       "    </tr>\n",
       "    <tr>\n",
       "      <th>2013-07-01</th>\n",
       "      <td>5200.0</td>\n",
       "    </tr>\n",
       "    <tr>\n",
       "      <th>2013-07-02</th>\n",
       "      <td>18200.0</td>\n",
       "    </tr>\n",
       "    <tr>\n",
       "      <th>2013-07-02</th>\n",
       "      <td>60000.0</td>\n",
       "    </tr>\n",
       "    <tr>\n",
       "      <th>2013-07-02</th>\n",
       "      <td>60000.0</td>\n",
       "    </tr>\n",
       "  </tbody>\n",
       "</table>\n",
       "</div>"
      ],
      "text/plain": [
       "              TOTAL\n",
       "FECHA              \n",
       "2013-07-01   5200.0\n",
       "2013-07-01   5200.0\n",
       "2013-07-02  18200.0\n",
       "2013-07-02  60000.0\n",
       "2013-07-02  60000.0"
      ]
     },
     "execution_count": 146,
     "metadata": {},
     "output_type": "execute_result"
    }
   ],
   "source": [
    "# Se crea un Data Frame para realizar la serie de tiempo\n",
    "valor = {\n",
    "    'FECHA' : df_main['FECHA'],\n",
    "    'TOTAL': df_main['TOTAL']\n",
    "}\n",
    "df_valor = pd.DataFrame(valor)\n",
    "# se cambie el index del DataFrame\n",
    "df_valor = df_valor.set_index('FECHA')\n",
    "df_valor.head()"
   ]
  },
  {
   "cell_type": "markdown",
   "id": "a474fe16",
   "metadata": {},
   "source": [
    "### Comportamiento de los ganancias a nivel general"
   ]
  },
  {
   "cell_type": "code",
   "execution_count": 147,
   "id": "b87b7f5b",
   "metadata": {},
   "outputs": [
    {
     "data": {
      "text/plain": [
       "<AxesSubplot:xlabel='FECHA'>"
      ]
     },
     "execution_count": 147,
     "metadata": {},
     "output_type": "execute_result"
    },
    {
     "data": {
      "image/png": "[encoded data removed]",
      "text/plain": [
       "<Figure size 432x288 with 1 Axes>"
      ]
     },
     "metadata": {
      "needs_background": "light"
     },
     "output_type": "display_data"
    }
   ],
   "source": [
    "df_valor.plot()"
   ]
  },
  {
   "cell_type": "markdown",
   "id": "d1489b22",
   "metadata": {},
   "source": [
    "### Total de ventas por mes"
   ]
  },
  {
   "cell_type": "code",
   "execution_count": 154,
   "id": "7da797cc",
   "metadata": {},
   "outputs": [
    {
     "data": {
      "text/plain": [
       "<AxesSubplot:xlabel='FECHA'>"
      ]
     },
     "execution_count": 154,
     "metadata": {},
     "output_type": "execute_result"
    },
    {
     "data": {
      "image/png": "[encoded data removed]",
      "text/plain": [
       "<Figure size 432x288 with 1 Axes>"
      ]
     },
     "metadata": {
      "needs_background": "light"
     },
     "output_type": "display_data"
    }
   ],
   "source": [
    "# resample y agregacion por mes\n",
    "valor_resample_mes = df_valor.TOTAL.resample('M').count()\n",
    "# asignar día de la semana\n",
    "df_resample = pd.concat([valor_resample_mes], axis=1)\n",
    "df_resample['dayofweek'] = df_resample.index.dayofweek # 0 es lunes\n",
    "# lunes a domingo\n",
    "df_lun_to_dom = df_resample[df_resample.dayofweek.isin([0,1,2,3,4,5,6])].TOTAL\n",
    "\n",
    "df_lun_to_dom.plot()"
   ]
  },
  {
   "cell_type": "markdown",
   "id": "c1dde755",
   "metadata": {},
   "source": [
    "### Zonas donde se realizan las ventas"
   ]
  },
  {
   "cell_type": "markdown",
   "id": "7ad255c1",
   "metadata": {},
   "source": [
    "### Series de tiempo ¿cómo serán ventas en las distintas sucursales?"
   ]
  },
  {
   "cell_type": "code",
   "execution_count": 170,
   "id": "f806de60",
   "metadata": {},
   "outputs": [
    {
     "data": {
      "text/plain": [
       "array([['BUENAVENTURA', 56],\n",
       "       ['CALI', 37333],\n",
       "       ['CANDELARIA', 444],\n",
       "       ['CAUCA', 499],\n",
       "       ['DAGUA VALLE', 6457],\n",
       "       ['KM 30', 254]], dtype=object)"
      ]
     },
     "execution_count": 170,
     "metadata": {},
     "output_type": "execute_result"
    }
   ],
   "source": [
    "# Se crea un Data Frame con base al año anterior (2020)\n",
    "from datetime import date\n",
    "\n",
    "valores = {\n",
    "    'FECHA' : datos['FECHA'],\n",
    "    'SUCURSAL': datos['ZONA'],\n",
    "    'QTY' : datos['TOTAL']\n",
    "}\n",
    "\n",
    "df_valores = pd.DataFrame(valores)\n",
    "df_valores= df_valores.groupby(['SUCURSAL'])['QTY'].count().reset_index()\n",
    "df_valores = pd.DataFrame(df_valores)\n",
    "df_valores.drop_duplicates()\n",
    "# Colocar dias por columnas\n",
    "#df_valores= df_valores.groupby(['SUCURSAL'])\n",
    "#df_valores = df_valores.set_index('FECHA').reset_index()\n",
    "#df_valores = df_valores.T\n",
    "#df_valores.rename(columns = {'FECHA':'TEST'}, inplace = True)\n",
    "#ix=pd.DatetimeIndex(df_valores.groupby(['FECHA']))\n",
    "#df_valores = df_valores.reindex(ix)\n",
    "#df_valores= df_valores.groupby(['SUCURSAL','FECHA'])['QTY'].count().reset_index()\n",
    "#df_valores = df_valores.drop(columns=['FECHA'])\n",
    "#df_valores = df_valores.T\n",
    "#df_valores = df_valores.groupby('SUCURSAL').agg('sum')\n",
    "df_valores.values"
   ]
  },
  {
   "cell_type": "code",
   "execution_count": 201,
   "id": "ad72880d",
   "metadata": {},
   "outputs": [],
   "source": [
    "df2 = pd.pivot_table(datos,\n",
    "               index=['ZONA'],\n",
    "               columns=['FECHA'],\n",
    "               values=['TOTAL'],\n",
    "               aggfunc='count',\n",
    "               fill_value=0,\n",
    "               margins=False,\n",
    "               margins_name='Total')"
   ]
  },
  {
   "cell_type": "code",
   "execution_count": 202,
   "id": "fddcc396",
   "metadata": {},
   "outputs": [
    {
     "data": {
      "text/html": [
       "<div>\n",
       "<style scoped>\n",
       "    .dataframe tbody tr th:only-of-type {\n",
       "        vertical-align: middle;\n",
       "    }\n",
       "\n",
       "    .dataframe tbody tr th {\n",
       "        vertical-align: top;\n",
       "    }\n",
       "\n",
       "    .dataframe thead tr th {\n",
       "        text-align: left;\n",
       "    }\n",
       "\n",
       "    .dataframe thead tr:last-of-type th {\n",
       "        text-align: right;\n",
       "    }\n",
       "</style>\n",
       "<table border=\"1\" class=\"dataframe\">\n",
       "  <thead>\n",
       "    <tr>\n",
       "      <th></th>\n",
       "      <th colspan=\"21\" halign=\"left\">TOTAL</th>\n",
       "    </tr>\n",
       "    <tr>\n",
       "      <th>FECHA</th>\n",
       "      <th>2019-10-07</th>\n",
       "      <th>2019-10-10</th>\n",
       "      <th>2019-10-15</th>\n",
       "      <th>2019-10-18</th>\n",
       "      <th>2019-10-21</th>\n",
       "      <th>2019-10-22</th>\n",
       "      <th>2019-10-25</th>\n",
       "      <th>2019-10-29</th>\n",
       "      <th>2019-10-30</th>\n",
       "      <th>2019-10-31</th>\n",
       "      <th>...</th>\n",
       "      <th>2021-05-04</th>\n",
       "      <th>2021-05-06</th>\n",
       "      <th>2021-05-07</th>\n",
       "      <th>2021-05-08</th>\n",
       "      <th>2021-05-10</th>\n",
       "      <th>2021-05-11</th>\n",
       "      <th>2021-05-13</th>\n",
       "      <th>2021-05-18</th>\n",
       "      <th>2021-05-19</th>\n",
       "      <th>2021-05-20</th>\n",
       "    </tr>\n",
       "    <tr>\n",
       "      <th>ZONA</th>\n",
       "      <th></th>\n",
       "      <th></th>\n",
       "      <th></th>\n",
       "      <th></th>\n",
       "      <th></th>\n",
       "      <th></th>\n",
       "      <th></th>\n",
       "      <th></th>\n",
       "      <th></th>\n",
       "      <th></th>\n",
       "      <th></th>\n",
       "      <th></th>\n",
       "      <th></th>\n",
       "      <th></th>\n",
       "      <th></th>\n",
       "      <th></th>\n",
       "      <th></th>\n",
       "      <th></th>\n",
       "      <th></th>\n",
       "      <th></th>\n",
       "      <th></th>\n",
       "    </tr>\n",
       "  </thead>\n",
       "  <tbody>\n",
       "    <tr>\n",
       "      <th>BUENAVENTURA</th>\n",
       "      <td>0</td>\n",
       "      <td>0</td>\n",
       "      <td>1</td>\n",
       "      <td>1</td>\n",
       "      <td>0</td>\n",
       "      <td>1</td>\n",
       "      <td>0</td>\n",
       "      <td>0</td>\n",
       "      <td>0</td>\n",
       "      <td>0</td>\n",
       "      <td>...</td>\n",
       "      <td>0</td>\n",
       "      <td>0</td>\n",
       "      <td>0</td>\n",
       "      <td>0</td>\n",
       "      <td>0</td>\n",
       "      <td>0</td>\n",
       "      <td>0</td>\n",
       "      <td>0</td>\n",
       "      <td>0</td>\n",
       "      <td>0</td>\n",
       "    </tr>\n",
       "    <tr>\n",
       "      <th>CALI</th>\n",
       "      <td>36</td>\n",
       "      <td>228</td>\n",
       "      <td>231</td>\n",
       "      <td>145</td>\n",
       "      <td>47</td>\n",
       "      <td>89</td>\n",
       "      <td>150</td>\n",
       "      <td>74</td>\n",
       "      <td>13</td>\n",
       "      <td>18</td>\n",
       "      <td>...</td>\n",
       "      <td>1</td>\n",
       "      <td>3</td>\n",
       "      <td>809</td>\n",
       "      <td>1</td>\n",
       "      <td>153</td>\n",
       "      <td>2</td>\n",
       "      <td>1</td>\n",
       "      <td>652</td>\n",
       "      <td>75</td>\n",
       "      <td>149</td>\n",
       "    </tr>\n",
       "    <tr>\n",
       "      <th>CANDELARIA</th>\n",
       "      <td>0</td>\n",
       "      <td>0</td>\n",
       "      <td>0</td>\n",
       "      <td>0</td>\n",
       "      <td>0</td>\n",
       "      <td>0</td>\n",
       "      <td>0</td>\n",
       "      <td>0</td>\n",
       "      <td>0</td>\n",
       "      <td>0</td>\n",
       "      <td>...</td>\n",
       "      <td>0</td>\n",
       "      <td>0</td>\n",
       "      <td>40</td>\n",
       "      <td>0</td>\n",
       "      <td>11</td>\n",
       "      <td>0</td>\n",
       "      <td>0</td>\n",
       "      <td>31</td>\n",
       "      <td>6</td>\n",
       "      <td>14</td>\n",
       "    </tr>\n",
       "    <tr>\n",
       "      <th>CAUCA</th>\n",
       "      <td>1</td>\n",
       "      <td>8</td>\n",
       "      <td>7</td>\n",
       "      <td>3</td>\n",
       "      <td>1</td>\n",
       "      <td>2</td>\n",
       "      <td>3</td>\n",
       "      <td>1</td>\n",
       "      <td>0</td>\n",
       "      <td>0</td>\n",
       "      <td>...</td>\n",
       "      <td>0</td>\n",
       "      <td>0</td>\n",
       "      <td>7</td>\n",
       "      <td>0</td>\n",
       "      <td>3</td>\n",
       "      <td>0</td>\n",
       "      <td>0</td>\n",
       "      <td>4</td>\n",
       "      <td>1</td>\n",
       "      <td>0</td>\n",
       "    </tr>\n",
       "    <tr>\n",
       "      <th>DAGUA VALLE</th>\n",
       "      <td>10</td>\n",
       "      <td>41</td>\n",
       "      <td>29</td>\n",
       "      <td>48</td>\n",
       "      <td>8</td>\n",
       "      <td>14</td>\n",
       "      <td>43</td>\n",
       "      <td>16</td>\n",
       "      <td>2</td>\n",
       "      <td>2</td>\n",
       "      <td>...</td>\n",
       "      <td>0</td>\n",
       "      <td>0</td>\n",
       "      <td>123</td>\n",
       "      <td>0</td>\n",
       "      <td>23</td>\n",
       "      <td>0</td>\n",
       "      <td>0</td>\n",
       "      <td>117</td>\n",
       "      <td>5</td>\n",
       "      <td>22</td>\n",
       "    </tr>\n",
       "  </tbody>\n",
       "</table>\n",
       "<p>5 rows × 378 columns</p>\n",
       "</div>"
      ],
      "text/plain": [
       "                  TOTAL                                              \\\n",
       "FECHA        2019-10-07 2019-10-10 2019-10-15 2019-10-18 2019-10-21   \n",
       "ZONA                                                                  \n",
       "BUENAVENTURA          0          0          1          1          0   \n",
       "CALI                 36        228        231        145         47   \n",
       "CANDELARIA            0          0          0          0          0   \n",
       "CAUCA                 1          8          7          3          1   \n",
       "DAGUA VALLE          10         41         29         48          8   \n",
       "\n",
       "                                                                     ...  \\\n",
       "FECHA        2019-10-22 2019-10-25 2019-10-29 2019-10-30 2019-10-31  ...   \n",
       "ZONA                                                                 ...   \n",
       "BUENAVENTURA          1          0          0          0          0  ...   \n",
       "CALI                 89        150         74         13         18  ...   \n",
       "CANDELARIA            0          0          0          0          0  ...   \n",
       "CAUCA                 2          3          1          0          0  ...   \n",
       "DAGUA VALLE          14         43         16          2          2  ...   \n",
       "\n",
       "                                                                     \\\n",
       "FECHA        2021-05-04 2021-05-06 2021-05-07 2021-05-08 2021-05-10   \n",
       "ZONA                                                                  \n",
       "BUENAVENTURA          0          0          0          0          0   \n",
       "CALI                  1          3        809          1        153   \n",
       "CANDELARIA            0          0         40          0         11   \n",
       "CAUCA                 0          0          7          0          3   \n",
       "DAGUA VALLE           0          0        123          0         23   \n",
       "\n",
       "                                                                     \n",
       "FECHA        2021-05-11 2021-05-13 2021-05-18 2021-05-19 2021-05-20  \n",
       "ZONA                                                                 \n",
       "BUENAVENTURA          0          0          0          0          0  \n",
       "CALI                  2          1        652         75        149  \n",
       "CANDELARIA            0          0         31          6         14  \n",
       "CAUCA                 0          0          4          1          0  \n",
       "DAGUA VALLE           0          0        117          5         22  \n",
       "\n",
       "[5 rows x 378 columns]"
      ]
     },
     "execution_count": 202,
     "metadata": {},
     "output_type": "execute_result"
    }
   ],
   "source": [
    "df2.head()"
   ]
  },
  {
   "cell_type": "code",
   "execution_count": 204,
   "id": "5a6688dc",
   "metadata": {},
   "outputs": [
    {
     "data": {
      "text/html": [
       "<div>\n",
       "<style scoped>\n",
       "    .dataframe tbody tr th:only-of-type {\n",
       "        vertical-align: middle;\n",
       "    }\n",
       "\n",
       "    .dataframe tbody tr th {\n",
       "        vertical-align: top;\n",
       "    }\n",
       "\n",
       "    .dataframe thead th {\n",
       "        text-align: right;\n",
       "    }\n",
       "</style>\n",
       "<table border=\"1\" class=\"dataframe\">\n",
       "  <thead>\n",
       "    <tr style=\"text-align: right;\">\n",
       "      <th></th>\n",
       "      <th>Lat</th>\n",
       "      <th>Long</th>\n",
       "      <th>1/22/20</th>\n",
       "      <th>1/23/20</th>\n",
       "      <th>1/24/20</th>\n",
       "      <th>1/25/20</th>\n",
       "      <th>1/26/20</th>\n",
       "      <th>1/27/20</th>\n",
       "      <th>1/28/20</th>\n",
       "      <th>1/29/20</th>\n",
       "      <th>...</th>\n",
       "      <th>7/4/21</th>\n",
       "      <th>7/5/21</th>\n",
       "      <th>7/6/21</th>\n",
       "      <th>7/7/21</th>\n",
       "      <th>7/8/21</th>\n",
       "      <th>7/9/21</th>\n",
       "      <th>7/10/21</th>\n",
       "      <th>7/11/21</th>\n",
       "      <th>7/12/21</th>\n",
       "      <th>7/13/21</th>\n",
       "    </tr>\n",
       "    <tr>\n",
       "      <th>Country/Region</th>\n",
       "      <th></th>\n",
       "      <th></th>\n",
       "      <th></th>\n",
       "      <th></th>\n",
       "      <th></th>\n",
       "      <th></th>\n",
       "      <th></th>\n",
       "      <th></th>\n",
       "      <th></th>\n",
       "      <th></th>\n",
       "      <th></th>\n",
       "      <th></th>\n",
       "      <th></th>\n",
       "      <th></th>\n",
       "      <th></th>\n",
       "      <th></th>\n",
       "      <th></th>\n",
       "      <th></th>\n",
       "      <th></th>\n",
       "      <th></th>\n",
       "      <th></th>\n",
       "    </tr>\n",
       "  </thead>\n",
       "  <tbody>\n",
       "    <tr>\n",
       "      <th>Afghanistan</th>\n",
       "      <td>33.93911</td>\n",
       "      <td>67.709953</td>\n",
       "      <td>0</td>\n",
       "      <td>0</td>\n",
       "      <td>0</td>\n",
       "      <td>0</td>\n",
       "      <td>0</td>\n",
       "      <td>0</td>\n",
       "      <td>0</td>\n",
       "      <td>0</td>\n",
       "      <td>...</td>\n",
       "      <td>120216</td>\n",
       "      <td>125937</td>\n",
       "      <td>127464</td>\n",
       "      <td>129021</td>\n",
       "      <td>130113</td>\n",
       "      <td>131586</td>\n",
       "      <td>131586</td>\n",
       "      <td>131586</td>\n",
       "      <td>134653</td>\n",
       "      <td>134653</td>\n",
       "    </tr>\n",
       "    <tr>\n",
       "      <th>Albania</th>\n",
       "      <td>41.15330</td>\n",
       "      <td>20.168300</td>\n",
       "      <td>0</td>\n",
       "      <td>0</td>\n",
       "      <td>0</td>\n",
       "      <td>0</td>\n",
       "      <td>0</td>\n",
       "      <td>0</td>\n",
       "      <td>0</td>\n",
       "      <td>0</td>\n",
       "      <td>...</td>\n",
       "      <td>132535</td>\n",
       "      <td>132537</td>\n",
       "      <td>132544</td>\n",
       "      <td>132557</td>\n",
       "      <td>132565</td>\n",
       "      <td>132580</td>\n",
       "      <td>132587</td>\n",
       "      <td>132592</td>\n",
       "      <td>132597</td>\n",
       "      <td>132608</td>\n",
       "    </tr>\n",
       "    <tr>\n",
       "      <th>Algeria</th>\n",
       "      <td>28.03390</td>\n",
       "      <td>1.659600</td>\n",
       "      <td>0</td>\n",
       "      <td>0</td>\n",
       "      <td>0</td>\n",
       "      <td>0</td>\n",
       "      <td>0</td>\n",
       "      <td>0</td>\n",
       "      <td>0</td>\n",
       "      <td>0</td>\n",
       "      <td>...</td>\n",
       "      <td>141471</td>\n",
       "      <td>141966</td>\n",
       "      <td>142447</td>\n",
       "      <td>143032</td>\n",
       "      <td>143652</td>\n",
       "      <td>144483</td>\n",
       "      <td>145296</td>\n",
       "      <td>146064</td>\n",
       "      <td>146942</td>\n",
       "      <td>147883</td>\n",
       "    </tr>\n",
       "    <tr>\n",
       "      <th>Andorra</th>\n",
       "      <td>42.50630</td>\n",
       "      <td>1.521800</td>\n",
       "      <td>0</td>\n",
       "      <td>0</td>\n",
       "      <td>0</td>\n",
       "      <td>0</td>\n",
       "      <td>0</td>\n",
       "      <td>0</td>\n",
       "      <td>0</td>\n",
       "      <td>0</td>\n",
       "      <td>...</td>\n",
       "      <td>13918</td>\n",
       "      <td>13918</td>\n",
       "      <td>13991</td>\n",
       "      <td>14021</td>\n",
       "      <td>14050</td>\n",
       "      <td>14075</td>\n",
       "      <td>14075</td>\n",
       "      <td>14075</td>\n",
       "      <td>14155</td>\n",
       "      <td>14167</td>\n",
       "    </tr>\n",
       "    <tr>\n",
       "      <th>Angola</th>\n",
       "      <td>-11.20270</td>\n",
       "      <td>17.873900</td>\n",
       "      <td>0</td>\n",
       "      <td>0</td>\n",
       "      <td>0</td>\n",
       "      <td>0</td>\n",
       "      <td>0</td>\n",
       "      <td>0</td>\n",
       "      <td>0</td>\n",
       "      <td>0</td>\n",
       "      <td>...</td>\n",
       "      <td>39230</td>\n",
       "      <td>39300</td>\n",
       "      <td>39375</td>\n",
       "      <td>39491</td>\n",
       "      <td>39593</td>\n",
       "      <td>39791</td>\n",
       "      <td>39881</td>\n",
       "      <td>39958</td>\n",
       "      <td>40055</td>\n",
       "      <td>40138</td>\n",
       "    </tr>\n",
       "  </tbody>\n",
       "</table>\n",
       "<p>5 rows × 541 columns</p>\n",
       "</div>"
      ],
      "text/plain": [
       "                     Lat       Long  1/22/20  1/23/20  1/24/20  1/25/20  \\\n",
       "Country/Region                                                            \n",
       "Afghanistan     33.93911  67.709953        0        0        0        0   \n",
       "Albania         41.15330  20.168300        0        0        0        0   \n",
       "Algeria         28.03390   1.659600        0        0        0        0   \n",
       "Andorra         42.50630   1.521800        0        0        0        0   \n",
       "Angola         -11.20270  17.873900        0        0        0        0   \n",
       "\n",
       "                1/26/20  1/27/20  1/28/20  1/29/20  ...  7/4/21  7/5/21  \\\n",
       "Country/Region                                      ...                   \n",
       "Afghanistan           0        0        0        0  ...  120216  125937   \n",
       "Albania               0        0        0        0  ...  132535  132537   \n",
       "Algeria               0        0        0        0  ...  141471  141966   \n",
       "Andorra               0        0        0        0  ...   13918   13918   \n",
       "Angola                0        0        0        0  ...   39230   39300   \n",
       "\n",
       "                7/6/21  7/7/21  7/8/21  7/9/21  7/10/21  7/11/21  7/12/21  \\\n",
       "Country/Region                                                              \n",
       "Afghanistan     127464  129021  130113  131586   131586   131586   134653   \n",
       "Albania         132544  132557  132565  132580   132587   132592   132597   \n",
       "Algeria         142447  143032  143652  144483   145296   146064   146942   \n",
       "Andorra          13991   14021   14050   14075    14075    14075    14155   \n",
       "Angola           39375   39491   39593   39791    39881    39958    40055   \n",
       "\n",
       "                7/13/21  \n",
       "Country/Region           \n",
       "Afghanistan      134653  \n",
       "Albania          132608  \n",
       "Algeria          147883  \n",
       "Andorra           14167  \n",
       "Angola            40138  \n",
       "\n",
       "[5 rows x 541 columns]"
      ]
     },
     "execution_count": 204,
     "metadata": {},
     "output_type": "execute_result"
    }
   ],
   "source": [
    "df3 = pd.read_csv(f'time_series_covid19_confirmed_global.csv')\n",
    "df3 = df3.groupby('Country/Region').agg('sum')\n",
    "df3.head()"
   ]
  },
  {
   "cell_type": "code",
   "execution_count": null,
   "id": "4bbe914d",
   "metadata": {},
   "outputs": [],
   "source": []
  }
 ],
 "metadata": {
  "kernelspec": {
   "display_name": "Python 3",
   "language": "python",
   "name": "python3"
  },
  "language_info": {
   "codemirror_mode": {
    "name": "ipython",
    "version": 3
   },
   "file_extension": ".py",
   "mimetype": "text/x-python",
   "name": "python",
   "nbconvert_exporter": "python",
   "pygments_lexer": "ipython3",
   "version": "3.8.8"
  }
 },
 "nbformat": 4,
 "nbformat_minor": 5
}
