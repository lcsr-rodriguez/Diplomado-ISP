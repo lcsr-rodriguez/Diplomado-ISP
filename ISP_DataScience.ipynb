{
 "cells": [
  {
   "cell_type": "markdown",
   "id": "926ff184",
   "metadata": {},
   "source": [
    "# Proyecto de Grado - Ciencia de Datos\n",
    "# Universidad Libre Cali\n",
    "## Leiner Ceballos Rodriguez\n",
    "## David Cespedes"
   ]
  },
  {
   "cell_type": "code",
   "execution_count": 73,
   "id": "845c0cec",
   "metadata": {},
   "outputs": [],
   "source": [
    "import pandas as pd\n",
    "import numpy as np\n",
    "import scipy.stats as ss\n",
    "import seaborn as sns\n",
    "import matplotlib.pyplot as plt\n",
    "from scipy.stats import mode"
   ]
  },
  {
   "cell_type": "code",
   "execution_count": 74,
   "id": "3ee784d8",
   "metadata": {},
   "outputs": [],
   "source": [
    "tbl_facturas = pd.read_excel(\"TBL_FACTURAS.xlsx\")"
   ]
  },
  {
   "cell_type": "code",
   "execution_count": 75,
   "id": "ad347e5f",
   "metadata": {},
   "outputs": [],
   "source": [
    "tbl_sucursales = pd.read_excel(\"TBL_SUCURSALES.xlsx\")"
   ]
  },
  {
   "cell_type": "code",
   "execution_count": 76,
   "id": "5208319d",
   "metadata": {},
   "outputs": [],
   "source": [
    "# Unión entre ambos DataFrames\n",
    "df_fact_sucursal = pd.merge(left=tbl_facturas,right=tbl_sucursales, left_on='SUCURSAL', right_on='ID_SUCURSAL')"
   ]
  },
  {
   "cell_type": "markdown",
   "id": "f9257a18",
   "metadata": {},
   "source": [
    "### Se exportan los datos necesarios para crear un solo DataFrame"
   ]
  },
  {
   "cell_type": "code",
   "execution_count": 77,
   "id": "f3fff7a7",
   "metadata": {},
   "outputs": [],
   "source": [
    "# Se exportan los datos de la tabla de contratos\n",
    "tbl_contratos = pd.read_excel(\"TBL_CONTRATOS.xlsx\")\n",
    "# Unión entre el merge y tbl_contratos\n",
    "merged_contratos = pd.merge(left=tbl_contratos,right=df_fact_sucursal, left_on='ID_CONTRATO', right_on='CONTRATO')\n",
    "# Se exportan los datos de la tabla de planes isp\n",
    "tbl_planes = pd.read_excel(\"TBL_PLANES_ISP.xlsx\")\n",
    "# Unión entre el merge y tbl_planes_isp\n",
    "merged_planes = pd.merge(left=merged_contratos,right=tbl_planes, left_on='PLANISP', right_on='ID_PLAN_ISP')\n",
    "# Se exportan los datos de la tabla de productos\n",
    "tbl_productos = pd.read_excel(\"TBL_PRODUCTOS.xlsx\")\n",
    "# Unión entre el merge y tbl_productos\n",
    "merged_productos = pd.merge(left=merged_planes,right=tbl_productos, left_on='PRODUCTO', right_on='ID_PRODUCTO')"
   ]
  },
  {
   "cell_type": "markdown",
   "id": "991a9c8c",
   "metadata": {},
   "source": [
    "### Datos Finales"
   ]
  },
  {
   "cell_type": "code",
   "execution_count": 78,
   "id": "bf69dbc8",
   "metadata": {},
   "outputs": [],
   "source": [
    "datos = pd.DataFrame(merged_productos)"
   ]
  },
  {
   "cell_type": "markdown",
   "id": "49df20df",
   "metadata": {},
   "source": [
    "### Se limpian los datos vacios o nulos"
   ]
  },
  {
   "cell_type": "code",
   "execution_count": 80,
   "id": "abadbfb1",
   "metadata": {
    "scrolled": true
   },
   "outputs": [
    {
     "name": "stdout",
     "output_type": "stream",
     "text": [
      "<class 'pandas.core.frame.DataFrame'>\n",
      "Int64Index: 45043 entries, 0 to 45042\n",
      "Data columns (total 37 columns):\n",
      " #   Column           Non-Null Count  Dtype         \n",
      "---  ------           --------------  -----         \n",
      " 0   ID_CONTRATO      45043 non-null  int64         \n",
      " 1   PLANISP          45043 non-null  int64         \n",
      " 2   SERVER           45043 non-null  int64         \n",
      " 3   EQUIPO           45043 non-null  int64         \n",
      " 4   ROUTER_UK        45043 non-null  int64         \n",
      " 5   IP               45043 non-null  object        \n",
      " 6   MAC              45043 non-null  object        \n",
      " 7   FECHA_CONTRATO   45043 non-null  datetime64[ns]\n",
      " 8   MEDIO_CONEXION   45043 non-null  object        \n",
      " 9   PREFIJO          45043 non-null  object        \n",
      " 10  CONSECUTIVO      45043 non-null  int64         \n",
      " 11  ID_FACTURA       45043 non-null  int64         \n",
      " 12  SUCURSAL         45043 non-null  int64         \n",
      " 13  CLIENTE          45043 non-null  int64         \n",
      " 14  TOTAL            45043 non-null  float64       \n",
      " 15  FECHA            45043 non-null  datetime64[ns]\n",
      " 16  DIA              45043 non-null  int64         \n",
      " 17  MES              45043 non-null  int64         \n",
      " 18  AÑO              45043 non-null  int64         \n",
      " 19  CONTRATO         45043 non-null  float64       \n",
      " 20  USUARIO          45043 non-null  int64         \n",
      " 21  ID_SUCURSAL      45043 non-null  int64         \n",
      " 22  NOMBRE_SUCURSAL  45043 non-null  object        \n",
      " 23  DIRECCION        44853 non-null  object        \n",
      " 24  CIUDAD           45043 non-null  int64         \n",
      " 25  ZONA             45043 non-null  object        \n",
      " 26  LONGITUD         45043 non-null  float64       \n",
      " 27  LATITUD          45043 non-null  float64       \n",
      " 28  COORDENADAS      45043 non-null  object        \n",
      " 29  ID_PLAN_ISP      45043 non-null  int64         \n",
      " 30  PRODUCTO         45043 non-null  int64         \n",
      " 31  MAX_BAJADA       45043 non-null  int64         \n",
      " 32  MAX_SUBIDA       45043 non-null  int64         \n",
      " 33  MIN_BAJADA       45043 non-null  int64         \n",
      " 34  MIN_SUBIDA       45043 non-null  int64         \n",
      " 35  ID_PRODUCTO      45043 non-null  int64         \n",
      " 36  NOMBRE_PRODUCTO  45043 non-null  object        \n",
      "dtypes: datetime64[ns](2), float64(4), int64(22), object(9)\n",
      "memory usage: 13.1+ MB\n",
      "None\n",
      "ID_CONTRATO          0\n",
      "PLANISP              0\n",
      "SERVER               0\n",
      "EQUIPO               0\n",
      "ROUTER_UK            0\n",
      "IP                   0\n",
      "MAC                  0\n",
      "FECHA_CONTRATO       0\n",
      "MEDIO_CONEXION       0\n",
      "PREFIJO              0\n",
      "CONSECUTIVO          0\n",
      "ID_FACTURA           0\n",
      "SUCURSAL             0\n",
      "CLIENTE              0\n",
      "TOTAL                0\n",
      "FECHA                0\n",
      "DIA                  0\n",
      "MES                  0\n",
      "AÑO                  0\n",
      "CONTRATO             0\n",
      "USUARIO              0\n",
      "ID_SUCURSAL          0\n",
      "NOMBRE_SUCURSAL      0\n",
      "DIRECCION          190\n",
      "CIUDAD               0\n",
      "ZONA                 0\n",
      "LONGITUD             0\n",
      "LATITUD              0\n",
      "COORDENADAS          0\n",
      "ID_PLAN_ISP          0\n",
      "PRODUCTO             0\n",
      "MAX_BAJADA           0\n",
      "MAX_SUBIDA           0\n",
      "MIN_BAJADA           0\n",
      "MIN_SUBIDA           0\n",
      "ID_PRODUCTO          0\n",
      "NOMBRE_PRODUCTO      0\n",
      "dtype: int64\n"
     ]
    }
   ],
   "source": [
    "# ¿Hay datos nulos?\n",
    "print(datos.info())\n",
    "print(datos.isnull().sum())"
   ]
  },
  {
   "cell_type": "markdown",
   "id": "0e122675",
   "metadata": {},
   "source": [
    "### Algunos datos de la base de datos son nulos o NaN, debemos cambiarlo para tener una base de datos uniforme"
   ]
  },
  {
   "cell_type": "code",
   "execution_count": 81,
   "id": "bcfd7df3",
   "metadata": {},
   "outputs": [],
   "source": [
    "datos['DIRECCION'].fillna(\"SIN DIRECCIÓN\", inplace = True)"
   ]
  },
  {
   "cell_type": "markdown",
   "id": "5227040d",
   "metadata": {},
   "source": [
    "### Con el código anterior reemplazamos el valor nulo en los datos por una cadena, támbien se puede reemplazar por el promedio de la columna si fuera un campo de valores o eliminar las filas con datos nulos"
   ]
  },
  {
   "cell_type": "markdown",
   "id": "20cc4efc",
   "metadata": {},
   "source": [
    "### Se genera una visualización de los datos codificados"
   ]
  },
  {
   "cell_type": "code",
   "execution_count": 85,
   "id": "fac39a61",
   "metadata": {},
   "outputs": [
    {
     "data": {
      "text/html": [
       "<div>\n",
       "<style scoped>\n",
       "    .dataframe tbody tr th:only-of-type {\n",
       "        vertical-align: middle;\n",
       "    }\n",
       "\n",
       "    .dataframe tbody tr th {\n",
       "        vertical-align: top;\n",
       "    }\n",
       "\n",
       "    .dataframe thead th {\n",
       "        text-align: right;\n",
       "    }\n",
       "</style>\n",
       "<table border=\"1\" class=\"dataframe\">\n",
       "  <thead>\n",
       "    <tr style=\"text-align: right;\">\n",
       "      <th></th>\n",
       "      <th>ID_CONTRATO</th>\n",
       "      <th>PLANISP</th>\n",
       "      <th>SERVER</th>\n",
       "      <th>EQUIPO</th>\n",
       "      <th>ROUTER_UK</th>\n",
       "      <th>IP</th>\n",
       "      <th>MAC</th>\n",
       "      <th>FECHA_CONTRATO</th>\n",
       "      <th>MEDIO_CONEXION</th>\n",
       "      <th>PREFIJO</th>\n",
       "      <th>...</th>\n",
       "      <th>LATITUD</th>\n",
       "      <th>COORDENADAS</th>\n",
       "      <th>ID_PLAN_ISP</th>\n",
       "      <th>PRODUCTO</th>\n",
       "      <th>MAX_BAJADA</th>\n",
       "      <th>MAX_SUBIDA</th>\n",
       "      <th>MIN_BAJADA</th>\n",
       "      <th>MIN_SUBIDA</th>\n",
       "      <th>ID_PRODUCTO</th>\n",
       "      <th>NOMBRE_PRODUCTO</th>\n",
       "    </tr>\n",
       "  </thead>\n",
       "  <tbody>\n",
       "    <tr>\n",
       "      <th>0</th>\n",
       "      <td>16</td>\n",
       "      <td>13</td>\n",
       "      <td>6</td>\n",
       "      <td>694</td>\n",
       "      <td>155</td>\n",
       "      <td>10.10.8.16</td>\n",
       "      <td>68:72:51:12:3C:20</td>\n",
       "      <td>2017-04-24</td>\n",
       "      <td>RADIO ENLACE</td>\n",
       "      <td>FE</td>\n",
       "      <td>...</td>\n",
       "      <td>-76.684428</td>\n",
       "      <td>2.3516917147644767, -76.68442829923572</td>\n",
       "      <td>13</td>\n",
       "      <td>119</td>\n",
       "      <td>2148</td>\n",
       "      <td>600</td>\n",
       "      <td>0</td>\n",
       "      <td>0</td>\n",
       "      <td>119</td>\n",
       "      <td>INTERNET HOGAR 2 MEGAS</td>\n",
       "    </tr>\n",
       "    <tr>\n",
       "      <th>1</th>\n",
       "      <td>16</td>\n",
       "      <td>13</td>\n",
       "      <td>6</td>\n",
       "      <td>694</td>\n",
       "      <td>155</td>\n",
       "      <td>10.10.8.16</td>\n",
       "      <td>68:72:51:12:3C:20</td>\n",
       "      <td>2017-04-24</td>\n",
       "      <td>RADIO ENLACE</td>\n",
       "      <td>FE</td>\n",
       "      <td>...</td>\n",
       "      <td>-76.684428</td>\n",
       "      <td>2.3516917147644767, -76.68442829923572</td>\n",
       "      <td>13</td>\n",
       "      <td>119</td>\n",
       "      <td>2148</td>\n",
       "      <td>600</td>\n",
       "      <td>0</td>\n",
       "      <td>0</td>\n",
       "      <td>119</td>\n",
       "      <td>INTERNET HOGAR 2 MEGAS</td>\n",
       "    </tr>\n",
       "    <tr>\n",
       "      <th>2</th>\n",
       "      <td>16</td>\n",
       "      <td>13</td>\n",
       "      <td>6</td>\n",
       "      <td>694</td>\n",
       "      <td>155</td>\n",
       "      <td>10.10.8.16</td>\n",
       "      <td>68:72:51:12:3C:20</td>\n",
       "      <td>2017-04-24</td>\n",
       "      <td>RADIO ENLACE</td>\n",
       "      <td>FE</td>\n",
       "      <td>...</td>\n",
       "      <td>-76.684428</td>\n",
       "      <td>2.3516917147644767, -76.68442829923572</td>\n",
       "      <td>13</td>\n",
       "      <td>119</td>\n",
       "      <td>2148</td>\n",
       "      <td>600</td>\n",
       "      <td>0</td>\n",
       "      <td>0</td>\n",
       "      <td>119</td>\n",
       "      <td>INTERNET HOGAR 2 MEGAS</td>\n",
       "    </tr>\n",
       "    <tr>\n",
       "      <th>3</th>\n",
       "      <td>16</td>\n",
       "      <td>13</td>\n",
       "      <td>6</td>\n",
       "      <td>694</td>\n",
       "      <td>155</td>\n",
       "      <td>10.10.8.16</td>\n",
       "      <td>68:72:51:12:3C:20</td>\n",
       "      <td>2017-04-24</td>\n",
       "      <td>RADIO ENLACE</td>\n",
       "      <td>FE</td>\n",
       "      <td>...</td>\n",
       "      <td>-76.684428</td>\n",
       "      <td>2.3516917147644767, -76.68442829923572</td>\n",
       "      <td>13</td>\n",
       "      <td>119</td>\n",
       "      <td>2148</td>\n",
       "      <td>600</td>\n",
       "      <td>0</td>\n",
       "      <td>0</td>\n",
       "      <td>119</td>\n",
       "      <td>INTERNET HOGAR 2 MEGAS</td>\n",
       "    </tr>\n",
       "    <tr>\n",
       "      <th>4</th>\n",
       "      <td>16</td>\n",
       "      <td>13</td>\n",
       "      <td>6</td>\n",
       "      <td>694</td>\n",
       "      <td>155</td>\n",
       "      <td>10.10.8.16</td>\n",
       "      <td>68:72:51:12:3C:20</td>\n",
       "      <td>2017-04-24</td>\n",
       "      <td>RADIO ENLACE</td>\n",
       "      <td>FE</td>\n",
       "      <td>...</td>\n",
       "      <td>-76.684428</td>\n",
       "      <td>2.3516917147644767, -76.68442829923572</td>\n",
       "      <td>13</td>\n",
       "      <td>119</td>\n",
       "      <td>2148</td>\n",
       "      <td>600</td>\n",
       "      <td>0</td>\n",
       "      <td>0</td>\n",
       "      <td>119</td>\n",
       "      <td>INTERNET HOGAR 2 MEGAS</td>\n",
       "    </tr>\n",
       "  </tbody>\n",
       "</table>\n",
       "<p>5 rows × 37 columns</p>\n",
       "</div>"
      ],
      "text/plain": [
       "   ID_CONTRATO  PLANISP  SERVER  EQUIPO  ROUTER_UK          IP  \\\n",
       "0           16       13       6     694        155  10.10.8.16   \n",
       "1           16       13       6     694        155  10.10.8.16   \n",
       "2           16       13       6     694        155  10.10.8.16   \n",
       "3           16       13       6     694        155  10.10.8.16   \n",
       "4           16       13       6     694        155  10.10.8.16   \n",
       "\n",
       "                 MAC FECHA_CONTRATO MEDIO_CONEXION PREFIJO  ...    LATITUD  \\\n",
       "0  68:72:51:12:3C:20     2017-04-24   RADIO ENLACE      FE  ... -76.684428   \n",
       "1  68:72:51:12:3C:20     2017-04-24   RADIO ENLACE      FE  ... -76.684428   \n",
       "2  68:72:51:12:3C:20     2017-04-24   RADIO ENLACE      FE  ... -76.684428   \n",
       "3  68:72:51:12:3C:20     2017-04-24   RADIO ENLACE      FE  ... -76.684428   \n",
       "4  68:72:51:12:3C:20     2017-04-24   RADIO ENLACE      FE  ... -76.684428   \n",
       "\n",
       "                              COORDENADAS  ID_PLAN_ISP  PRODUCTO  MAX_BAJADA  \\\n",
       "0  2.3516917147644767, -76.68442829923572           13       119        2148   \n",
       "1  2.3516917147644767, -76.68442829923572           13       119        2148   \n",
       "2  2.3516917147644767, -76.68442829923572           13       119        2148   \n",
       "3  2.3516917147644767, -76.68442829923572           13       119        2148   \n",
       "4  2.3516917147644767, -76.68442829923572           13       119        2148   \n",
       "\n",
       "  MAX_SUBIDA  MIN_BAJADA  MIN_SUBIDA  ID_PRODUCTO         NOMBRE_PRODUCTO  \n",
       "0        600           0           0          119  INTERNET HOGAR 2 MEGAS  \n",
       "1        600           0           0          119  INTERNET HOGAR 2 MEGAS  \n",
       "2        600           0           0          119  INTERNET HOGAR 2 MEGAS  \n",
       "3        600           0           0          119  INTERNET HOGAR 2 MEGAS  \n",
       "4        600           0           0          119  INTERNET HOGAR 2 MEGAS  \n",
       "\n",
       "[5 rows x 37 columns]"
      ]
     },
     "execution_count": 85,
     "metadata": {},
     "output_type": "execute_result"
    }
   ],
   "source": [
    "datos.head()"
   ]
  },
  {
   "cell_type": "markdown",
   "id": "0c968f19",
   "metadata": {},
   "source": [
    "### Se imprime un total de 45.043 registros con 37 variables"
   ]
  },
  {
   "cell_type": "code",
   "execution_count": 83,
   "id": "6d7f7005",
   "metadata": {},
   "outputs": [
    {
     "name": "stdout",
     "output_type": "stream",
     "text": [
      "<class 'pandas.core.frame.DataFrame'>\n",
      "Int64Index: 45043 entries, 0 to 45042\n",
      "Data columns (total 37 columns):\n",
      " #   Column           Non-Null Count  Dtype         \n",
      "---  ------           --------------  -----         \n",
      " 0   ID_CONTRATO      45043 non-null  int64         \n",
      " 1   PLANISP          45043 non-null  int64         \n",
      " 2   SERVER           45043 non-null  int64         \n",
      " 3   EQUIPO           45043 non-null  int64         \n",
      " 4   ROUTER_UK        45043 non-null  int64         \n",
      " 5   IP               45043 non-null  object        \n",
      " 6   MAC              45043 non-null  object        \n",
      " 7   FECHA_CONTRATO   45043 non-null  datetime64[ns]\n",
      " 8   MEDIO_CONEXION   45043 non-null  object        \n",
      " 9   PREFIJO          45043 non-null  object        \n",
      " 10  CONSECUTIVO      45043 non-null  int64         \n",
      " 11  ID_FACTURA       45043 non-null  int64         \n",
      " 12  SUCURSAL         45043 non-null  int64         \n",
      " 13  CLIENTE          45043 non-null  int64         \n",
      " 14  TOTAL            45043 non-null  float64       \n",
      " 15  FECHA            45043 non-null  datetime64[ns]\n",
      " 16  DIA              45043 non-null  int64         \n",
      " 17  MES              45043 non-null  int64         \n",
      " 18  AÑO              45043 non-null  int64         \n",
      " 19  CONTRATO         45043 non-null  float64       \n",
      " 20  USUARIO          45043 non-null  int64         \n",
      " 21  ID_SUCURSAL      45043 non-null  int64         \n",
      " 22  NOMBRE_SUCURSAL  45043 non-null  object        \n",
      " 23  DIRECCION        45043 non-null  object        \n",
      " 24  CIUDAD           45043 non-null  int64         \n",
      " 25  ZONA             45043 non-null  object        \n",
      " 26  LONGITUD         45043 non-null  float64       \n",
      " 27  LATITUD          45043 non-null  float64       \n",
      " 28  COORDENADAS      45043 non-null  object        \n",
      " 29  ID_PLAN_ISP      45043 non-null  int64         \n",
      " 30  PRODUCTO         45043 non-null  int64         \n",
      " 31  MAX_BAJADA       45043 non-null  int64         \n",
      " 32  MAX_SUBIDA       45043 non-null  int64         \n",
      " 33  MIN_BAJADA       45043 non-null  int64         \n",
      " 34  MIN_SUBIDA       45043 non-null  int64         \n",
      " 35  ID_PRODUCTO      45043 non-null  int64         \n",
      " 36  NOMBRE_PRODUCTO  45043 non-null  object        \n",
      "dtypes: datetime64[ns](2), float64(4), int64(22), object(9)\n",
      "memory usage: 13.1+ MB\n",
      "None\n"
     ]
    }
   ],
   "source": [
    "print(datos.info())"
   ]
  },
  {
   "cell_type": "markdown",
   "id": "3a3c87c9",
   "metadata": {},
   "source": [
    "\n",
    "### Se analiza el resultado para hallar las futuras correlaciones entre Total en ventas y los planes de internet."
   ]
  },
  {
   "cell_type": "code",
   "execution_count": 86,
   "id": "1f0c57f5",
   "metadata": {},
   "outputs": [
    {
     "data": {
      "text/plain": [
       "(array([4.4946e+04, 7.4000e+01, 1.8000e+01, 1.0000e+00, 0.0000e+00,\n",
       "        0.0000e+00, 3.0000e+00, 0.0000e+00, 0.0000e+00, 1.0000e+00]),\n",
       " array([2.00000000e+03, 3.93438575e+05, 7.84877150e+05, 1.17631573e+06,\n",
       "        1.56775430e+06, 1.95919288e+06, 2.35063145e+06, 2.74207002e+06,\n",
       "        3.13350860e+06, 3.52494718e+06, 3.91638575e+06]),\n",
       " <BarContainer object of 10 artists>)"
      ]
     },
     "execution_count": 86,
     "metadata": {},
     "output_type": "execute_result"
    },
    {
     "data": {
      "image/png": "[encoded data removed]",
      "text/plain": [
       "<Figure size 432x288 with 1 Axes>"
      ]
     },
     "metadata": {
      "needs_background": "light"
     },
     "output_type": "display_data"
    }
   ],
   "source": [
    "# Histograma de ventas\n",
    "plt.hist(datos[\"TOTAL\"])"
   ]
  },
  {
   "cell_type": "code",
   "execution_count": 87,
   "id": "949f2bae",
   "metadata": {
    "scrolled": true
   },
   "outputs": [
    {
     "data": {
      "text/plain": [
       "(array([2.5027e+04, 4.7950e+03, 1.2495e+04, 1.8750e+03, 8.2400e+02,\n",
       "        5.0000e+00, 0.0000e+00, 0.0000e+00, 0.0000e+00, 2.2000e+01]),\n",
       " array([  2100.,  14178.,  26256.,  38334.,  50412.,  62490.,  74568.,\n",
       "         86646.,  98724., 110802., 122880.]),\n",
       " <BarContainer object of 10 artists>)"
      ]
     },
     "execution_count": 87,
     "metadata": {},
     "output_type": "execute_result"
    },
    {
     "data": {
      "image/png": "[encoded data removed]",
      "text/plain": [
       "<Figure size 432x288 with 1 Axes>"
      ]
     },
     "metadata": {
      "needs_background": "light"
     },
     "output_type": "display_data"
    }
   ],
   "source": [
    "# Histograma de velocidad de descarga Kb\n",
    "plt.hist(datos[\"MAX_BAJADA\"])"
   ]
  },
  {
   "cell_type": "markdown",
   "id": "7f0bbc4b",
   "metadata": {},
   "source": [
    "### Varias empresas de la categoría de proveedores de internet poseen mayores velocidades en sus planes que la empresa x. Este hecho puede afectar el desempeño en ventas del servicio."
   ]
  },
  {
   "cell_type": "code",
   "execution_count": 88,
   "id": "fbbed2b2",
   "metadata": {},
   "outputs": [
    {
     "data": {
      "image/png": "[encoded data removed]",
      "text/plain": [
       "<Figure size 1080x648 with 1 Axes>"
      ]
     },
     "metadata": {
      "needs_background": "light"
     },
     "output_type": "display_data"
    }
   ],
   "source": [
    "# Gráfica de la velocidad de descarga Kb\n",
    "plot = datos[\"MAX_BAJADA\"].plot(figsize=(15, 9))"
   ]
  },
  {
   "cell_type": "code",
   "execution_count": 89,
   "id": "d70451fe",
   "metadata": {},
   "outputs": [
    {
     "data": {
      "image/png": "[encoded data removed]",
      "text/plain": [
       "<Figure size 1080x648 with 1 Axes>"
      ]
     },
     "metadata": {
      "needs_background": "light"
     },
     "output_type": "display_data"
    }
   ],
   "source": [
    "# Gráfica de las ventas\n",
    "plot = datos[\"TOTAL\"].plot(figsize=(15, 9))"
   ]
  },
  {
   "cell_type": "markdown",
   "id": "d044eeab",
   "metadata": {},
   "source": [
    "### La variable de MES nos indica el comportamiento de las ventas durante los 12 meses del año"
   ]
  },
  {
   "cell_type": "code",
   "execution_count": 90,
   "id": "003d1968",
   "metadata": {},
   "outputs": [
    {
     "data": {
      "text/plain": [
       "(array([8861., 5272., 4804., 4514., 2021., 2352., 2280., 2496., 3932.,\n",
       "        8511.]),\n",
       " array([ 1. ,  2.1,  3.2,  4.3,  5.4,  6.5,  7.6,  8.7,  9.8, 10.9, 12. ]),\n",
       " <BarContainer object of 10 artists>)"
      ]
     },
     "execution_count": 90,
     "metadata": {},
     "output_type": "execute_result"
    },
    {
     "data": {
      "image/png": "[encoded data removed]",
      "text/plain": [
       "<Figure size 432x288 with 1 Axes>"
      ]
     },
     "metadata": {
      "needs_background": "light"
     },
     "output_type": "display_data"
    }
   ],
   "source": [
    "plt.hist(datos[\"MES\"])"
   ]
  },
  {
   "cell_type": "markdown",
   "id": "353260c1",
   "metadata": {},
   "source": [
    "### La variable “AÑO” muestra el comportamiento de las ventas durante un periodo de tiempo y su futura variación"
   ]
  },
  {
   "cell_type": "code",
   "execution_count": 93,
   "id": "c3549360",
   "metadata": {},
   "outputs": [
    {
     "data": {
      "image/png": "[encoded data removed]",
      "text/plain": [
       "<Figure size 720x504 with 1 Axes>"
      ]
     },
     "metadata": {
      "needs_background": "light"
     },
     "output_type": "display_data"
    }
   ],
   "source": [
    "plt.figure(figsize=(10,7))\n",
    "plt.hist(datos[\"AÑO\"])\n",
    "plt.show()"
   ]
  },
  {
   "cell_type": "markdown",
   "id": "8da22176",
   "metadata": {},
   "source": [
    "### Agrupación de datos, promedio de planes vendidos por MES y por AÑO"
   ]
  },
  {
   "cell_type": "code",
   "execution_count": 96,
   "id": "7aca03e4",
   "metadata": {
    "scrolled": true
   },
   "outputs": [
    {
     "data": {
      "text/plain": [
       "MES\n",
       "1     55733.222433\n",
       "2     56199.910072\n",
       "3     55851.443864\n",
       "4     56239.157971\n",
       "5     56423.344284\n",
       "6     56631.385929\n",
       "7     56939.447261\n",
       "8     55838.984437\n",
       "9     57819.219450\n",
       "10    55451.479134\n",
       "11    55588.542605\n",
       "12    58014.692395\n",
       "Name: TOTAL, dtype: float64"
      ]
     },
     "execution_count": 96,
     "metadata": {},
     "output_type": "execute_result"
    }
   ],
   "source": [
    "ventas_mes=datos.groupby('MES').mean()\n",
    "ventas_mes['TOTAL']"
   ]
  },
  {
   "cell_type": "code",
   "execution_count": 97,
   "id": "870054ee",
   "metadata": {},
   "outputs": [
    {
     "data": {
      "text/plain": [
       "AÑO\n",
       "2019    53774.421004\n",
       "2020    56446.953778\n",
       "2021    56834.173630\n",
       "Name: TOTAL, dtype: float64"
      ]
     },
     "execution_count": 97,
     "metadata": {},
     "output_type": "execute_result"
    }
   ],
   "source": [
    "# Promedio de ventas por año\n",
    "ventas_year = datos.groupby('AÑO').mean()\n",
    "ventas_year['TOTAL']"
   ]
  },
  {
   "cell_type": "code",
   "execution_count": null,
   "id": "34b9c276",
   "metadata": {},
   "outputs": [],
   "source": []
  }
 ],
 "metadata": {
  "kernelspec": {
   "display_name": "Python 3",
   "language": "python",
   "name": "python3"
  },
  "language_info": {
   "codemirror_mode": {
    "name": "ipython",
    "version": 3
   },
   "file_extension": ".py",
   "mimetype": "text/x-python",
   "name": "python",
   "nbconvert_exporter": "python",
   "pygments_lexer": "ipython3",
   "version": "3.8.8"
  }
 },
 "nbformat": 4,
 "nbformat_minor": 5
}
