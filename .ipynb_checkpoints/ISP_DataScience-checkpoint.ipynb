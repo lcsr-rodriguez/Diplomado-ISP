{
 "cells": [
  {
   "cell_type": "markdown",
   "id": "926ff184",
   "metadata": {},
   "source": [
    "# Proyecto de Grado - Ciencia de Datos\n",
    "# Universidad Libre Cali\n",
    "## Leiner Ceballos Rodriguez\n",
    "## David Cespedes"
   ]
  },
  {
   "cell_type": "code",
   "execution_count": 1,
   "id": "845c0cec",
   "metadata": {},
   "outputs": [],
   "source": [
    "import pandas as pd\n",
    "import numpy as np\n",
    "import numpy.ma as ma\n",
    "import scipy.stats as ss\n",
    "import seaborn as sns\n",
    "import matplotlib.pyplot as plt\n",
    "from scipy.stats import mode\n",
    "from datetime import datetime, timedelta\n",
    "from matplotlib import dates as mpl_dates"
   ]
  },
  {
   "cell_type": "code",
   "execution_count": 2,
   "id": "3ee784d8",
   "metadata": {},
   "outputs": [],
   "source": [
    "# Tabla de facturas\n",
    "tbl_facturas = pd.read_excel(\"TBL_FACTURAS.xlsx\")"
   ]
  },
  {
   "cell_type": "code",
   "execution_count": 3,
   "id": "ad347e5f",
   "metadata": {},
   "outputs": [],
   "source": [
    "# Tabla de sucursales\n",
    "tbl_sucursales = pd.read_excel(\"TBL_SUCURSALES.xlsx\")"
   ]
  },
  {
   "cell_type": "code",
   "execution_count": 4,
   "id": "5208319d",
   "metadata": {},
   "outputs": [],
   "source": [
    "# Unión entre ambos DataFrames\n",
    "df_fact_sucursal = pd.merge(left=tbl_facturas,right=tbl_sucursales, left_on='SUCURSAL', right_on='ID_SUCURSAL')"
   ]
  },
  {
   "cell_type": "markdown",
   "id": "f9257a18",
   "metadata": {},
   "source": [
    "### Se exportan los datos necesarios para crear un solo DataFrame"
   ]
  },
  {
   "cell_type": "code",
   "execution_count": 5,
   "id": "f3fff7a7",
   "metadata": {},
   "outputs": [],
   "source": [
    "# Se exportan los datos de la tabla de contratos\n",
    "tbl_contratos = pd.read_excel(\"TBL_CONTRATOS.xlsx\")\n",
    "# Unión entre el merge y tbl_contratos\n",
    "merged_contratos = pd.merge(left=tbl_contratos, right=df_fact_sucursal, how='left', left_on='ID_CONTRATO', right_on='CONTRATO')\n",
    "# Se exportan los datos de la tabla de planes isp\n",
    "tbl_planes = pd.read_excel(\"TBL_PLANES_ISP.xlsx\")\n",
    "# Unión entre el merge y tbl_planes_isp\n",
    "merged_planes = pd.merge(left=merged_contratos,right=tbl_planes, left_on='PLANISP', right_on='ID_PLAN_ISP')\n",
    "# Se exportan los datos de la tabla de productos\n",
    "tbl_productos = pd.read_excel(\"TBL_PRODUCTOS.xlsx\")\n",
    "# Unión entre el merge y tbl_productos\n",
    "merged_productos = pd.merge(left=merged_planes,right=tbl_productos, left_on='PRODUCTO', right_on='ID_PRODUCTO')"
   ]
  },
  {
   "cell_type": "markdown",
   "id": "991a9c8c",
   "metadata": {},
   "source": [
    "### Datos Finales"
   ]
  },
  {
   "cell_type": "code",
   "execution_count": 6,
   "id": "bf69dbc8",
   "metadata": {},
   "outputs": [],
   "source": [
    "# DataFrame de Datos\n",
    "datos = pd.DataFrame(merged_productos)\n",
    "df_principal = pd.DataFrame(df_fact_sucursal)"
   ]
  },
  {
   "cell_type": "markdown",
   "id": "49df20df",
   "metadata": {},
   "source": [
    "### Se limpian los datos vacios o nulos"
   ]
  },
  {
   "cell_type": "code",
   "execution_count": 7,
   "id": "abadbfb1",
   "metadata": {
    "scrolled": true
   },
   "outputs": [
    {
     "name": "stdout",
     "output_type": "stream",
     "text": [
      "<class 'pandas.core.frame.DataFrame'>\n",
      "Int64Index: 45463 entries, 0 to 45462\n",
      "Data columns (total 37 columns):\n",
      " #   Column           Non-Null Count  Dtype         \n",
      "---  ------           --------------  -----         \n",
      " 0   ID_CONTRATO      45463 non-null  int64         \n",
      " 1   PLANISP          45463 non-null  int64         \n",
      " 2   SERVER           45463 non-null  int64         \n",
      " 3   EQUIPO           45463 non-null  int64         \n",
      " 4   ROUTER_UK        45463 non-null  int64         \n",
      " 5   IP               45463 non-null  object        \n",
      " 6   MAC              45462 non-null  object        \n",
      " 7   FECHA_CONTRATO   45463 non-null  datetime64[ns]\n",
      " 8   MEDIO_CONEXION   45463 non-null  object        \n",
      " 9   PREFIJO          45043 non-null  object        \n",
      " 10  CONSECUTIVO      45043 non-null  float64       \n",
      " 11  ID_FACTURA       45043 non-null  float64       \n",
      " 12  SUCURSAL         45043 non-null  float64       \n",
      " 13  CLIENTE          45043 non-null  float64       \n",
      " 14  TOTAL            45043 non-null  float64       \n",
      " 15  FECHA            45043 non-null  datetime64[ns]\n",
      " 16  DIA              45043 non-null  float64       \n",
      " 17  MES              45043 non-null  float64       \n",
      " 18  AÑO              45043 non-null  float64       \n",
      " 19  CONTRATO         45043 non-null  float64       \n",
      " 20  USUARIO          45043 non-null  float64       \n",
      " 21  ID_SUCURSAL      45043 non-null  float64       \n",
      " 22  NOMBRE_SUCURSAL  45043 non-null  object        \n",
      " 23  DIRECCION        44853 non-null  object        \n",
      " 24  CIUDAD           45043 non-null  float64       \n",
      " 25  ZONA             45043 non-null  object        \n",
      " 26  LONGITUD         45043 non-null  float64       \n",
      " 27  LATITUD          45043 non-null  float64       \n",
      " 28  COORDENADAS      45043 non-null  object        \n",
      " 29  ID_PLAN_ISP      45463 non-null  int64         \n",
      " 30  PRODUCTO         45463 non-null  int64         \n",
      " 31  MAX_BAJADA       45463 non-null  int64         \n",
      " 32  MAX_SUBIDA       45463 non-null  int64         \n",
      " 33  MIN_BAJADA       45463 non-null  int64         \n",
      " 34  MIN_SUBIDA       45463 non-null  int64         \n",
      " 35  ID_PRODUCTO      45463 non-null  int64         \n",
      " 36  NOMBRE_PRODUCTO  45463 non-null  object        \n",
      "dtypes: datetime64[ns](2), float64(14), int64(12), object(9)\n",
      "memory usage: 13.2+ MB\n",
      "None\n",
      "ID_CONTRATO          0\n",
      "PLANISP              0\n",
      "SERVER               0\n",
      "EQUIPO               0\n",
      "ROUTER_UK            0\n",
      "IP                   0\n",
      "MAC                  1\n",
      "FECHA_CONTRATO       0\n",
      "MEDIO_CONEXION       0\n",
      "PREFIJO            420\n",
      "CONSECUTIVO        420\n",
      "ID_FACTURA         420\n",
      "SUCURSAL           420\n",
      "CLIENTE            420\n",
      "TOTAL              420\n",
      "FECHA              420\n",
      "DIA                420\n",
      "MES                420\n",
      "AÑO                420\n",
      "CONTRATO           420\n",
      "USUARIO            420\n",
      "ID_SUCURSAL        420\n",
      "NOMBRE_SUCURSAL    420\n",
      "DIRECCION          610\n",
      "CIUDAD             420\n",
      "ZONA               420\n",
      "LONGITUD           420\n",
      "LATITUD            420\n",
      "COORDENADAS        420\n",
      "ID_PLAN_ISP          0\n",
      "PRODUCTO             0\n",
      "MAX_BAJADA           0\n",
      "MAX_SUBIDA           0\n",
      "MIN_BAJADA           0\n",
      "MIN_SUBIDA           0\n",
      "ID_PRODUCTO          0\n",
      "NOMBRE_PRODUCTO      0\n",
      "dtype: int64\n"
     ]
    }
   ],
   "source": [
    "# ¿Hay datos nulos?\n",
    "print(datos.info())\n",
    "print(datos.isnull().sum())"
   ]
  },
  {
   "cell_type": "markdown",
   "id": "0e122675",
   "metadata": {},
   "source": [
    "### Algunos datos de la base de datos son nulos o NaN, debemos cambiarlo para tener una base de datos uniforme"
   ]
  },
  {
   "cell_type": "code",
   "execution_count": 8,
   "id": "bcfd7df3",
   "metadata": {},
   "outputs": [],
   "source": [
    "datos['DIRECCION'].fillna(\"SIN DIRECCIÓN\", inplace = True) # Direccion\n",
    "datos['PREFIJO'].fillna(\"NO TIENE\", inplace = True) # Prefijo\n",
    "datos['ID_FACTURA'].fillna(0, inplace = True) # id factura\n",
    "datos['SUCURSAL'].fillna(0, inplace = True) # Sucursal\n",
    "datos['CLIENTE'].fillna(0, inplace = True) # Cliente\n",
    "datos['TOTAL'].fillna(0, inplace = True) # Total\n",
    "datos['CONTRATO'].fillna(0, inplace = True) # Contrato\n",
    "datos['USUARIO'].fillna(0, inplace = True) # Usuario\n",
    "datos['ID_SUCURSAL'].fillna(0, inplace = True) # Id sucursal"
   ]
  },
  {
   "cell_type": "markdown",
   "id": "5227040d",
   "metadata": {},
   "source": [
    "### Con el código anterior reemplazamos el valor nulo en los datos por una cadena, támbien se puede reemplazar por el promedio de la columna si fuera un campo de valores o eliminar las filas con datos nulos"
   ]
  },
  {
   "cell_type": "markdown",
   "id": "957c7073",
   "metadata": {},
   "source": [
    "### Se genera una visualización de los datos codificados"
   ]
  },
  {
   "cell_type": "code",
   "execution_count": 9,
   "id": "fac39a61",
   "metadata": {},
   "outputs": [
    {
     "data": {
      "text/html": [
       "<div>\n",
       "<style scoped>\n",
       "    .dataframe tbody tr th:only-of-type {\n",
       "        vertical-align: middle;\n",
       "    }\n",
       "\n",
       "    .dataframe tbody tr th {\n",
       "        vertical-align: top;\n",
       "    }\n",
       "\n",
       "    .dataframe thead th {\n",
       "        text-align: right;\n",
       "    }\n",
       "</style>\n",
       "<table border=\"1\" class=\"dataframe\">\n",
       "  <thead>\n",
       "    <tr style=\"text-align: right;\">\n",
       "      <th></th>\n",
       "      <th>ID_CONTRATO</th>\n",
       "      <th>PLANISP</th>\n",
       "      <th>SERVER</th>\n",
       "      <th>EQUIPO</th>\n",
       "      <th>ROUTER_UK</th>\n",
       "      <th>IP</th>\n",
       "      <th>MAC</th>\n",
       "      <th>FECHA_CONTRATO</th>\n",
       "      <th>MEDIO_CONEXION</th>\n",
       "      <th>PREFIJO</th>\n",
       "      <th>...</th>\n",
       "      <th>LATITUD</th>\n",
       "      <th>COORDENADAS</th>\n",
       "      <th>ID_PLAN_ISP</th>\n",
       "      <th>PRODUCTO</th>\n",
       "      <th>MAX_BAJADA</th>\n",
       "      <th>MAX_SUBIDA</th>\n",
       "      <th>MIN_BAJADA</th>\n",
       "      <th>MIN_SUBIDA</th>\n",
       "      <th>ID_PRODUCTO</th>\n",
       "      <th>NOMBRE_PRODUCTO</th>\n",
       "    </tr>\n",
       "  </thead>\n",
       "  <tbody>\n",
       "    <tr>\n",
       "      <th>0</th>\n",
       "      <td>1</td>\n",
       "      <td>33</td>\n",
       "      <td>6</td>\n",
       "      <td>451</td>\n",
       "      <td>155</td>\n",
       "      <td>10.10.8.10</td>\n",
       "      <td>24:A4:3C:4E:88:94</td>\n",
       "      <td>2017-10-23</td>\n",
       "      <td>RADIO ENLACE</td>\n",
       "      <td>NO TIENE</td>\n",
       "      <td>...</td>\n",
       "      <td>NaN</td>\n",
       "      <td>NaN</td>\n",
       "      <td>33</td>\n",
       "      <td>309</td>\n",
       "      <td>22000</td>\n",
       "      <td>10000</td>\n",
       "      <td>0</td>\n",
       "      <td>0</td>\n",
       "      <td>309</td>\n",
       "      <td>INTERNET HOGAR RADIO BASICO</td>\n",
       "    </tr>\n",
       "    <tr>\n",
       "      <th>1</th>\n",
       "      <td>2010</td>\n",
       "      <td>33</td>\n",
       "      <td>1</td>\n",
       "      <td>6560</td>\n",
       "      <td>311</td>\n",
       "      <td>10.1.0.13</td>\n",
       "      <td>44:D9:E7:5C:EA:1C</td>\n",
       "      <td>2018-04-04</td>\n",
       "      <td>RADIO ENLACE</td>\n",
       "      <td>NO TIENE</td>\n",
       "      <td>...</td>\n",
       "      <td>NaN</td>\n",
       "      <td>NaN</td>\n",
       "      <td>33</td>\n",
       "      <td>309</td>\n",
       "      <td>22000</td>\n",
       "      <td>10000</td>\n",
       "      <td>0</td>\n",
       "      <td>0</td>\n",
       "      <td>309</td>\n",
       "      <td>INTERNET HOGAR RADIO BASICO</td>\n",
       "    </tr>\n",
       "    <tr>\n",
       "      <th>2</th>\n",
       "      <td>2490</td>\n",
       "      <td>33</td>\n",
       "      <td>6</td>\n",
       "      <td>7374</td>\n",
       "      <td>354</td>\n",
       "      <td>10.10.8.179</td>\n",
       "      <td>FC:EC:DA:64:0F:42</td>\n",
       "      <td>2018-10-04</td>\n",
       "      <td>RADIO ENLACE</td>\n",
       "      <td>FE</td>\n",
       "      <td>...</td>\n",
       "      <td>-76.519489</td>\n",
       "      <td>3.415502003973917,-76.51948932806492</td>\n",
       "      <td>33</td>\n",
       "      <td>309</td>\n",
       "      <td>22000</td>\n",
       "      <td>10000</td>\n",
       "      <td>0</td>\n",
       "      <td>0</td>\n",
       "      <td>309</td>\n",
       "      <td>INTERNET HOGAR RADIO BASICO</td>\n",
       "    </tr>\n",
       "    <tr>\n",
       "      <th>3</th>\n",
       "      <td>2490</td>\n",
       "      <td>33</td>\n",
       "      <td>6</td>\n",
       "      <td>7374</td>\n",
       "      <td>354</td>\n",
       "      <td>10.10.8.179</td>\n",
       "      <td>FC:EC:DA:64:0F:42</td>\n",
       "      <td>2018-10-04</td>\n",
       "      <td>RADIO ENLACE</td>\n",
       "      <td>FE</td>\n",
       "      <td>...</td>\n",
       "      <td>-76.519489</td>\n",
       "      <td>3.415502003973917,-76.51948932806492</td>\n",
       "      <td>33</td>\n",
       "      <td>309</td>\n",
       "      <td>22000</td>\n",
       "      <td>10000</td>\n",
       "      <td>0</td>\n",
       "      <td>0</td>\n",
       "      <td>309</td>\n",
       "      <td>INTERNET HOGAR RADIO BASICO</td>\n",
       "    </tr>\n",
       "    <tr>\n",
       "      <th>4</th>\n",
       "      <td>2490</td>\n",
       "      <td>33</td>\n",
       "      <td>6</td>\n",
       "      <td>7374</td>\n",
       "      <td>354</td>\n",
       "      <td>10.10.8.179</td>\n",
       "      <td>FC:EC:DA:64:0F:42</td>\n",
       "      <td>2018-10-04</td>\n",
       "      <td>RADIO ENLACE</td>\n",
       "      <td>FE</td>\n",
       "      <td>...</td>\n",
       "      <td>-76.519489</td>\n",
       "      <td>3.415502003973917,-76.51948932806492</td>\n",
       "      <td>33</td>\n",
       "      <td>309</td>\n",
       "      <td>22000</td>\n",
       "      <td>10000</td>\n",
       "      <td>0</td>\n",
       "      <td>0</td>\n",
       "      <td>309</td>\n",
       "      <td>INTERNET HOGAR RADIO BASICO</td>\n",
       "    </tr>\n",
       "  </tbody>\n",
       "</table>\n",
       "<p>5 rows × 37 columns</p>\n",
       "</div>"
      ],
      "text/plain": [
       "   ID_CONTRATO  PLANISP  SERVER  EQUIPO  ROUTER_UK           IP  \\\n",
       "0            1       33       6     451        155   10.10.8.10   \n",
       "1         2010       33       1    6560        311    10.1.0.13   \n",
       "2         2490       33       6    7374        354  10.10.8.179   \n",
       "3         2490       33       6    7374        354  10.10.8.179   \n",
       "4         2490       33       6    7374        354  10.10.8.179   \n",
       "\n",
       "                 MAC FECHA_CONTRATO MEDIO_CONEXION   PREFIJO  ...    LATITUD  \\\n",
       "0  24:A4:3C:4E:88:94     2017-10-23   RADIO ENLACE  NO TIENE  ...        NaN   \n",
       "1  44:D9:E7:5C:EA:1C     2018-04-04   RADIO ENLACE  NO TIENE  ...        NaN   \n",
       "2  FC:EC:DA:64:0F:42     2018-10-04   RADIO ENLACE        FE  ... -76.519489   \n",
       "3  FC:EC:DA:64:0F:42     2018-10-04   RADIO ENLACE        FE  ... -76.519489   \n",
       "4  FC:EC:DA:64:0F:42     2018-10-04   RADIO ENLACE        FE  ... -76.519489   \n",
       "\n",
       "                            COORDENADAS  ID_PLAN_ISP  PRODUCTO  MAX_BAJADA  \\\n",
       "0                                   NaN           33       309       22000   \n",
       "1                                   NaN           33       309       22000   \n",
       "2  3.415502003973917,-76.51948932806492           33       309       22000   \n",
       "3  3.415502003973917,-76.51948932806492           33       309       22000   \n",
       "4  3.415502003973917,-76.51948932806492           33       309       22000   \n",
       "\n",
       "  MAX_SUBIDA  MIN_BAJADA  MIN_SUBIDA  ID_PRODUCTO              NOMBRE_PRODUCTO  \n",
       "0      10000           0           0          309  INTERNET HOGAR RADIO BASICO  \n",
       "1      10000           0           0          309  INTERNET HOGAR RADIO BASICO  \n",
       "2      10000           0           0          309  INTERNET HOGAR RADIO BASICO  \n",
       "3      10000           0           0          309  INTERNET HOGAR RADIO BASICO  \n",
       "4      10000           0           0          309  INTERNET HOGAR RADIO BASICO  \n",
       "\n",
       "[5 rows x 37 columns]"
      ]
     },
     "execution_count": 9,
     "metadata": {},
     "output_type": "execute_result"
    }
   ],
   "source": [
    "datos.head()"
   ]
  },
  {
   "cell_type": "markdown",
   "id": "dc1927e1",
   "metadata": {},
   "source": [
    "\n",
    "### Se analiza el resultado para hallar las posibles correlaciones entre Total en ventas y los planes de internet."
   ]
  },
  {
   "cell_type": "code",
   "execution_count": 10,
   "id": "2403fff0",
   "metadata": {
    "scrolled": true
   },
   "outputs": [
    {
     "data": {
      "text/plain": [
       "(array([3.0040e+04, 1.4483e+04, 8.9800e+02, 9.0000e+00, 2.1000e+01,\n",
       "        9.0000e+00, 0.0000e+00, 0.0000e+00, 0.0000e+00, 3.0000e+00]),\n",
       " array([  2100.,  24418.,  46736.,  69054.,  91372., 113690., 136008.,\n",
       "        158326., 180644., 202962., 225280.]),\n",
       " <BarContainer object of 10 artists>)"
      ]
     },
     "execution_count": 10,
     "metadata": {},
     "output_type": "execute_result"
    }
   ],
   "source": [
    "# Histograma de velocidad de descarga Kb\n",
    "plt.hist(datos[\"MAX_BAJADA\"])\n"
   ]
  },
  {
   "cell_type": "markdown",
   "id": "805b49ce",
   "metadata": {},
   "source": [
    "### Varias empresas de la categoría de proveedores de internet poseen mayores velocidades en sus planes que la empresa x. Este hecho puede afectar el desempeño en ventas del servicio."
   ]
  },
  {
   "cell_type": "code",
   "execution_count": 11,
   "id": "638fc63d",
   "metadata": {},
   "outputs": [
    {
     "data": {
      "image/png": "[encoded data removed]",
      "text/plain": [
       "<Figure size 640x480 with 1 Axes>"
      ]
     },
     "metadata": {},
     "output_type": "display_data"
    }
   ],
   "source": [
    "# Gráfica de la velocidad de descarga Kb\n",
    "plt.hist(datos[\"MAX_BAJADA\"], lw = 2)\n",
    "plt.xlabel('Cantidad de usuarios por precio de plan')\n",
    "plt.ylabel('Cantidad de usuarios')\n",
    "plt.title('Velocidad del plan')\n",
    "plt.grid(True)\n",
    "  \n",
    "plt.show()"
   ]
  },
  {
   "cell_type": "markdown",
   "id": "fbcec7c5",
   "metadata": {},
   "source": [
    "### Comportamientos"
   ]
  },
  {
   "cell_type": "code",
   "execution_count": 12,
   "id": "ba73261c",
   "metadata": {},
   "outputs": [
    {
     "name": "stdout",
     "output_type": "stream",
     "text": [
      "Fecha inicial 2013-07-01 00:00:00\n",
      "Fecha final 2021-05-20 00:00:00\n",
      "Cantidad de dias 2880 days 00:00:00\n"
     ]
    }
   ],
   "source": [
    "print(\"Fecha inicial\", df_principal['FECHA'].min())\n",
    "print(\"Fecha final\", df_principal['FECHA'].max())\n",
    "print(\"Cantidad de dias\", df_principal['FECHA'].max() - df_principal['FECHA'].min() )"
   ]
  },
  {
   "cell_type": "code",
   "execution_count": 13,
   "id": "c4fde0aa",
   "metadata": {},
   "outputs": [
    {
     "data": {
      "text/html": [
       "<div>\n",
       "<style scoped>\n",
       "    .dataframe tbody tr th:only-of-type {\n",
       "        vertical-align: middle;\n",
       "    }\n",
       "\n",
       "    .dataframe tbody tr th {\n",
       "        vertical-align: top;\n",
       "    }\n",
       "\n",
       "    .dataframe thead th {\n",
       "        text-align: right;\n",
       "    }\n",
       "</style>\n",
       "<table border=\"1\" class=\"dataframe\">\n",
       "  <thead>\n",
       "    <tr style=\"text-align: right;\">\n",
       "      <th></th>\n",
       "      <th>TOTAL</th>\n",
       "    </tr>\n",
       "    <tr>\n",
       "      <th>FECHA</th>\n",
       "      <th></th>\n",
       "    </tr>\n",
       "  </thead>\n",
       "  <tbody>\n",
       "    <tr>\n",
       "      <th>2013-07-01</th>\n",
       "      <td>5200.0</td>\n",
       "    </tr>\n",
       "    <tr>\n",
       "      <th>2013-07-01</th>\n",
       "      <td>5200.0</td>\n",
       "    </tr>\n",
       "    <tr>\n",
       "      <th>2013-07-02</th>\n",
       "      <td>18200.0</td>\n",
       "    </tr>\n",
       "    <tr>\n",
       "      <th>2013-07-02</th>\n",
       "      <td>60000.0</td>\n",
       "    </tr>\n",
       "    <tr>\n",
       "      <th>2013-07-02</th>\n",
       "      <td>60000.0</td>\n",
       "    </tr>\n",
       "  </tbody>\n",
       "</table>\n",
       "</div>"
      ],
      "text/plain": [
       "              TOTAL\n",
       "FECHA              \n",
       "2013-07-01   5200.0\n",
       "2013-07-01   5200.0\n",
       "2013-07-02  18200.0\n",
       "2013-07-02  60000.0\n",
       "2013-07-02  60000.0"
      ]
     },
     "execution_count": 13,
     "metadata": {},
     "output_type": "execute_result"
    }
   ],
   "source": [
    "# Se crea un Data Frame\n",
    "valor = {\n",
    "    'FECHA' : df_principal['FECHA'],\n",
    "    'TOTAL': df_principal['TOTAL']\n",
    "}\n",
    "df_valor = pd.DataFrame(valor)\n",
    "# se cambie el index del DataFrame\n",
    "df_valor = df_valor.set_index('FECHA')\n",
    "df_valor.head()"
   ]
  },
  {
   "cell_type": "markdown",
   "id": "a474fe16",
   "metadata": {},
   "source": [
    "### Comportamiento de los ganancias a nivel general"
   ]
  },
  {
   "cell_type": "code",
   "execution_count": 14,
   "id": "b87b7f5b",
   "metadata": {},
   "outputs": [
    {
     "data": {
      "text/plain": [
       "<AxesSubplot:xlabel='FECHA'>"
      ]
     },
     "execution_count": 14,
     "metadata": {},
     "output_type": "execute_result"
    }
   ],
   "source": [
    "df_valor.plot()"
   ]
  },
  {
   "cell_type": "markdown",
   "id": "d1489b22",
   "metadata": {},
   "source": [
    "### Total de ventas por mes"
   ]
  },
  {
   "cell_type": "code",
   "execution_count": 15,
   "id": "7da797cc",
   "metadata": {},
   "outputs": [
    {
     "data": {
      "text/plain": [
       "<AxesSubplot:xlabel='FECHA'>"
      ]
     },
     "execution_count": 15,
     "metadata": {},
     "output_type": "execute_result"
    }
   ],
   "source": [
    "# resample y agregacion por mes\n",
    "valor_resample_mes = df_valor.TOTAL.resample('M').count()\n",
    "# asignar día de la semana\n",
    "df_resample = pd.concat([valor_resample_mes], axis=1)\n",
    "df_resample['dayofweek'] = df_resample.index.dayofweek # 0 es lunes\n",
    "# lunes a domingo\n",
    "df_lun_to_dom = df_resample[df_resample.dayofweek.isin([0,1,2,3,4,5,6])].TOTAL\n",
    "\n",
    "df_lun_to_dom.plot()"
   ]
  },
  {
   "cell_type": "code",
   "execution_count": 16,
   "id": "b0a3e252",
   "metadata": {},
   "outputs": [
    {
     "data": {
      "image/png": "[encoded data removed]",
      "text/plain": [
       "<Figure size 640x480 with 1 Axes>"
      ]
     },
     "metadata": {},
     "output_type": "display_data"
    }
   ],
   "source": [
    "plt.plot(df_lun_to_dom, lw = 2)\n",
    "plt.xlabel('Mes')\n",
    "plt.ylabel('Cantidad Ventas')\n",
    "plt.title('Ventas Lunes a Domingo')\n",
    "plt.grid(True)\n",
    "  \n",
    "plt.show()"
   ]
  },
  {
   "cell_type": "markdown",
   "id": "c1dde755",
   "metadata": {},
   "source": [
    "## Zonas donde se realizan las ventas"
   ]
  },
  {
   "cell_type": "markdown",
   "id": "7ad255c1",
   "metadata": {},
   "source": [
    "### Series de tiempo ¿cómo serán ventas en las distintas sucursales?"
   ]
  },
  {
   "cell_type": "code",
   "execution_count": 17,
   "id": "10642b52",
   "metadata": {},
   "outputs": [],
   "source": [
    "df2 = pd.pivot_table(df_principal,\n",
    "               index=['ZONA'],\n",
    "               columns=['FECHA'],\n",
    "               values=['TOTAL'],\n",
    "               aggfunc='count',\n",
    "               fill_value=0,\n",
    "               margins=False,\n",
    "               margins_name='Total')"
   ]
  },
  {
   "cell_type": "markdown",
   "id": "3e9794d3",
   "metadata": {},
   "source": [
    "#### Se suman las filas"
   ]
  },
  {
   "cell_type": "code",
   "execution_count": 18,
   "id": "fddcc396",
   "metadata": {},
   "outputs": [
    {
     "data": {
      "text/html": [
       "<div>\n",
       "<style scoped>\n",
       "    .dataframe tbody tr th:only-of-type {\n",
       "        vertical-align: middle;\n",
       "    }\n",
       "\n",
       "    .dataframe tbody tr th {\n",
       "        vertical-align: top;\n",
       "    }\n",
       "\n",
       "    .dataframe thead tr th {\n",
       "        text-align: left;\n",
       "    }\n",
       "\n",
       "    .dataframe thead tr:last-of-type th {\n",
       "        text-align: right;\n",
       "    }\n",
       "</style>\n",
       "<table border=\"1\" class=\"dataframe\">\n",
       "  <thead>\n",
       "    <tr>\n",
       "      <th></th>\n",
       "      <th colspan=\"21\" halign=\"left\">TOTAL</th>\n",
       "    </tr>\n",
       "    <tr>\n",
       "      <th>FECHA</th>\n",
       "      <th>2013-07-01</th>\n",
       "      <th>2013-07-02</th>\n",
       "      <th>2013-07-03</th>\n",
       "      <th>2013-07-08</th>\n",
       "      <th>2013-07-13</th>\n",
       "      <th>2013-07-16</th>\n",
       "      <th>2013-07-28</th>\n",
       "      <th>2013-07-29</th>\n",
       "      <th>2013-08-01</th>\n",
       "      <th>2013-08-08</th>\n",
       "      <th>...</th>\n",
       "      <th>2021-05-04</th>\n",
       "      <th>2021-05-06</th>\n",
       "      <th>2021-05-07</th>\n",
       "      <th>2021-05-08</th>\n",
       "      <th>2021-05-10</th>\n",
       "      <th>2021-05-11</th>\n",
       "      <th>2021-05-13</th>\n",
       "      <th>2021-05-18</th>\n",
       "      <th>2021-05-19</th>\n",
       "      <th>2021-05-20</th>\n",
       "    </tr>\n",
       "    <tr>\n",
       "      <th>ZONA</th>\n",
       "      <th></th>\n",
       "      <th></th>\n",
       "      <th></th>\n",
       "      <th></th>\n",
       "      <th></th>\n",
       "      <th></th>\n",
       "      <th></th>\n",
       "      <th></th>\n",
       "      <th></th>\n",
       "      <th></th>\n",
       "      <th></th>\n",
       "      <th></th>\n",
       "      <th></th>\n",
       "      <th></th>\n",
       "      <th></th>\n",
       "      <th></th>\n",
       "      <th></th>\n",
       "      <th></th>\n",
       "      <th></th>\n",
       "      <th></th>\n",
       "      <th></th>\n",
       "    </tr>\n",
       "  </thead>\n",
       "  <tbody>\n",
       "    <tr>\n",
       "      <th>BUENAVENTURA</th>\n",
       "      <td>0</td>\n",
       "      <td>0</td>\n",
       "      <td>0</td>\n",
       "      <td>0</td>\n",
       "      <td>0</td>\n",
       "      <td>0</td>\n",
       "      <td>0</td>\n",
       "      <td>0</td>\n",
       "      <td>0</td>\n",
       "      <td>0</td>\n",
       "      <td>...</td>\n",
       "      <td>0</td>\n",
       "      <td>0</td>\n",
       "      <td>0</td>\n",
       "      <td>0</td>\n",
       "      <td>0</td>\n",
       "      <td>0</td>\n",
       "      <td>0</td>\n",
       "      <td>0</td>\n",
       "      <td>0</td>\n",
       "      <td>0</td>\n",
       "    </tr>\n",
       "    <tr>\n",
       "      <th>CALI</th>\n",
       "      <td>0</td>\n",
       "      <td>0</td>\n",
       "      <td>1</td>\n",
       "      <td>0</td>\n",
       "      <td>0</td>\n",
       "      <td>0</td>\n",
       "      <td>0</td>\n",
       "      <td>0</td>\n",
       "      <td>1</td>\n",
       "      <td>0</td>\n",
       "      <td>...</td>\n",
       "      <td>1</td>\n",
       "      <td>3</td>\n",
       "      <td>815</td>\n",
       "      <td>1</td>\n",
       "      <td>157</td>\n",
       "      <td>2</td>\n",
       "      <td>1</td>\n",
       "      <td>658</td>\n",
       "      <td>75</td>\n",
       "      <td>150</td>\n",
       "    </tr>\n",
       "    <tr>\n",
       "      <th>CANDELARIA</th>\n",
       "      <td>0</td>\n",
       "      <td>0</td>\n",
       "      <td>0</td>\n",
       "      <td>0</td>\n",
       "      <td>0</td>\n",
       "      <td>0</td>\n",
       "      <td>0</td>\n",
       "      <td>0</td>\n",
       "      <td>0</td>\n",
       "      <td>0</td>\n",
       "      <td>...</td>\n",
       "      <td>0</td>\n",
       "      <td>0</td>\n",
       "      <td>46</td>\n",
       "      <td>0</td>\n",
       "      <td>11</td>\n",
       "      <td>0</td>\n",
       "      <td>0</td>\n",
       "      <td>34</td>\n",
       "      <td>7</td>\n",
       "      <td>17</td>\n",
       "    </tr>\n",
       "    <tr>\n",
       "      <th>CAUCA</th>\n",
       "      <td>0</td>\n",
       "      <td>0</td>\n",
       "      <td>0</td>\n",
       "      <td>0</td>\n",
       "      <td>0</td>\n",
       "      <td>0</td>\n",
       "      <td>0</td>\n",
       "      <td>0</td>\n",
       "      <td>0</td>\n",
       "      <td>0</td>\n",
       "      <td>...</td>\n",
       "      <td>0</td>\n",
       "      <td>0</td>\n",
       "      <td>7</td>\n",
       "      <td>0</td>\n",
       "      <td>3</td>\n",
       "      <td>0</td>\n",
       "      <td>0</td>\n",
       "      <td>4</td>\n",
       "      <td>1</td>\n",
       "      <td>0</td>\n",
       "    </tr>\n",
       "    <tr>\n",
       "      <th>CENTRO</th>\n",
       "      <td>0</td>\n",
       "      <td>0</td>\n",
       "      <td>0</td>\n",
       "      <td>0</td>\n",
       "      <td>0</td>\n",
       "      <td>0</td>\n",
       "      <td>0</td>\n",
       "      <td>0</td>\n",
       "      <td>0</td>\n",
       "      <td>0</td>\n",
       "      <td>...</td>\n",
       "      <td>0</td>\n",
       "      <td>0</td>\n",
       "      <td>0</td>\n",
       "      <td>0</td>\n",
       "      <td>0</td>\n",
       "      <td>0</td>\n",
       "      <td>0</td>\n",
       "      <td>0</td>\n",
       "      <td>0</td>\n",
       "      <td>0</td>\n",
       "    </tr>\n",
       "    <tr>\n",
       "      <th>DAGUA VALLE</th>\n",
       "      <td>2</td>\n",
       "      <td>125</td>\n",
       "      <td>0</td>\n",
       "      <td>4</td>\n",
       "      <td>1</td>\n",
       "      <td>2</td>\n",
       "      <td>1</td>\n",
       "      <td>2</td>\n",
       "      <td>127</td>\n",
       "      <td>1</td>\n",
       "      <td>...</td>\n",
       "      <td>0</td>\n",
       "      <td>0</td>\n",
       "      <td>125</td>\n",
       "      <td>0</td>\n",
       "      <td>23</td>\n",
       "      <td>0</td>\n",
       "      <td>0</td>\n",
       "      <td>117</td>\n",
       "      <td>5</td>\n",
       "      <td>23</td>\n",
       "    </tr>\n",
       "    <tr>\n",
       "      <th>KM 30</th>\n",
       "      <td>0</td>\n",
       "      <td>0</td>\n",
       "      <td>0</td>\n",
       "      <td>0</td>\n",
       "      <td>0</td>\n",
       "      <td>0</td>\n",
       "      <td>0</td>\n",
       "      <td>0</td>\n",
       "      <td>0</td>\n",
       "      <td>0</td>\n",
       "      <td>...</td>\n",
       "      <td>0</td>\n",
       "      <td>0</td>\n",
       "      <td>4</td>\n",
       "      <td>0</td>\n",
       "      <td>1</td>\n",
       "      <td>0</td>\n",
       "      <td>0</td>\n",
       "      <td>2</td>\n",
       "      <td>0</td>\n",
       "      <td>1</td>\n",
       "    </tr>\n",
       "  </tbody>\n",
       "</table>\n",
       "<p>7 rows × 1653 columns</p>\n",
       "</div>"
      ],
      "text/plain": [
       "                  TOTAL                                              \\\n",
       "FECHA        2013-07-01 2013-07-02 2013-07-03 2013-07-08 2013-07-13   \n",
       "ZONA                                                                  \n",
       "BUENAVENTURA          0          0          0          0          0   \n",
       "CALI                  0          0          1          0          0   \n",
       "CANDELARIA            0          0          0          0          0   \n",
       "CAUCA                 0          0          0          0          0   \n",
       "CENTRO                0          0          0          0          0   \n",
       "DAGUA VALLE           2        125          0          4          1   \n",
       "KM 30                 0          0          0          0          0   \n",
       "\n",
       "                                                                     ...  \\\n",
       "FECHA        2013-07-16 2013-07-28 2013-07-29 2013-08-01 2013-08-08  ...   \n",
       "ZONA                                                                 ...   \n",
       "BUENAVENTURA          0          0          0          0          0  ...   \n",
       "CALI                  0          0          0          1          0  ...   \n",
       "CANDELARIA            0          0          0          0          0  ...   \n",
       "CAUCA                 0          0          0          0          0  ...   \n",
       "CENTRO                0          0          0          0          0  ...   \n",
       "DAGUA VALLE           2          1          2        127          1  ...   \n",
       "KM 30                 0          0          0          0          0  ...   \n",
       "\n",
       "                                                                     \\\n",
       "FECHA        2021-05-04 2021-05-06 2021-05-07 2021-05-08 2021-05-10   \n",
       "ZONA                                                                  \n",
       "BUENAVENTURA          0          0          0          0          0   \n",
       "CALI                  1          3        815          1        157   \n",
       "CANDELARIA            0          0         46          0         11   \n",
       "CAUCA                 0          0          7          0          3   \n",
       "CENTRO                0          0          0          0          0   \n",
       "DAGUA VALLE           0          0        125          0         23   \n",
       "KM 30                 0          0          4          0          1   \n",
       "\n",
       "                                                                     \n",
       "FECHA        2021-05-11 2021-05-13 2021-05-18 2021-05-19 2021-05-20  \n",
       "ZONA                                                                 \n",
       "BUENAVENTURA          0          0          0          0          0  \n",
       "CALI                  2          1        658         75        150  \n",
       "CANDELARIA            0          0         34          7         17  \n",
       "CAUCA                 0          0          4          1          0  \n",
       "CENTRO                0          0          0          0          0  \n",
       "DAGUA VALLE           0          0        117          5         23  \n",
       "KM 30                 0          0          2          0          1  \n",
       "\n",
       "[7 rows x 1653 columns]"
      ]
     },
     "execution_count": 18,
     "metadata": {},
     "output_type": "execute_result"
    }
   ],
   "source": [
    "# se cambia el nombre del index\n",
    "df2 = df2.rename_axis(['ZONA'])\n",
    "df2 = df2.groupby('ZONA').agg('sum')\n",
    "df2"
   ]
  },
  {
   "cell_type": "markdown",
   "id": "77331f47",
   "metadata": {},
   "source": [
    "#### Se toman las zonas como columnas"
   ]
  },
  {
   "cell_type": "code",
   "execution_count": 19,
   "id": "1254e403",
   "metadata": {},
   "outputs": [
    {
     "data": {
      "text/html": [
       "<div>\n",
       "<style scoped>\n",
       "    .dataframe tbody tr th:only-of-type {\n",
       "        vertical-align: middle;\n",
       "    }\n",
       "\n",
       "    .dataframe tbody tr th {\n",
       "        vertical-align: top;\n",
       "    }\n",
       "\n",
       "    .dataframe thead th {\n",
       "        text-align: right;\n",
       "    }\n",
       "</style>\n",
       "<table border=\"1\" class=\"dataframe\">\n",
       "  <thead>\n",
       "    <tr style=\"text-align: right;\">\n",
       "      <th></th>\n",
       "      <th>ZONA</th>\n",
       "      <th>BUENAVENTURA</th>\n",
       "      <th>CALI</th>\n",
       "      <th>CANDELARIA</th>\n",
       "      <th>CAUCA</th>\n",
       "      <th>CENTRO</th>\n",
       "      <th>DAGUA VALLE</th>\n",
       "      <th>KM 30</th>\n",
       "    </tr>\n",
       "    <tr>\n",
       "      <th></th>\n",
       "      <th>FECHA</th>\n",
       "      <th></th>\n",
       "      <th></th>\n",
       "      <th></th>\n",
       "      <th></th>\n",
       "      <th></th>\n",
       "      <th></th>\n",
       "      <th></th>\n",
       "    </tr>\n",
       "  </thead>\n",
       "  <tbody>\n",
       "    <tr>\n",
       "      <th rowspan=\"11\" valign=\"top\">TOTAL</th>\n",
       "      <th>2013-07-01</th>\n",
       "      <td>0</td>\n",
       "      <td>0</td>\n",
       "      <td>0</td>\n",
       "      <td>0</td>\n",
       "      <td>0</td>\n",
       "      <td>2</td>\n",
       "      <td>0</td>\n",
       "    </tr>\n",
       "    <tr>\n",
       "      <th>2013-07-02</th>\n",
       "      <td>0</td>\n",
       "      <td>0</td>\n",
       "      <td>0</td>\n",
       "      <td>0</td>\n",
       "      <td>0</td>\n",
       "      <td>125</td>\n",
       "      <td>0</td>\n",
       "    </tr>\n",
       "    <tr>\n",
       "      <th>2013-07-03</th>\n",
       "      <td>0</td>\n",
       "      <td>1</td>\n",
       "      <td>0</td>\n",
       "      <td>0</td>\n",
       "      <td>0</td>\n",
       "      <td>0</td>\n",
       "      <td>0</td>\n",
       "    </tr>\n",
       "    <tr>\n",
       "      <th>2013-07-08</th>\n",
       "      <td>0</td>\n",
       "      <td>0</td>\n",
       "      <td>0</td>\n",
       "      <td>0</td>\n",
       "      <td>0</td>\n",
       "      <td>4</td>\n",
       "      <td>0</td>\n",
       "    </tr>\n",
       "    <tr>\n",
       "      <th>2013-07-13</th>\n",
       "      <td>0</td>\n",
       "      <td>0</td>\n",
       "      <td>0</td>\n",
       "      <td>0</td>\n",
       "      <td>0</td>\n",
       "      <td>1</td>\n",
       "      <td>0</td>\n",
       "    </tr>\n",
       "    <tr>\n",
       "      <th>...</th>\n",
       "      <td>...</td>\n",
       "      <td>...</td>\n",
       "      <td>...</td>\n",
       "      <td>...</td>\n",
       "      <td>...</td>\n",
       "      <td>...</td>\n",
       "      <td>...</td>\n",
       "    </tr>\n",
       "    <tr>\n",
       "      <th>2021-05-11</th>\n",
       "      <td>0</td>\n",
       "      <td>2</td>\n",
       "      <td>0</td>\n",
       "      <td>0</td>\n",
       "      <td>0</td>\n",
       "      <td>0</td>\n",
       "      <td>0</td>\n",
       "    </tr>\n",
       "    <tr>\n",
       "      <th>2021-05-13</th>\n",
       "      <td>0</td>\n",
       "      <td>1</td>\n",
       "      <td>0</td>\n",
       "      <td>0</td>\n",
       "      <td>0</td>\n",
       "      <td>0</td>\n",
       "      <td>0</td>\n",
       "    </tr>\n",
       "    <tr>\n",
       "      <th>2021-05-18</th>\n",
       "      <td>0</td>\n",
       "      <td>658</td>\n",
       "      <td>34</td>\n",
       "      <td>4</td>\n",
       "      <td>0</td>\n",
       "      <td>117</td>\n",
       "      <td>2</td>\n",
       "    </tr>\n",
       "    <tr>\n",
       "      <th>2021-05-19</th>\n",
       "      <td>0</td>\n",
       "      <td>75</td>\n",
       "      <td>7</td>\n",
       "      <td>1</td>\n",
       "      <td>0</td>\n",
       "      <td>5</td>\n",
       "      <td>0</td>\n",
       "    </tr>\n",
       "    <tr>\n",
       "      <th>2021-05-20</th>\n",
       "      <td>0</td>\n",
       "      <td>150</td>\n",
       "      <td>17</td>\n",
       "      <td>0</td>\n",
       "      <td>0</td>\n",
       "      <td>23</td>\n",
       "      <td>1</td>\n",
       "    </tr>\n",
       "  </tbody>\n",
       "</table>\n",
       "<p>1653 rows × 7 columns</p>\n",
       "</div>"
      ],
      "text/plain": [
       "ZONA              BUENAVENTURA  CALI  CANDELARIA  CAUCA  CENTRO  DAGUA VALLE  \\\n",
       "      FECHA                                                                    \n",
       "TOTAL 2013-07-01             0     0           0      0       0            2   \n",
       "      2013-07-02             0     0           0      0       0          125   \n",
       "      2013-07-03             0     1           0      0       0            0   \n",
       "      2013-07-08             0     0           0      0       0            4   \n",
       "      2013-07-13             0     0           0      0       0            1   \n",
       "...                        ...   ...         ...    ...     ...          ...   \n",
       "      2021-05-11             0     2           0      0       0            0   \n",
       "      2021-05-13             0     1           0      0       0            0   \n",
       "      2021-05-18             0   658          34      4       0          117   \n",
       "      2021-05-19             0    75           7      1       0            5   \n",
       "      2021-05-20             0   150          17      0       0           23   \n",
       "\n",
       "ZONA              KM 30  \n",
       "      FECHA              \n",
       "TOTAL 2013-07-01      0  \n",
       "      2013-07-02      0  \n",
       "      2013-07-03      0  \n",
       "      2013-07-08      0  \n",
       "      2013-07-13      0  \n",
       "...                 ...  \n",
       "      2021-05-11      0  \n",
       "      2021-05-13      0  \n",
       "      2021-05-18      2  \n",
       "      2021-05-19      0  \n",
       "      2021-05-20      1  \n",
       "\n",
       "[1653 rows x 7 columns]"
      ]
     },
     "execution_count": 19,
     "metadata": {},
     "output_type": "execute_result"
    }
   ],
   "source": [
    "df2 = df2.T\n",
    "df2"
   ]
  },
  {
   "cell_type": "code",
   "execution_count": 20,
   "id": "bb2e78ab",
   "metadata": {},
   "outputs": [],
   "source": [
    "# Exportamos el Dataframe con los datos\n",
    "df2.to_excel(\"registros.xlsx\")"
   ]
  },
  {
   "cell_type": "code",
   "execution_count": 21,
   "id": "45a05d04",
   "metadata": {},
   "outputs": [
    {
     "name": "stdout",
     "output_type": "stream",
     "text": [
      "<class 'pandas.core.frame.DataFrame'>\n",
      "RangeIndex: 1653 entries, 0 to 1652\n",
      "Data columns (total 8 columns):\n",
      " #   Column        Non-Null Count  Dtype         \n",
      "---  ------        --------------  -----         \n",
      " 0   FECHA         1653 non-null   datetime64[ns]\n",
      " 1   BUENAVENTURA  1653 non-null   int64         \n",
      " 2   CALI          1653 non-null   int64         \n",
      " 3   CANDELARIA    1653 non-null   int64         \n",
      " 4   CAUCA         1653 non-null   int64         \n",
      " 5   CENTRO        1653 non-null   int64         \n",
      " 6   DAGUA VALLE   1653 non-null   int64         \n",
      " 7   KM 30         1653 non-null   int64         \n",
      "dtypes: datetime64[ns](1), int64(7)\n",
      "memory usage: 103.4 KB\n"
     ]
    }
   ],
   "source": [
    "# Importamos la data\n",
    "df_registros_zona = pd.read_excel(\"registros.xlsx\")\n",
    "df_registros_zona.rename({\"Unnamed: 0\":\"first\"}, axis=\"columns\", inplace=True)\n",
    "# Eliminamos el campo vacio creado por el multi index\n",
    "df_registros_zona.drop([\"first\"], axis=1, inplace=True)\n",
    "df_registros_zona.info()"
   ]
  },
  {
   "cell_type": "code",
   "execution_count": 22,
   "id": "63ed9b15",
   "metadata": {},
   "outputs": [
    {
     "name": "stdout",
     "output_type": "stream",
     "text": [
      "FECHA           0\n",
      "BUENAVENTURA    0\n",
      "CALI            0\n",
      "CANDELARIA      0\n",
      "CAUCA           0\n",
      "CENTRO          0\n",
      "DAGUA VALLE     0\n",
      "KM 30           0\n",
      "dtype: int64\n"
     ]
    }
   ],
   "source": [
    "# ¿Hay datos nulos?\n",
    "print(df_registros_zona.isnull().sum())"
   ]
  },
  {
   "cell_type": "markdown",
   "id": "5eff7ed6",
   "metadata": {},
   "source": [
    "#### Para usar la función de análisis de series de tiempo, necesitamos crear un DateTime como columna de índice"
   ]
  },
  {
   "cell_type": "code",
   "execution_count": 23,
   "id": "b7941298",
   "metadata": {},
   "outputs": [],
   "source": [
    "df_registros_zona['FECHA'] = pd.to_datetime(df_registros_zona['FECHA'])\n",
    "# Establece la columna 'Fecha' como índice\n",
    "df_registros_zona = df_registros_zona.set_index('FECHA')\n",
    "# Especifique la frecuencia de fecha y hora\n",
    "df_registros_zona = df_registros_zona.asfreq('D')"
   ]
  },
  {
   "cell_type": "code",
   "execution_count": 24,
   "id": "f2eae6ae",
   "metadata": {},
   "outputs": [
    {
     "name": "stdout",
     "output_type": "stream",
     "text": [
      "BUENAVENTURA    1228\n",
      "CALI            1228\n",
      "CANDELARIA      1228\n",
      "CAUCA           1228\n",
      "CENTRO          1228\n",
      "DAGUA VALLE     1228\n",
      "KM 30           1228\n",
      "dtype: int64\n"
     ]
    }
   ],
   "source": [
    "# ¿Hay datos nulos?\n",
    "print(df_registros_zona.isnull().sum())"
   ]
  },
  {
   "cell_type": "code",
   "execution_count": 25,
   "id": "062d15b3",
   "metadata": {},
   "outputs": [],
   "source": [
    "# Se reemplazan los datos vacios o NaN\n",
    "df_registros_zona.fillna(0, inplace = True) # Direccion"
   ]
  },
  {
   "cell_type": "markdown",
   "id": "1f8d3811",
   "metadata": {},
   "source": [
    "#### Ventas realizadas el día 15 por cada zona"
   ]
  },
  {
   "cell_type": "code",
   "execution_count": 26,
   "id": "337b0bb8",
   "metadata": {},
   "outputs": [
    {
     "data": {
      "text/html": [
       "<div>\n",
       "<style scoped>\n",
       "    .dataframe tbody tr th:only-of-type {\n",
       "        vertical-align: middle;\n",
       "    }\n",
       "\n",
       "    .dataframe tbody tr th {\n",
       "        vertical-align: top;\n",
       "    }\n",
       "\n",
       "    .dataframe thead th {\n",
       "        text-align: right;\n",
       "    }\n",
       "</style>\n",
       "<table border=\"1\" class=\"dataframe\">\n",
       "  <thead>\n",
       "    <tr style=\"text-align: right;\">\n",
       "      <th></th>\n",
       "      <th>BUENAVENTURA</th>\n",
       "      <th>CALI</th>\n",
       "      <th>CANDELARIA</th>\n",
       "      <th>CAUCA</th>\n",
       "      <th>CENTRO</th>\n",
       "      <th>DAGUA VALLE</th>\n",
       "      <th>KM 30</th>\n",
       "    </tr>\n",
       "    <tr>\n",
       "      <th>FECHA</th>\n",
       "      <th></th>\n",
       "      <th></th>\n",
       "      <th></th>\n",
       "      <th></th>\n",
       "      <th></th>\n",
       "      <th></th>\n",
       "      <th></th>\n",
       "    </tr>\n",
       "  </thead>\n",
       "  <tbody>\n",
       "    <tr>\n",
       "      <th>2013-07-15</th>\n",
       "      <td>0.0</td>\n",
       "      <td>0.0</td>\n",
       "      <td>0.0</td>\n",
       "      <td>0.0</td>\n",
       "      <td>0.0</td>\n",
       "      <td>0.0</td>\n",
       "      <td>0.0</td>\n",
       "    </tr>\n",
       "    <tr>\n",
       "      <th>2013-08-15</th>\n",
       "      <td>0.0</td>\n",
       "      <td>0.0</td>\n",
       "      <td>0.0</td>\n",
       "      <td>0.0</td>\n",
       "      <td>0.0</td>\n",
       "      <td>0.0</td>\n",
       "      <td>0.0</td>\n",
       "    </tr>\n",
       "    <tr>\n",
       "      <th>2013-09-15</th>\n",
       "      <td>0.0</td>\n",
       "      <td>0.0</td>\n",
       "      <td>0.0</td>\n",
       "      <td>0.0</td>\n",
       "      <td>0.0</td>\n",
       "      <td>0.0</td>\n",
       "      <td>0.0</td>\n",
       "    </tr>\n",
       "    <tr>\n",
       "      <th>2013-10-15</th>\n",
       "      <td>0.0</td>\n",
       "      <td>0.0</td>\n",
       "      <td>0.0</td>\n",
       "      <td>0.0</td>\n",
       "      <td>0.0</td>\n",
       "      <td>2.0</td>\n",
       "      <td>0.0</td>\n",
       "    </tr>\n",
       "    <tr>\n",
       "      <th>2013-11-15</th>\n",
       "      <td>0.0</td>\n",
       "      <td>0.0</td>\n",
       "      <td>0.0</td>\n",
       "      <td>0.0</td>\n",
       "      <td>0.0</td>\n",
       "      <td>3.0</td>\n",
       "      <td>0.0</td>\n",
       "    </tr>\n",
       "    <tr>\n",
       "      <th>...</th>\n",
       "      <td>...</td>\n",
       "      <td>...</td>\n",
       "      <td>...</td>\n",
       "      <td>...</td>\n",
       "      <td>...</td>\n",
       "      <td>...</td>\n",
       "      <td>...</td>\n",
       "    </tr>\n",
       "    <tr>\n",
       "      <th>2021-01-15</th>\n",
       "      <td>0.0</td>\n",
       "      <td>186.0</td>\n",
       "      <td>10.0</td>\n",
       "      <td>1.0</td>\n",
       "      <td>0.0</td>\n",
       "      <td>26.0</td>\n",
       "      <td>0.0</td>\n",
       "    </tr>\n",
       "    <tr>\n",
       "      <th>2021-02-15</th>\n",
       "      <td>0.0</td>\n",
       "      <td>156.0</td>\n",
       "      <td>6.0</td>\n",
       "      <td>0.0</td>\n",
       "      <td>0.0</td>\n",
       "      <td>39.0</td>\n",
       "      <td>1.0</td>\n",
       "    </tr>\n",
       "    <tr>\n",
       "      <th>2021-03-15</th>\n",
       "      <td>0.0</td>\n",
       "      <td>121.0</td>\n",
       "      <td>10.0</td>\n",
       "      <td>1.0</td>\n",
       "      <td>0.0</td>\n",
       "      <td>22.0</td>\n",
       "      <td>2.0</td>\n",
       "    </tr>\n",
       "    <tr>\n",
       "      <th>2021-04-15</th>\n",
       "      <td>0.0</td>\n",
       "      <td>0.0</td>\n",
       "      <td>0.0</td>\n",
       "      <td>0.0</td>\n",
       "      <td>0.0</td>\n",
       "      <td>0.0</td>\n",
       "      <td>0.0</td>\n",
       "    </tr>\n",
       "    <tr>\n",
       "      <th>2021-05-15</th>\n",
       "      <td>0.0</td>\n",
       "      <td>0.0</td>\n",
       "      <td>0.0</td>\n",
       "      <td>0.0</td>\n",
       "      <td>0.0</td>\n",
       "      <td>0.0</td>\n",
       "      <td>0.0</td>\n",
       "    </tr>\n",
       "  </tbody>\n",
       "</table>\n",
       "<p>95 rows × 7 columns</p>\n",
       "</div>"
      ],
      "text/plain": [
       "            BUENAVENTURA   CALI  CANDELARIA  CAUCA  CENTRO  DAGUA VALLE  KM 30\n",
       "FECHA                                                                         \n",
       "2013-07-15           0.0    0.0         0.0    0.0     0.0          0.0    0.0\n",
       "2013-08-15           0.0    0.0         0.0    0.0     0.0          0.0    0.0\n",
       "2013-09-15           0.0    0.0         0.0    0.0     0.0          0.0    0.0\n",
       "2013-10-15           0.0    0.0         0.0    0.0     0.0          2.0    0.0\n",
       "2013-11-15           0.0    0.0         0.0    0.0     0.0          3.0    0.0\n",
       "...                  ...    ...         ...    ...     ...          ...    ...\n",
       "2021-01-15           0.0  186.0        10.0    1.0     0.0         26.0    0.0\n",
       "2021-02-15           0.0  156.0         6.0    0.0     0.0         39.0    1.0\n",
       "2021-03-15           0.0  121.0        10.0    1.0     0.0         22.0    2.0\n",
       "2021-04-15           0.0    0.0         0.0    0.0     0.0          0.0    0.0\n",
       "2021-05-15           0.0    0.0         0.0    0.0     0.0          0.0    0.0\n",
       "\n",
       "[95 rows x 7 columns]"
      ]
     },
     "execution_count": 26,
     "metadata": {},
     "output_type": "execute_result"
    }
   ],
   "source": [
    "ventas_15=df_registros_zona[df_registros_zona.index.day == 15]\n",
    "ventas_15"
   ]
  },
  {
   "cell_type": "markdown",
   "id": "a8573b60",
   "metadata": {},
   "source": [
    "#### Comportamiento de las ventas en el año 2020"
   ]
  },
  {
   "cell_type": "code",
   "execution_count": 27,
   "id": "b5a3274d",
   "metadata": {},
   "outputs": [
    {
     "data": {
      "text/html": [
       "<div>\n",
       "<style scoped>\n",
       "    .dataframe tbody tr th:only-of-type {\n",
       "        vertical-align: middle;\n",
       "    }\n",
       "\n",
       "    .dataframe tbody tr th {\n",
       "        vertical-align: top;\n",
       "    }\n",
       "\n",
       "    .dataframe thead th {\n",
       "        text-align: right;\n",
       "    }\n",
       "</style>\n",
       "<table border=\"1\" class=\"dataframe\">\n",
       "  <thead>\n",
       "    <tr style=\"text-align: right;\">\n",
       "      <th></th>\n",
       "      <th>BUENAVENTURA</th>\n",
       "      <th>CALI</th>\n",
       "      <th>CANDELARIA</th>\n",
       "      <th>CAUCA</th>\n",
       "      <th>CENTRO</th>\n",
       "      <th>DAGUA VALLE</th>\n",
       "      <th>KM 30</th>\n",
       "    </tr>\n",
       "    <tr>\n",
       "      <th>FECHA</th>\n",
       "      <th></th>\n",
       "      <th></th>\n",
       "      <th></th>\n",
       "      <th></th>\n",
       "      <th></th>\n",
       "      <th></th>\n",
       "      <th></th>\n",
       "    </tr>\n",
       "  </thead>\n",
       "  <tbody>\n",
       "    <tr>\n",
       "      <th>2020-01-01</th>\n",
       "      <td>0.0</td>\n",
       "      <td>0.0</td>\n",
       "      <td>0.0</td>\n",
       "      <td>0.0</td>\n",
       "      <td>0.0</td>\n",
       "      <td>0.0</td>\n",
       "      <td>0.0</td>\n",
       "    </tr>\n",
       "    <tr>\n",
       "      <th>2020-01-02</th>\n",
       "      <td>0.0</td>\n",
       "      <td>51.0</td>\n",
       "      <td>0.0</td>\n",
       "      <td>1.0</td>\n",
       "      <td>0.0</td>\n",
       "      <td>6.0</td>\n",
       "      <td>1.0</td>\n",
       "    </tr>\n",
       "    <tr>\n",
       "      <th>2020-01-03</th>\n",
       "      <td>0.0</td>\n",
       "      <td>54.0</td>\n",
       "      <td>0.0</td>\n",
       "      <td>0.0</td>\n",
       "      <td>0.0</td>\n",
       "      <td>15.0</td>\n",
       "      <td>1.0</td>\n",
       "    </tr>\n",
       "    <tr>\n",
       "      <th>2020-01-04</th>\n",
       "      <td>0.0</td>\n",
       "      <td>0.0</td>\n",
       "      <td>0.0</td>\n",
       "      <td>0.0</td>\n",
       "      <td>0.0</td>\n",
       "      <td>0.0</td>\n",
       "      <td>0.0</td>\n",
       "    </tr>\n",
       "    <tr>\n",
       "      <th>2020-01-05</th>\n",
       "      <td>0.0</td>\n",
       "      <td>0.0</td>\n",
       "      <td>0.0</td>\n",
       "      <td>0.0</td>\n",
       "      <td>0.0</td>\n",
       "      <td>0.0</td>\n",
       "      <td>0.0</td>\n",
       "    </tr>\n",
       "    <tr>\n",
       "      <th>...</th>\n",
       "      <td>...</td>\n",
       "      <td>...</td>\n",
       "      <td>...</td>\n",
       "      <td>...</td>\n",
       "      <td>...</td>\n",
       "      <td>...</td>\n",
       "      <td>...</td>\n",
       "    </tr>\n",
       "    <tr>\n",
       "      <th>2020-12-27</th>\n",
       "      <td>0.0</td>\n",
       "      <td>0.0</td>\n",
       "      <td>0.0</td>\n",
       "      <td>0.0</td>\n",
       "      <td>0.0</td>\n",
       "      <td>0.0</td>\n",
       "      <td>0.0</td>\n",
       "    </tr>\n",
       "    <tr>\n",
       "      <th>2020-12-28</th>\n",
       "      <td>0.0</td>\n",
       "      <td>88.0</td>\n",
       "      <td>8.0</td>\n",
       "      <td>2.0</td>\n",
       "      <td>0.0</td>\n",
       "      <td>8.0</td>\n",
       "      <td>0.0</td>\n",
       "    </tr>\n",
       "    <tr>\n",
       "      <th>2020-12-29</th>\n",
       "      <td>0.0</td>\n",
       "      <td>97.0</td>\n",
       "      <td>1.0</td>\n",
       "      <td>0.0</td>\n",
       "      <td>0.0</td>\n",
       "      <td>5.0</td>\n",
       "      <td>0.0</td>\n",
       "    </tr>\n",
       "    <tr>\n",
       "      <th>2020-12-30</th>\n",
       "      <td>0.0</td>\n",
       "      <td>1.0</td>\n",
       "      <td>0.0</td>\n",
       "      <td>0.0</td>\n",
       "      <td>0.0</td>\n",
       "      <td>0.0</td>\n",
       "      <td>0.0</td>\n",
       "    </tr>\n",
       "    <tr>\n",
       "      <th>2020-12-31</th>\n",
       "      <td>0.0</td>\n",
       "      <td>144.0</td>\n",
       "      <td>25.0</td>\n",
       "      <td>1.0</td>\n",
       "      <td>0.0</td>\n",
       "      <td>27.0</td>\n",
       "      <td>1.0</td>\n",
       "    </tr>\n",
       "  </tbody>\n",
       "</table>\n",
       "<p>366 rows × 7 columns</p>\n",
       "</div>"
      ],
      "text/plain": [
       "            BUENAVENTURA   CALI  CANDELARIA  CAUCA  CENTRO  DAGUA VALLE  KM 30\n",
       "FECHA                                                                         \n",
       "2020-01-01           0.0    0.0         0.0    0.0     0.0          0.0    0.0\n",
       "2020-01-02           0.0   51.0         0.0    1.0     0.0          6.0    1.0\n",
       "2020-01-03           0.0   54.0         0.0    0.0     0.0         15.0    1.0\n",
       "2020-01-04           0.0    0.0         0.0    0.0     0.0          0.0    0.0\n",
       "2020-01-05           0.0    0.0         0.0    0.0     0.0          0.0    0.0\n",
       "...                  ...    ...         ...    ...     ...          ...    ...\n",
       "2020-12-27           0.0    0.0         0.0    0.0     0.0          0.0    0.0\n",
       "2020-12-28           0.0   88.0         8.0    2.0     0.0          8.0    0.0\n",
       "2020-12-29           0.0   97.0         1.0    0.0     0.0          5.0    0.0\n",
       "2020-12-30           0.0    1.0         0.0    0.0     0.0          0.0    0.0\n",
       "2020-12-31           0.0  144.0        25.0    1.0     0.0         27.0    1.0\n",
       "\n",
       "[366 rows x 7 columns]"
      ]
     },
     "execution_count": 27,
     "metadata": {},
     "output_type": "execute_result"
    }
   ],
   "source": [
    "ventas_2020 =df_registros_zona['2020-01-01':'2020-12-31']\n",
    "ventas_2020"
   ]
  },
  {
   "cell_type": "code",
   "execution_count": 28,
   "id": "22c74e30",
   "metadata": {
    "scrolled": true
   },
   "outputs": [
    {
     "data": {
      "image/png": "[encoded data removed]",
      "text/plain": [
       "<Figure size 640x480 with 1 Axes>"
      ]
     },
     "metadata": {},
     "output_type": "display_data"
    }
   ],
   "source": [
    "plt.plot(ventas_2020, lw = 2)\n",
    "plt.xlabel('2020')\n",
    "plt.ylabel('Cantidad Ventas')\n",
    "plt.title('Ventas 2020')\n",
    "plt.grid(True)\n",
    "  \n",
    "plt.show()"
   ]
  },
  {
   "cell_type": "markdown",
   "id": "e53f8d46",
   "metadata": {},
   "source": [
    "#### Podemos observar un incremento en el mes de septiembre ¿cómo son las ventas en septiembre respecto a los demás años?"
   ]
  },
  {
   "cell_type": "code",
   "execution_count": 29,
   "id": "202f57bf",
   "metadata": {},
   "outputs": [
    {
     "data": {
      "text/html": [
       "<div>\n",
       "<style scoped>\n",
       "    .dataframe tbody tr th:only-of-type {\n",
       "        vertical-align: middle;\n",
       "    }\n",
       "\n",
       "    .dataframe tbody tr th {\n",
       "        vertical-align: top;\n",
       "    }\n",
       "\n",
       "    .dataframe thead th {\n",
       "        text-align: right;\n",
       "    }\n",
       "</style>\n",
       "<table border=\"1\" class=\"dataframe\">\n",
       "  <thead>\n",
       "    <tr style=\"text-align: right;\">\n",
       "      <th></th>\n",
       "      <th>BUENAVENTURA</th>\n",
       "      <th>CALI</th>\n",
       "      <th>CANDELARIA</th>\n",
       "      <th>CAUCA</th>\n",
       "      <th>CENTRO</th>\n",
       "      <th>DAGUA VALLE</th>\n",
       "      <th>KM 30</th>\n",
       "    </tr>\n",
       "    <tr>\n",
       "      <th>FECHA</th>\n",
       "      <th></th>\n",
       "      <th></th>\n",
       "      <th></th>\n",
       "      <th></th>\n",
       "      <th></th>\n",
       "      <th></th>\n",
       "      <th></th>\n",
       "    </tr>\n",
       "  </thead>\n",
       "  <tbody>\n",
       "    <tr>\n",
       "      <th>2013-09-01</th>\n",
       "      <td>0.0</td>\n",
       "      <td>0.0</td>\n",
       "      <td>0.0</td>\n",
       "      <td>0.0</td>\n",
       "      <td>0.0</td>\n",
       "      <td>0.0</td>\n",
       "      <td>0.0</td>\n",
       "    </tr>\n",
       "    <tr>\n",
       "      <th>2013-09-02</th>\n",
       "      <td>0.0</td>\n",
       "      <td>1.0</td>\n",
       "      <td>0.0</td>\n",
       "      <td>0.0</td>\n",
       "      <td>0.0</td>\n",
       "      <td>133.0</td>\n",
       "      <td>0.0</td>\n",
       "    </tr>\n",
       "    <tr>\n",
       "      <th>2013-09-03</th>\n",
       "      <td>0.0</td>\n",
       "      <td>0.0</td>\n",
       "      <td>0.0</td>\n",
       "      <td>0.0</td>\n",
       "      <td>0.0</td>\n",
       "      <td>0.0</td>\n",
       "      <td>0.0</td>\n",
       "    </tr>\n",
       "    <tr>\n",
       "      <th>2013-09-04</th>\n",
       "      <td>0.0</td>\n",
       "      <td>0.0</td>\n",
       "      <td>0.0</td>\n",
       "      <td>0.0</td>\n",
       "      <td>0.0</td>\n",
       "      <td>0.0</td>\n",
       "      <td>0.0</td>\n",
       "    </tr>\n",
       "    <tr>\n",
       "      <th>2013-09-05</th>\n",
       "      <td>0.0</td>\n",
       "      <td>0.0</td>\n",
       "      <td>0.0</td>\n",
       "      <td>0.0</td>\n",
       "      <td>0.0</td>\n",
       "      <td>0.0</td>\n",
       "      <td>0.0</td>\n",
       "    </tr>\n",
       "    <tr>\n",
       "      <th>...</th>\n",
       "      <td>...</td>\n",
       "      <td>...</td>\n",
       "      <td>...</td>\n",
       "      <td>...</td>\n",
       "      <td>...</td>\n",
       "      <td>...</td>\n",
       "      <td>...</td>\n",
       "    </tr>\n",
       "    <tr>\n",
       "      <th>2020-09-26</th>\n",
       "      <td>0.0</td>\n",
       "      <td>0.0</td>\n",
       "      <td>0.0</td>\n",
       "      <td>0.0</td>\n",
       "      <td>0.0</td>\n",
       "      <td>0.0</td>\n",
       "      <td>0.0</td>\n",
       "    </tr>\n",
       "    <tr>\n",
       "      <th>2020-09-27</th>\n",
       "      <td>0.0</td>\n",
       "      <td>0.0</td>\n",
       "      <td>0.0</td>\n",
       "      <td>0.0</td>\n",
       "      <td>0.0</td>\n",
       "      <td>0.0</td>\n",
       "      <td>0.0</td>\n",
       "    </tr>\n",
       "    <tr>\n",
       "      <th>2020-09-28</th>\n",
       "      <td>0.0</td>\n",
       "      <td>165.0</td>\n",
       "      <td>10.0</td>\n",
       "      <td>5.0</td>\n",
       "      <td>0.0</td>\n",
       "      <td>39.0</td>\n",
       "      <td>0.0</td>\n",
       "    </tr>\n",
       "    <tr>\n",
       "      <th>2020-09-29</th>\n",
       "      <td>0.0</td>\n",
       "      <td>48.0</td>\n",
       "      <td>3.0</td>\n",
       "      <td>1.0</td>\n",
       "      <td>0.0</td>\n",
       "      <td>3.0</td>\n",
       "      <td>0.0</td>\n",
       "    </tr>\n",
       "    <tr>\n",
       "      <th>2020-09-30</th>\n",
       "      <td>0.0</td>\n",
       "      <td>66.0</td>\n",
       "      <td>1.0</td>\n",
       "      <td>0.0</td>\n",
       "      <td>0.0</td>\n",
       "      <td>4.0</td>\n",
       "      <td>2.0</td>\n",
       "    </tr>\n",
       "  </tbody>\n",
       "</table>\n",
       "<p>240 rows × 7 columns</p>\n",
       "</div>"
      ],
      "text/plain": [
       "            BUENAVENTURA   CALI  CANDELARIA  CAUCA  CENTRO  DAGUA VALLE  KM 30\n",
       "FECHA                                                                         \n",
       "2013-09-01           0.0    0.0         0.0    0.0     0.0          0.0    0.0\n",
       "2013-09-02           0.0    1.0         0.0    0.0     0.0        133.0    0.0\n",
       "2013-09-03           0.0    0.0         0.0    0.0     0.0          0.0    0.0\n",
       "2013-09-04           0.0    0.0         0.0    0.0     0.0          0.0    0.0\n",
       "2013-09-05           0.0    0.0         0.0    0.0     0.0          0.0    0.0\n",
       "...                  ...    ...         ...    ...     ...          ...    ...\n",
       "2020-09-26           0.0    0.0         0.0    0.0     0.0          0.0    0.0\n",
       "2020-09-27           0.0    0.0         0.0    0.0     0.0          0.0    0.0\n",
       "2020-09-28           0.0  165.0        10.0    5.0     0.0         39.0    0.0\n",
       "2020-09-29           0.0   48.0         3.0    1.0     0.0          3.0    0.0\n",
       "2020-09-30           0.0   66.0         1.0    0.0     0.0          4.0    2.0\n",
       "\n",
       "[240 rows x 7 columns]"
      ]
     },
     "execution_count": 29,
     "metadata": {},
     "output_type": "execute_result"
    }
   ],
   "source": [
    "ventas_septiembre = df_registros_zona[df_registros_zona.index.month == 9] # Todos los años\n",
    "ventas_septiembre"
   ]
  },
  {
   "cell_type": "code",
   "execution_count": 30,
   "id": "418990b3",
   "metadata": {},
   "outputs": [
    {
     "data": {
      "image/png": "[encoded data removed]",
      "text/plain": [
       "<Figure size 640x480 with 1 Axes>"
      ]
     },
     "metadata": {},
     "output_type": "display_data"
    }
   ],
   "source": [
    "plt.plot(ventas_septiembre, lw = 2)\n",
    "plt.xlabel('Todos los años')\n",
    "plt.ylabel('Cantidad Ventas')\n",
    "plt.title('Septiembre')\n",
    "plt.grid(True)\n",
    "  \n",
    "plt.show()"
   ]
  },
  {
   "cell_type": "markdown",
   "id": "1afd1899",
   "metadata": {},
   "source": [
    "#### Se refleja un incremento constante en las ventas en el mes de septiembre, en especial la ciudad de Cali"
   ]
  },
  {
   "cell_type": "markdown",
   "id": "22c65678",
   "metadata": {},
   "source": [
    "### Media de ventas de servicios de internet en un intervalo semanal\n",
    "### AÑO 2021"
   ]
  },
  {
   "cell_type": "code",
   "execution_count": 31,
   "id": "8a5e58f4",
   "metadata": {},
   "outputs": [],
   "source": [
    "ventas_2021 = df_registros_zona['2021-01-01':'2021-12-31']\n",
    "ventas_2021\n",
    "ventas_2021=ventas_2021.resample('W').mean()"
   ]
  },
  {
   "cell_type": "code",
   "execution_count": 32,
   "id": "a5635308",
   "metadata": {},
   "outputs": [
    {
     "data": {
      "image/png": "[encoded data removed]",
      "text/plain": [
       "<Figure size 640x480 with 1 Axes>"
      ]
     },
     "metadata": {},
     "output_type": "display_data"
    }
   ],
   "source": [
    "plt.plot(ventas_2021, lw = 2)\n",
    "plt.xlabel('Fecha')\n",
    "plt.ylabel('Cantidad Ventas')\n",
    "plt.title('2021')\n",
    "plt.grid(True)\n",
    "  \n",
    "plt.show()"
   ]
  },
  {
   "cell_type": "markdown",
   "id": "d20c423e",
   "metadata": {},
   "source": [
    "### Crecimiento porcentual semanal de ventas en cada zona"
   ]
  },
  {
   "cell_type": "code",
   "execution_count": 33,
   "id": "f2ea3f9c",
   "metadata": {},
   "outputs": [
    {
     "data": {
      "text/html": [
       "<div>\n",
       "<style scoped>\n",
       "    .dataframe tbody tr th:only-of-type {\n",
       "        vertical-align: middle;\n",
       "    }\n",
       "\n",
       "    .dataframe tbody tr th {\n",
       "        vertical-align: top;\n",
       "    }\n",
       "\n",
       "    .dataframe thead th {\n",
       "        text-align: right;\n",
       "    }\n",
       "</style>\n",
       "<table border=\"1\" class=\"dataframe\">\n",
       "  <thead>\n",
       "    <tr style=\"text-align: right;\">\n",
       "      <th></th>\n",
       "      <th>BUENAVENTURA</th>\n",
       "      <th>CALI</th>\n",
       "      <th>CANDELARIA</th>\n",
       "      <th>CAUCA</th>\n",
       "      <th>CENTRO</th>\n",
       "      <th>DAGUA VALLE</th>\n",
       "      <th>KM 30</th>\n",
       "    </tr>\n",
       "    <tr>\n",
       "      <th>FECHA</th>\n",
       "      <th></th>\n",
       "      <th></th>\n",
       "      <th></th>\n",
       "      <th></th>\n",
       "      <th></th>\n",
       "      <th></th>\n",
       "      <th></th>\n",
       "    </tr>\n",
       "  </thead>\n",
       "  <tbody>\n",
       "    <tr>\n",
       "      <th>2021-01-03</th>\n",
       "      <td>NaN</td>\n",
       "      <td>NaN</td>\n",
       "      <td>NaN</td>\n",
       "      <td>NaN</td>\n",
       "      <td>NaN</td>\n",
       "      <td>NaN</td>\n",
       "      <td>NaN</td>\n",
       "    </tr>\n",
       "    <tr>\n",
       "      <th>2021-01-10</th>\n",
       "      <td>inf</td>\n",
       "      <td>inf</td>\n",
       "      <td>inf</td>\n",
       "      <td>inf</td>\n",
       "      <td>NaN</td>\n",
       "      <td>74.000000</td>\n",
       "      <td>inf</td>\n",
       "    </tr>\n",
       "    <tr>\n",
       "      <th>2021-01-17</th>\n",
       "      <td>-1.0</td>\n",
       "      <td>-0.417526</td>\n",
       "      <td>-0.576923</td>\n",
       "      <td>-0.250000</td>\n",
       "      <td>NaN</td>\n",
       "      <td>-0.440000</td>\n",
       "      <td>-0.555556</td>\n",
       "    </tr>\n",
       "    <tr>\n",
       "      <th>2021-01-24</th>\n",
       "      <td>inf</td>\n",
       "      <td>-0.376106</td>\n",
       "      <td>0.181818</td>\n",
       "      <td>-0.333333</td>\n",
       "      <td>NaN</td>\n",
       "      <td>-0.255102</td>\n",
       "      <td>-0.750000</td>\n",
       "    </tr>\n",
       "    <tr>\n",
       "      <th>2021-01-31</th>\n",
       "      <td>-1.0</td>\n",
       "      <td>-0.349882</td>\n",
       "      <td>-0.538462</td>\n",
       "      <td>-0.500000</td>\n",
       "      <td>NaN</td>\n",
       "      <td>-0.383562</td>\n",
       "      <td>-1.000000</td>\n",
       "    </tr>\n",
       "    <tr>\n",
       "      <th>2021-02-07</th>\n",
       "      <td>NaN</td>\n",
       "      <td>2.727273</td>\n",
       "      <td>3.916667</td>\n",
       "      <td>5.500000</td>\n",
       "      <td>NaN</td>\n",
       "      <td>2.911111</td>\n",
       "      <td>inf</td>\n",
       "    </tr>\n",
       "    <tr>\n",
       "      <th>2021-02-14</th>\n",
       "      <td>inf</td>\n",
       "      <td>-0.320000</td>\n",
       "      <td>-0.711864</td>\n",
       "      <td>-0.769231</td>\n",
       "      <td>NaN</td>\n",
       "      <td>-0.346591</td>\n",
       "      <td>0.285714</td>\n",
       "    </tr>\n",
       "    <tr>\n",
       "      <th>2021-02-21</th>\n",
       "      <td>-1.0</td>\n",
       "      <td>-0.362984</td>\n",
       "      <td>0.176471</td>\n",
       "      <td>-0.666667</td>\n",
       "      <td>NaN</td>\n",
       "      <td>-0.165217</td>\n",
       "      <td>-0.888889</td>\n",
       "    </tr>\n",
       "    <tr>\n",
       "      <th>2021-02-28</th>\n",
       "      <td>inf</td>\n",
       "      <td>-0.060811</td>\n",
       "      <td>0.300000</td>\n",
       "      <td>4.000000</td>\n",
       "      <td>NaN</td>\n",
       "      <td>-0.208333</td>\n",
       "      <td>1.000000</td>\n",
       "    </tr>\n",
       "    <tr>\n",
       "      <th>2021-03-07</th>\n",
       "      <td>-1.0</td>\n",
       "      <td>1.599520</td>\n",
       "      <td>1.538462</td>\n",
       "      <td>0.600000</td>\n",
       "      <td>NaN</td>\n",
       "      <td>1.592105</td>\n",
       "      <td>1.500000</td>\n",
       "    </tr>\n",
       "    <tr>\n",
       "      <th>2021-03-14</th>\n",
       "      <td>inf</td>\n",
       "      <td>-0.345018</td>\n",
       "      <td>-0.681818</td>\n",
       "      <td>-0.250000</td>\n",
       "      <td>NaN</td>\n",
       "      <td>-0.406091</td>\n",
       "      <td>-0.400000</td>\n",
       "    </tr>\n",
       "    <tr>\n",
       "      <th>2021-03-21</th>\n",
       "      <td>0.0</td>\n",
       "      <td>-0.463380</td>\n",
       "      <td>0.857143</td>\n",
       "      <td>-0.500000</td>\n",
       "      <td>NaN</td>\n",
       "      <td>-0.393162</td>\n",
       "      <td>0.000000</td>\n",
       "    </tr>\n",
       "    <tr>\n",
       "      <th>2021-03-28</th>\n",
       "      <td>0.0</td>\n",
       "      <td>-0.120735</td>\n",
       "      <td>-0.512821</td>\n",
       "      <td>-0.666667</td>\n",
       "      <td>NaN</td>\n",
       "      <td>-0.197183</td>\n",
       "      <td>-0.333333</td>\n",
       "    </tr>\n",
       "    <tr>\n",
       "      <th>2021-04-04</th>\n",
       "      <td>-1.0</td>\n",
       "      <td>0.385075</td>\n",
       "      <td>1.894737</td>\n",
       "      <td>0.000000</td>\n",
       "      <td>NaN</td>\n",
       "      <td>0.157895</td>\n",
       "      <td>0.000000</td>\n",
       "    </tr>\n",
       "    <tr>\n",
       "      <th>2021-04-11</th>\n",
       "      <td>inf</td>\n",
       "      <td>1.657328</td>\n",
       "      <td>0.345455</td>\n",
       "      <td>15.000000</td>\n",
       "      <td>NaN</td>\n",
       "      <td>2.848485</td>\n",
       "      <td>2.500000</td>\n",
       "    </tr>\n",
       "    <tr>\n",
       "      <th>2021-04-18</th>\n",
       "      <td>-1.0</td>\n",
       "      <td>-0.446878</td>\n",
       "      <td>-0.527027</td>\n",
       "      <td>-0.687500</td>\n",
       "      <td>NaN</td>\n",
       "      <td>-0.539370</td>\n",
       "      <td>0.285714</td>\n",
       "    </tr>\n",
       "    <tr>\n",
       "      <th>2021-04-25</th>\n",
       "      <td>inf</td>\n",
       "      <td>-0.326979</td>\n",
       "      <td>0.142857</td>\n",
       "      <td>-0.800000</td>\n",
       "      <td>NaN</td>\n",
       "      <td>-0.264957</td>\n",
       "      <td>-0.777778</td>\n",
       "    </tr>\n",
       "    <tr>\n",
       "      <th>2021-05-02</th>\n",
       "      <td>-1.0</td>\n",
       "      <td>-0.318083</td>\n",
       "      <td>-0.175000</td>\n",
       "      <td>1.000000</td>\n",
       "      <td>NaN</td>\n",
       "      <td>-0.348837</td>\n",
       "      <td>-0.500000</td>\n",
       "    </tr>\n",
       "    <tr>\n",
       "      <th>2021-05-09</th>\n",
       "      <td>NaN</td>\n",
       "      <td>2.019169</td>\n",
       "      <td>0.727273</td>\n",
       "      <td>2.500000</td>\n",
       "      <td>NaN</td>\n",
       "      <td>1.625000</td>\n",
       "      <td>3.000000</td>\n",
       "    </tr>\n",
       "    <tr>\n",
       "      <th>2021-05-16</th>\n",
       "      <td>NaN</td>\n",
       "      <td>-0.830688</td>\n",
       "      <td>-0.807018</td>\n",
       "      <td>-0.571429</td>\n",
       "      <td>NaN</td>\n",
       "      <td>-0.843537</td>\n",
       "      <td>-0.750000</td>\n",
       "    </tr>\n",
       "    <tr>\n",
       "      <th>2021-05-23</th>\n",
       "      <td>NaN</td>\n",
       "      <td>8.657813</td>\n",
       "      <td>8.227273</td>\n",
       "      <td>1.916667</td>\n",
       "      <td>NaN</td>\n",
       "      <td>10.032609</td>\n",
       "      <td>4.250000</td>\n",
       "    </tr>\n",
       "  </tbody>\n",
       "</table>\n",
       "</div>"
      ],
      "text/plain": [
       "            BUENAVENTURA      CALI  CANDELARIA      CAUCA  CENTRO  \\\n",
       "FECHA                                                               \n",
       "2021-01-03           NaN       NaN         NaN        NaN     NaN   \n",
       "2021-01-10           inf       inf         inf        inf     NaN   \n",
       "2021-01-17          -1.0 -0.417526   -0.576923  -0.250000     NaN   \n",
       "2021-01-24           inf -0.376106    0.181818  -0.333333     NaN   \n",
       "2021-01-31          -1.0 -0.349882   -0.538462  -0.500000     NaN   \n",
       "2021-02-07           NaN  2.727273    3.916667   5.500000     NaN   \n",
       "2021-02-14           inf -0.320000   -0.711864  -0.769231     NaN   \n",
       "2021-02-21          -1.0 -0.362984    0.176471  -0.666667     NaN   \n",
       "2021-02-28           inf -0.060811    0.300000   4.000000     NaN   \n",
       "2021-03-07          -1.0  1.599520    1.538462   0.600000     NaN   \n",
       "2021-03-14           inf -0.345018   -0.681818  -0.250000     NaN   \n",
       "2021-03-21           0.0 -0.463380    0.857143  -0.500000     NaN   \n",
       "2021-03-28           0.0 -0.120735   -0.512821  -0.666667     NaN   \n",
       "2021-04-04          -1.0  0.385075    1.894737   0.000000     NaN   \n",
       "2021-04-11           inf  1.657328    0.345455  15.000000     NaN   \n",
       "2021-04-18          -1.0 -0.446878   -0.527027  -0.687500     NaN   \n",
       "2021-04-25           inf -0.326979    0.142857  -0.800000     NaN   \n",
       "2021-05-02          -1.0 -0.318083   -0.175000   1.000000     NaN   \n",
       "2021-05-09           NaN  2.019169    0.727273   2.500000     NaN   \n",
       "2021-05-16           NaN -0.830688   -0.807018  -0.571429     NaN   \n",
       "2021-05-23           NaN  8.657813    8.227273   1.916667     NaN   \n",
       "\n",
       "            DAGUA VALLE     KM 30  \n",
       "FECHA                              \n",
       "2021-01-03          NaN       NaN  \n",
       "2021-01-10    74.000000       inf  \n",
       "2021-01-17    -0.440000 -0.555556  \n",
       "2021-01-24    -0.255102 -0.750000  \n",
       "2021-01-31    -0.383562 -1.000000  \n",
       "2021-02-07     2.911111       inf  \n",
       "2021-02-14    -0.346591  0.285714  \n",
       "2021-02-21    -0.165217 -0.888889  \n",
       "2021-02-28    -0.208333  1.000000  \n",
       "2021-03-07     1.592105  1.500000  \n",
       "2021-03-14    -0.406091 -0.400000  \n",
       "2021-03-21    -0.393162  0.000000  \n",
       "2021-03-28    -0.197183 -0.333333  \n",
       "2021-04-04     0.157895  0.000000  \n",
       "2021-04-11     2.848485  2.500000  \n",
       "2021-04-18    -0.539370  0.285714  \n",
       "2021-04-25    -0.264957 -0.777778  \n",
       "2021-05-02    -0.348837 -0.500000  \n",
       "2021-05-09     1.625000  3.000000  \n",
       "2021-05-16    -0.843537 -0.750000  \n",
       "2021-05-23    10.032609  4.250000  "
      ]
     },
     "execution_count": 33,
     "metadata": {},
     "output_type": "execute_result"
    }
   ],
   "source": [
    "ventas_2021 = df_registros_zona['2021-01-01':'2021-12-31']\n",
    "# El cambio de porcentaje después de n número de elementos\n",
    "ventas_2021=ventas_2021.resample('W').mean().pct_change()\n",
    "ventas_2021"
   ]
  },
  {
   "cell_type": "code",
   "execution_count": 34,
   "id": "42679823",
   "metadata": {},
   "outputs": [
    {
     "data": {
      "image/png": "[encoded data removed]",
      "text/plain": [
       "<Figure size 640x480 with 1 Axes>"
      ]
     },
     "metadata": {},
     "output_type": "display_data"
    }
   ],
   "source": [
    "plt.plot(ventas_2021, lw = 2)\n",
    "plt.xlabel('2021')\n",
    "plt.ylabel('Cantidad Ventas')\n",
    "plt.title('Ventas 2021')\n",
    "plt.grid(True)\n",
    "  \n",
    "plt.show()"
   ]
  },
  {
   "cell_type": "markdown",
   "id": "d53a9e7c",
   "metadata": {},
   "source": [
    "### Análisis en las tendencias de las serie de tiempo\n",
    "#### Promedio móvil de 1 mes de ventas en cada zona en el año 2020"
   ]
  },
  {
   "cell_type": "code",
   "execution_count": 35,
   "id": "fa18c107",
   "metadata": {},
   "outputs": [],
   "source": [
    "ventas_2020=df_registros_zona['2020-01-01':'2020-12-31']\n",
    "# El cambio de porcentaje después de n número de elementos\n",
    "ventas_2020=ventas_2020.resample('W').mean().pct_change()\n",
    "ventas_2020=ventas_2020.rolling('30D').mean()"
   ]
  },
  {
   "cell_type": "code",
   "execution_count": 36,
   "id": "d80a4d92",
   "metadata": {},
   "outputs": [
    {
     "data": {
      "image/png": "[encoded data removed]",
      "text/plain": [
       "<Figure size 640x480 with 1 Axes>"
      ]
     },
     "metadata": {},
     "output_type": "display_data"
    }
   ],
   "source": [
    "plt.plot(ventas_2020, lw = 2)\n",
    "plt.xlabel('2020')\n",
    "plt.ylabel('Promedio cantidad ventas semanal')\n",
    "plt.title('Ventas semanal 2020')\n",
    "plt.grid(True)\n",
    "  \n",
    "plt.show()"
   ]
  },
  {
   "cell_type": "markdown",
   "id": "c61f1aba",
   "metadata": {},
   "source": [
    "### Análisis en las tendencias de las serie de tiempo\n",
    "#### Predicciones"
   ]
  },
  {
   "cell_type": "code",
   "execution_count": 37,
   "id": "81b7c268",
   "metadata": {},
   "outputs": [],
   "source": [
    "import pprint\n",
    "%matplotlib inline"
   ]
  },
  {
   "cell_type": "code",
   "execution_count": 55,
   "id": "6416ac03",
   "metadata": {},
   "outputs": [
    {
     "data": {
      "text/html": [
       "<div>\n",
       "<style scoped>\n",
       "    .dataframe tbody tr th:only-of-type {\n",
       "        vertical-align: middle;\n",
       "    }\n",
       "\n",
       "    .dataframe tbody tr th {\n",
       "        vertical-align: top;\n",
       "    }\n",
       "\n",
       "    .dataframe thead th {\n",
       "        text-align: right;\n",
       "    }\n",
       "</style>\n",
       "<table border=\"1\" class=\"dataframe\">\n",
       "  <thead>\n",
       "    <tr style=\"text-align: right;\">\n",
       "      <th></th>\n",
       "      <th>FECHA</th>\n",
       "      <th>CANTIDAD</th>\n",
       "    </tr>\n",
       "  </thead>\n",
       "  <tbody>\n",
       "    <tr>\n",
       "      <th>0</th>\n",
       "      <td>2013-07-01</td>\n",
       "      <td>2.0</td>\n",
       "    </tr>\n",
       "    <tr>\n",
       "      <th>1</th>\n",
       "      <td>2013-07-02</td>\n",
       "      <td>125.0</td>\n",
       "    </tr>\n",
       "    <tr>\n",
       "      <th>2</th>\n",
       "      <td>2013-07-03</td>\n",
       "      <td>1.0</td>\n",
       "    </tr>\n",
       "    <tr>\n",
       "      <th>3</th>\n",
       "      <td>2013-07-08</td>\n",
       "      <td>4.0</td>\n",
       "    </tr>\n",
       "    <tr>\n",
       "      <th>4</th>\n",
       "      <td>2013-07-13</td>\n",
       "      <td>1.0</td>\n",
       "    </tr>\n",
       "  </tbody>\n",
       "</table>\n",
       "</div>"
      ],
      "text/plain": [
       "       FECHA  CANTIDAD\n",
       "0 2013-07-01       2.0\n",
       "1 2013-07-02     125.0\n",
       "2 2013-07-03       1.0\n",
       "3 2013-07-08       4.0\n",
       "4 2013-07-13       1.0"
      ]
     },
     "execution_count": 55,
     "metadata": {},
     "output_type": "execute_result"
    }
   ],
   "source": [
    "# datos = pd.DataFrame(merged_productos)\n",
    "df_1 = pd.DataFrame(df_principal)\n",
    "df_1.columns\n",
    "# Preparación de los datos\n",
    "dicc = {\n",
    "    'FECHA' : df_1['FECHA'],\n",
    "    'CANTIDAD': df_1['TOTAL']\n",
    "    \n",
    "}\n",
    "df_prediccion = pd.DataFrame(dicc)\n",
    "df_prediccion = df_prediccion.groupby(['FECHA'])['CANTIDAD'].count().reset_index()\n",
    "# elimina las filas que tengas fecha vacia (420)\n",
    "df_prediccion = df_prediccion.dropna()\n",
    "df_prediccion = df_prediccion.astype({'CANTIDAD': np.float})\n",
    "#df_prediccion['FECHA'] = pd.to_datetime(df_prediccion['FECHA'], errors='coerce')\n",
    "df_prediccion.head()"
   ]
  },
  {
   "cell_type": "code",
   "execution_count": 56,
   "id": "295712bb",
   "metadata": {},
   "outputs": [
    {
     "name": "stdout",
     "output_type": "stream",
     "text": [
      "<class 'pandas.core.frame.DataFrame'>\n",
      "DatetimeIndex: 1653 entries, 2013-07-01 to 2021-05-20\n",
      "Data columns (total 7 columns):\n",
      " #   Column    Non-Null Count  Dtype  \n",
      "---  ------    --------------  -----  \n",
      " 0   CANTIDAD  1653 non-null   float64\n",
      " 1   Month     1653 non-null   int64  \n",
      " 2   Year      1653 non-null   int64  \n",
      " 3   Date      1653 non-null   object \n",
      " 4   Time      1653 non-null   object \n",
      " 5   Week      1653 non-null   int64  \n",
      " 6   Day       1653 non-null   object \n",
      "dtypes: float64(1), int64(3), object(3)\n",
      "memory usage: 103.3+ KB\n"
     ]
    },
    {
     "name": "stderr",
     "output_type": "stream",
     "text": [
      "<ipython-input-56-f8b7d16bb77c>:7: FutureWarning: Series.dt.weekofyear and Series.dt.week have been deprecated.  Please use Series.dt.isocalendar().week instead.\n",
      "  dataset['Week'] = df_prediccion['FECHA'].dt.week\n"
     ]
    }
   ],
   "source": [
    "dataset = df_prediccion\n",
    "\n",
    "dataset['Month'] = df_prediccion['FECHA'].dt.month\n",
    "dataset['Year'] = df_prediccion['FECHA'].dt.year\n",
    "dataset['Date'] = df_prediccion['FECHA'].dt.date\n",
    "dataset['Time'] = df_prediccion['FECHA'].dt.time\n",
    "dataset['Week'] = df_prediccion['FECHA'].dt.week\n",
    "dataset['Day'] = df_prediccion['FECHA'].dt.day_name()\n",
    "dataset = df_prediccion.set_index('FECHA')\n",
    "dataset.index = pd.to_datetime(dataset.index)\n",
    "dataset.info()\n"
   ]
  },
  {
   "cell_type": "markdown",
   "id": "6a357a47",
   "metadata": {},
   "source": [
    "#### pruebas."
   ]
  },
  {
   "cell_type": "code",
   "execution_count": 57,
   "id": "359929aa",
   "metadata": {},
   "outputs": [
    {
     "data": {
      "text/html": [
       "<div>\n",
       "<style scoped>\n",
       "    .dataframe tbody tr th:only-of-type {\n",
       "        vertical-align: middle;\n",
       "    }\n",
       "\n",
       "    .dataframe tbody tr th {\n",
       "        vertical-align: top;\n",
       "    }\n",
       "\n",
       "    .dataframe thead th {\n",
       "        text-align: right;\n",
       "    }\n",
       "</style>\n",
       "<table border=\"1\" class=\"dataframe\">\n",
       "  <thead>\n",
       "    <tr style=\"text-align: right;\">\n",
       "      <th></th>\n",
       "      <th>FECHA</th>\n",
       "      <th>CANTIDAD</th>\n",
       "      <th>Month</th>\n",
       "      <th>Year</th>\n",
       "      <th>Date</th>\n",
       "      <th>Time</th>\n",
       "      <th>Week</th>\n",
       "      <th>Day</th>\n",
       "    </tr>\n",
       "  </thead>\n",
       "  <tbody>\n",
       "    <tr>\n",
       "      <th>0</th>\n",
       "      <td>2013-07-01</td>\n",
       "      <td>2.0</td>\n",
       "      <td>7</td>\n",
       "      <td>2013</td>\n",
       "      <td>2013-07-01</td>\n",
       "      <td>00:00:00</td>\n",
       "      <td>27</td>\n",
       "      <td>Monday</td>\n",
       "    </tr>\n",
       "  </tbody>\n",
       "</table>\n",
       "</div>"
      ],
      "text/plain": [
       "       FECHA  CANTIDAD  Month  Year        Date      Time  Week     Day\n",
       "0 2013-07-01       2.0      7  2013  2013-07-01  00:00:00    27  Monday"
      ]
     },
     "execution_count": 57,
     "metadata": {},
     "output_type": "execute_result"
    }
   ],
   "source": [
    "df_prediccion.head(1)"
   ]
  },
  {
   "cell_type": "code",
   "execution_count": 58,
   "id": "4c42b145",
   "metadata": {},
   "outputs": [
    {
     "data": {
      "text/plain": [
       "array([2013, 2014, 2015, 2016, 2017, 2018, 2019, 2020, 2021], dtype=int64)"
      ]
     },
     "execution_count": 58,
     "metadata": {},
     "output_type": "execute_result"
    }
   ],
   "source": [
    "df_prediccion.Year.unique()"
   ]
  },
  {
   "cell_type": "code",
   "execution_count": 59,
   "id": "6c5aefb1",
   "metadata": {},
   "outputs": [
    {
     "name": "stderr",
     "output_type": "stream",
     "text": [
      "No handles with labels found to put in legend.\n"
     ]
    },
    {
     "data": {
      "text/plain": [
       "Text(0.5, 1.0, 'Cnt ventas obtenidas por año')"
      ]
     },
     "execution_count": 59,
     "metadata": {},
     "output_type": "execute_result"
    },
    {
     "data": {
      "image/png": "[encoded data removed]",
      "text/plain": [
       "<Figure size 432x288 with 1 Axes>"
      ]
     },
     "metadata": {},
     "output_type": "display_data"
    }
   ],
   "source": [
    "from matplotlib import style \n",
    "\n",
    "fig = plt.figure()\n",
    "axl = plt.subplot2grid((1,1), (0,0))\n",
    "\n",
    "style.use('ggplot')\n",
    "\n",
    "sns.lineplot(x=dataset['Year'], y=dataset['CANTIDAD'], data=df_prediccion)\n",
    "\n",
    "plt.title('Cnt ventas obtenidas')\n",
    "plt.xlabel('Date')\n",
    "plt.ylabel('Ventas en COP')\n",
    "plt.grid(True)\n",
    "plt.legend()\n",
    "\n",
    "for label in axl.xaxis.get_ticklabels():\n",
    "    label.set_rotation(90)\n",
    "\n",
    "plt.title('Cnt ventas obtenidas por año')"
   ]
  },
  {
   "cell_type": "code",
   "execution_count": 60,
   "id": "24d053fb",
   "metadata": {},
   "outputs": [
    {
     "name": "stderr",
     "output_type": "stream",
     "text": [
      "No handles with labels found to put in legend.\n"
     ]
    },
    {
     "data": {
      "image/png": "[encoded data removed]",
      "text/plain": [
       "<Figure size 432x288 with 1 Axes>"
      ]
     },
     "metadata": {},
     "output_type": "display_data"
    }
   ],
   "source": [
    "fig = plt.figure()\n",
    "axl = fig.add_subplot(111)\n",
    "\n",
    "sns.lineplot(x=dataset['Date'],y=dataset['CANTIDAD'], data=df_prediccion)\n",
    "plt.title('Total')\n",
    "plt.xlabel('Date')\n",
    "plt.grid(True, alpha=1)\n",
    "plt.legend()\n",
    "\n",
    "for label in axl.xaxis.get_ticklabels():\n",
    "    label.set_rotation(90)\n",
    "\n"
   ]
  },
  {
   "cell_type": "markdown",
   "id": "e81ad97d",
   "metadata": {},
   "source": [
    "### Reemzamble de datos"
   ]
  },
  {
   "cell_type": "code",
   "execution_count": 61,
   "id": "3ade1139",
   "metadata": {},
   "outputs": [],
   "source": [
    "from sklearn.compose import ColumnTransformer\n",
    "from sklearn.model_selection import train_test_split, cross_val_score\n",
    "from sklearn.impute import SimpleImputer\n",
    "from sklearn.preprocessing import OneHotEncoder, StandardScaler, MinMaxScaler\n",
    "from sklearn.pipeline import Pipeline\n",
    "from sklearn.ensemble import RandomForestRegressor\n",
    "import tensorflow as tf\n",
    "from tensorflow import keras\n",
    "from tensorflow.keras.models import Sequential\n",
    "from tensorflow.keras.layers import Dense,Dropout,Activation, Flatten, Conv2D, MaxPooling2D\n",
    "from tensorflow.keras.layers import Dense,LSTM\n",
    "from tensorflow.keras.optimizers import SGD"
   ]
  },
  {
   "cell_type": "code",
   "execution_count": 62,
   "id": "d8bad353",
   "metadata": {},
   "outputs": [],
   "source": [
    "NewDataSet = dataset.resample('D').mean()"
   ]
  },
  {
   "cell_type": "code",
   "execution_count": 63,
   "id": "0d6cb06b",
   "metadata": {},
   "outputs": [
    {
     "name": "stdout",
     "output_type": "stream",
     "text": [
      "Dataset antiguo (1653, 7)\n",
      "Dataset nuevo (2881, 4)\n"
     ]
    }
   ],
   "source": [
    "print('Dataset antiguo', dataset.shape)\n",
    "print('Dataset nuevo', NewDataSet.shape)"
   ]
  },
  {
   "cell_type": "code",
   "execution_count": 64,
   "id": "b20f74a2",
   "metadata": {},
   "outputs": [],
   "source": [
    "# Datos de prueba\n",
    "TestData = NewDataSet.tail(100)\n",
    "Training_Set = NewDataSet.iloc[:,0:1]\n",
    "Training_Set = Training_Set[:-60]"
   ]
  },
  {
   "cell_type": "code",
   "execution_count": 65,
   "id": "e2f8dda2",
   "metadata": {},
   "outputs": [
    {
     "name": "stdout",
     "output_type": "stream",
     "text": [
      "Forma de conjunto de entrenamiento (2821, 1)\n",
      "forma de conjunto de prueba (100, 4)\n"
     ]
    }
   ],
   "source": [
    "print('Forma de conjunto de entrenamiento', Training_Set.shape)\n",
    "print('forma de conjunto de prueba', TestData.shape)"
   ]
  },
  {
   "cell_type": "code",
   "execution_count": 66,
   "id": "8e0123cd",
   "metadata": {},
   "outputs": [],
   "source": [
    "Training_Set = Training_Set.values\n",
    "sc = MinMaxScaler(feature_range=(0, 1))\n",
    "Train = sc.fit_transform(Training_Set)"
   ]
  },
  {
   "cell_type": "code",
   "execution_count": 67,
   "id": "949e0875",
   "metadata": {},
   "outputs": [
    {
     "name": "stdout",
     "output_type": "stream",
     "text": [
      "(2761, 60, 1)\n",
      "(2761, 1)\n"
     ]
    }
   ],
   "source": [
    "# Entrenamiento\n",
    "X_Train = []\n",
    "Y_Train = []\n",
    "\n",
    "# Rango de valores\n",
    "for i in range(60, Train.shape[0]):\n",
    "    \n",
    "    X_Train.append(Train[i-60:i])\n",
    "    \n",
    "    Y_Train.append(Train[i])\n",
    "    \n",
    "\n",
    "# Convierte a Numpy Array\n",
    "X_Train = np.array(X_Train)\n",
    "Y_Train = np.array(Y_Train)\n",
    "    \n",
    "print(X_Train.shape)\n",
    "print(Y_Train.shape)"
   ]
  },
  {
   "cell_type": "code",
   "execution_count": 68,
   "id": "f153ef6d",
   "metadata": {},
   "outputs": [],
   "source": [
    "X_Train = np.where(np.isnan(X_Train), ma.array(X_Train, mask=np.isnan(X_Train)).mean(axis=0), X_Train)\n",
    "Y_Train = np.where(np.isnan(Y_Train), ma.array(Y_Train, mask=np.isnan(Y_Train)).mean(axis=0), Y_Train) "
   ]
  },
  {
   "cell_type": "code",
   "execution_count": 69,
   "id": "7473f1e1",
   "metadata": {},
   "outputs": [
    {
     "data": {
      "text/plain": [
       "(2761, 60, 1)"
      ]
     },
     "execution_count": 69,
     "metadata": {},
     "output_type": "execute_result"
    }
   ],
   "source": [
    "X_Train = np.reshape(X_Train, newshape=(X_Train.shape[0], X_Train.shape[1], 1))\n",
    "X_Train.shape"
   ]
  },
  {
   "cell_type": "markdown",
   "id": "27c12876",
   "metadata": {},
   "source": [
    "### Modelo"
   ]
  },
  {
   "cell_type": "code",
   "execution_count": 70,
   "id": "e10f921c",
   "metadata": {},
   "outputs": [],
   "source": [
    "regressor = Sequential()\n",
    "\n",
    "# Adiciona el primer elemento\n",
    "regressor.add(LSTM(units = 50, return_sequences = True, input_shape = (X_Train.shape[1], 1)))\n",
    "regressor.add(Dropout(0.2))\n",
    "\n",
    "# Adiciona el segundo elemento\n",
    "regressor.add(LSTM(units = 50, return_sequences = True))\n",
    "regressor.add(Dropout(0.2))\n",
    "\n",
    "# Adiciona el tercero elemento\n",
    "regressor.add(LSTM(units = 50, return_sequences = True))\n",
    "regressor.add(Dropout(0.2))\n",
    "\n",
    "# Adiciona el cuarto elemento\n",
    "regressor.add(LSTM(units = 50))\n",
    "regressor.add(Dropout(0.2))\n",
    "\n",
    "# Salida\n",
    "regressor.add(Dense(units = 1))\n",
    "\n",
    "# compile model\n",
    "regressor.compile(optimizer = 'adam', loss = 'mean_squared_error')\n"
   ]
  },
  {
   "cell_type": "markdown",
   "id": "e21bfaaa",
   "metadata": {},
   "source": [
    "### Entrenamiento"
   ]
  },
  {
   "cell_type": "code",
   "execution_count": 71,
   "id": "ba2ccc98",
   "metadata": {
    "scrolled": true
   },
   "outputs": [
    {
     "name": "stdout",
     "output_type": "stream",
     "text": [
      "Epoch 1/50\n",
      "87/87 [==============================] - 6s 74ms/step - loss: 0.0074\n",
      "Epoch 2/50\n",
      "87/87 [==============================] - 7s 78ms/step - loss: 0.0072\n",
      "Epoch 3/50\n",
      "87/87 [==============================] - 7s 77ms/step - loss: 0.0071\n",
      "Epoch 4/50\n",
      "87/87 [==============================] - 7s 78ms/step - loss: 0.0071\n",
      "Epoch 5/50\n",
      "87/87 [==============================] - 7s 78ms/step - loss: 0.0070\n",
      "Epoch 6/50\n",
      "87/87 [==============================] - 7s 78ms/step - loss: 0.0069\n",
      "Epoch 7/50\n",
      "87/87 [==============================] - 7s 80ms/step - loss: 0.0070\n",
      "Epoch 8/50\n",
      "87/87 [==============================] - 7s 78ms/step - loss: 0.0069\n",
      "Epoch 9/50\n",
      "87/87 [==============================] - 7s 80ms/step - loss: 0.0070\n",
      "Epoch 10/50\n",
      "87/87 [==============================] - 7s 79ms/step - loss: 0.0069\n",
      "Epoch 11/50\n",
      "87/87 [==============================] - 7s 80ms/step - loss: 0.0070\n",
      "Epoch 12/50\n",
      "87/87 [==============================] - 7s 86ms/step - loss: 0.0074\n",
      "Epoch 13/50\n",
      "87/87 [==============================] - 7s 81ms/step - loss: 0.0070\n",
      "Epoch 14/50\n",
      "87/87 [==============================] - 7s 81ms/step - loss: 0.0069\n",
      "Epoch 15/50\n",
      "87/87 [==============================] - 7s 80ms/step - loss: 0.0068\n",
      "Epoch 16/50\n",
      "87/87 [==============================] - 7s 82ms/step - loss: 0.0066\n",
      "Epoch 17/50\n",
      "87/87 [==============================] - 7s 81ms/step - loss: 0.0063\n",
      "Epoch 18/50\n",
      "87/87 [==============================] - 7s 81ms/step - loss: 0.0066\n",
      "Epoch 19/50\n",
      "87/87 [==============================] - 7s 80ms/step - loss: 0.0065\n",
      "Epoch 20/50\n",
      "87/87 [==============================] - 7s 81ms/step - loss: 0.0062\n",
      "Epoch 21/50\n",
      "87/87 [==============================] - 7s 82ms/step - loss: 0.0062\n",
      "Epoch 22/50\n",
      "87/87 [==============================] - 7s 81ms/step - loss: 0.0069\n",
      "Epoch 23/50\n",
      "87/87 [==============================] - 7s 82ms/step - loss: 0.0059\n",
      "Epoch 24/50\n",
      "87/87 [==============================] - 7s 81ms/step - loss: 0.0059\n",
      "Epoch 25/50\n",
      "87/87 [==============================] - 7s 82ms/step - loss: 0.0075\n",
      "Epoch 26/50\n",
      "87/87 [==============================] - 7s 81ms/step - loss: 0.0065\n",
      "Epoch 27/50\n",
      "87/87 [==============================] - 7s 82ms/step - loss: 0.0063\n",
      "Epoch 28/50\n",
      "87/87 [==============================] - 7s 84ms/step - loss: 0.0062\n",
      "Epoch 29/50\n",
      "87/87 [==============================] - 7s 82ms/step - loss: 0.0061\n",
      "Epoch 30/50\n",
      "87/87 [==============================] - 7s 81ms/step - loss: 0.0059\n",
      "Epoch 31/50\n",
      "87/87 [==============================] - 7s 82ms/step - loss: 0.0068\n",
      "Epoch 32/50\n",
      "87/87 [==============================] - 7s 82ms/step - loss: 0.0061\n",
      "Epoch 33/50\n",
      "87/87 [==============================] - 7s 82ms/step - loss: 0.0057\n",
      "Epoch 34/50\n",
      "87/87 [==============================] - 7s 86ms/step - loss: 0.0055\n",
      "Epoch 35/50\n",
      "87/87 [==============================] - 7s 81ms/step - loss: 0.0061\n",
      "Epoch 36/50\n",
      "87/87 [==============================] - 7s 84ms/step - loss: 0.0060\n",
      "Epoch 37/50\n",
      "87/87 [==============================] - 7s 82ms/step - loss: 0.0053\n",
      "Epoch 38/50\n",
      "87/87 [==============================] - 7s 85ms/step - loss: 0.0057\n",
      "Epoch 39/50\n",
      "87/87 [==============================] - 7s 83ms/step - loss: 0.0054\n",
      "Epoch 40/50\n",
      "87/87 [==============================] - 7s 83ms/step - loss: 0.0052\n",
      "Epoch 41/50\n",
      "87/87 [==============================] - 7s 81ms/step - loss: 0.0055\n",
      "Epoch 42/50\n",
      "87/87 [==============================] - 7s 81ms/step - loss: 0.0062\n",
      "Epoch 43/50\n",
      "87/87 [==============================] - 7s 83ms/step - loss: 0.0054\n",
      "Epoch 44/50\n",
      "87/87 [==============================] - 7s 82ms/step - loss: 0.0069\n",
      "Epoch 45/50\n",
      "87/87 [==============================] - 7s 83ms/step - loss: 0.0055\n",
      "Epoch 46/50\n",
      "87/87 [==============================] - 7s 82ms/step - loss: 0.0054\n",
      "Epoch 47/50\n",
      "87/87 [==============================] - 7s 85ms/step - loss: 0.0058\n",
      "Epoch 48/50\n",
      "87/87 [==============================] - 8s 87ms/step - loss: 0.0051\n",
      "Epoch 49/50\n",
      "87/87 [==============================] - 7s 84ms/step - loss: 0.0047\n",
      "Epoch 50/50\n",
      "87/87 [==============================] - 7s 83ms/step - loss: 0.0055\n"
     ]
    },
    {
     "data": {
      "text/plain": [
       "<tensorflow.python.keras.callbacks.History at 0x1fa5344b160>"
      ]
     },
     "execution_count": 71,
     "metadata": {},
     "output_type": "execute_result"
    }
   ],
   "source": [
    "regressor.fit(X_Train, Y_Train, epochs=50, batch_size=32)"
   ]
  },
  {
   "cell_type": "code",
   "execution_count": 72,
   "id": "c2d625a6",
   "metadata": {},
   "outputs": [
    {
     "data": {
      "text/html": [
       "<div>\n",
       "<style scoped>\n",
       "    .dataframe tbody tr th:only-of-type {\n",
       "        vertical-align: middle;\n",
       "    }\n",
       "\n",
       "    .dataframe tbody tr th {\n",
       "        vertical-align: top;\n",
       "    }\n",
       "\n",
       "    .dataframe thead th {\n",
       "        text-align: right;\n",
       "    }\n",
       "</style>\n",
       "<table border=\"1\" class=\"dataframe\">\n",
       "  <thead>\n",
       "    <tr style=\"text-align: right;\">\n",
       "      <th></th>\n",
       "      <th>CANTIDAD</th>\n",
       "      <th>Month</th>\n",
       "      <th>Year</th>\n",
       "      <th>Week</th>\n",
       "    </tr>\n",
       "    <tr>\n",
       "      <th>FECHA</th>\n",
       "      <th></th>\n",
       "      <th></th>\n",
       "      <th></th>\n",
       "      <th></th>\n",
       "    </tr>\n",
       "  </thead>\n",
       "  <tbody>\n",
       "    <tr>\n",
       "      <th>2021-02-10</th>\n",
       "      <td>150.0</td>\n",
       "      <td>2.0</td>\n",
       "      <td>2021.0</td>\n",
       "      <td>6.0</td>\n",
       "    </tr>\n",
       "    <tr>\n",
       "      <th>2021-02-11</th>\n",
       "      <td>201.0</td>\n",
       "      <td>2.0</td>\n",
       "      <td>2021.0</td>\n",
       "      <td>6.0</td>\n",
       "    </tr>\n",
       "  </tbody>\n",
       "</table>\n",
       "</div>"
      ],
      "text/plain": [
       "            CANTIDAD  Month    Year  Week\n",
       "FECHA                                    \n",
       "2021-02-10     150.0    2.0  2021.0   6.0\n",
       "2021-02-11     201.0    2.0  2021.0   6.0"
      ]
     },
     "execution_count": 72,
     "metadata": {},
     "output_type": "execute_result"
    }
   ],
   "source": [
    "# Ultimos 2 datos del test\n",
    "TestData.head(2)"
   ]
  },
  {
   "cell_type": "code",
   "execution_count": 73,
   "id": "c950f541",
   "metadata": {},
   "outputs": [
    {
     "data": {
      "text/plain": [
       "(100, 4)"
      ]
     },
     "execution_count": 73,
     "metadata": {},
     "output_type": "execute_result"
    }
   ],
   "source": [
    "# Figura del test\n",
    "TestData.shape"
   ]
  },
  {
   "cell_type": "code",
   "execution_count": 74,
   "id": "c12c8008",
   "metadata": {},
   "outputs": [
    {
     "name": "stdout",
     "output_type": "stream",
     "text": [
      "CANTIDAD    30\n",
      "Month       30\n",
      "Year        30\n",
      "Week        30\n",
      "dtype: int64\n"
     ]
    }
   ],
   "source": [
    "print(TestData.isnull().sum())"
   ]
  },
  {
   "cell_type": "code",
   "execution_count": 75,
   "id": "2961793e",
   "metadata": {},
   "outputs": [
    {
     "data": {
      "text/plain": [
       "(2881, 4)"
      ]
     },
     "execution_count": 75,
     "metadata": {},
     "output_type": "execute_result"
    }
   ],
   "source": [
    "# Figura datos\n",
    "NewDataSet.shape"
   ]
  },
  {
   "cell_type": "code",
   "execution_count": 76,
   "id": "5cbd11cf",
   "metadata": {},
   "outputs": [],
   "source": [
    "# DataFrame con datos de test y reales\n",
    "Df_Total = pd.concat((NewDataSet[[\"CANTIDAD\"]], TestData[[\"CANTIDAD\"]]), axis=0)"
   ]
  },
  {
   "cell_type": "code",
   "execution_count": 77,
   "id": "936d2d31",
   "metadata": {},
   "outputs": [
    {
     "data": {
      "text/plain": [
       "(2981, 1)"
      ]
     },
     "execution_count": 77,
     "metadata": {},
     "output_type": "execute_result"
    }
   ],
   "source": [
    "# Figura del DataFrame\n",
    "Df_Total.shape"
   ]
  },
  {
   "cell_type": "code",
   "execution_count": 78,
   "id": "261838ca",
   "metadata": {},
   "outputs": [
    {
     "data": {
      "text/plain": [
       "(160, 1)"
      ]
     },
     "execution_count": 78,
     "metadata": {},
     "output_type": "execute_result"
    }
   ],
   "source": [
    "# Entradas\n",
    "inputs=Df_Total[len(Df_Total)- len(TestData)-60:].values\n",
    "inputs.shape"
   ]
  },
  {
   "cell_type": "code",
   "execution_count": 79,
   "id": "9a18f8b7",
   "metadata": {},
   "outputs": [],
   "source": [
    "# Entrenamiento\n",
    "inputs = Df_Total[len(Df_Total) - len(TestData) -60:].values\n",
    "\n",
    "inputs = inputs.reshape(-1,1)\n",
    "inputs = sc.transform(inputs)\n",
    "\n",
    "X_test = []\n",
    "for i in range(60, 160):\n",
    "    X_test.append(inputs[i-60:i])\n",
    "\n",
    "X_test = np.array(X_test)\n",
    "X_test = np.where(np.isnan(X_test), ma.array(X_test, mask=np.isnan(X_test)).mean(axis=0), X_test)\n",
    "X_test = np.reshape(X_test, (X_test.shape[0], X_test.shape[1], 1))\n",
    "\n",
    "precio_esperado = regressor.predict(X_test)\n",
    "\n",
    "precio_esperado = sc.inverse_transform(precio_esperado)"
   ]
  },
  {
   "cell_type": "code",
   "execution_count": 80,
   "id": "e97d3f5a",
   "metadata": {},
   "outputs": [],
   "source": [
    "# Entradas\n",
    "ValorTest = TestData[\"CANTIDAD\"].to_list()\n",
    "ValorEsperado = precio_esperado\n",
    "fecha = TestData.index.to_list()"
   ]
  },
  {
   "cell_type": "code",
   "execution_count": 81,
   "id": "63181ce8",
   "metadata": {},
   "outputs": [],
   "source": [
    "Prediccion = pd.DataFrame(data={\n",
    "\"fecha\":fecha,\n",
    "\"ValorTest\": ValorTest,\n",
    "\"ValorPredicción\":[x[0]for x in ValorEsperado ]\n",
    "})"
   ]
  },
  {
   "cell_type": "code",
   "execution_count": 82,
   "id": "67c18065",
   "metadata": {},
   "outputs": [
    {
     "data": {
      "text/html": [
       "<div>\n",
       "<style scoped>\n",
       "    .dataframe tbody tr th:only-of-type {\n",
       "        vertical-align: middle;\n",
       "    }\n",
       "\n",
       "    .dataframe tbody tr th {\n",
       "        vertical-align: top;\n",
       "    }\n",
       "\n",
       "    .dataframe thead th {\n",
       "        text-align: right;\n",
       "    }\n",
       "</style>\n",
       "<table border=\"1\" class=\"dataframe\">\n",
       "  <thead>\n",
       "    <tr style=\"text-align: right;\">\n",
       "      <th></th>\n",
       "      <th>fecha</th>\n",
       "      <th>ValorTest</th>\n",
       "      <th>ValorPredicción</th>\n",
       "    </tr>\n",
       "  </thead>\n",
       "  <tbody>\n",
       "    <tr>\n",
       "      <th>0</th>\n",
       "      <td>2021-02-10</td>\n",
       "      <td>150.0</td>\n",
       "      <td>51.969303</td>\n",
       "    </tr>\n",
       "    <tr>\n",
       "      <th>1</th>\n",
       "      <td>2021-02-11</td>\n",
       "      <td>201.0</td>\n",
       "      <td>51.168907</td>\n",
       "    </tr>\n",
       "    <tr>\n",
       "      <th>2</th>\n",
       "      <td>2021-02-12</td>\n",
       "      <td>147.0</td>\n",
       "      <td>50.981285</td>\n",
       "    </tr>\n",
       "    <tr>\n",
       "      <th>3</th>\n",
       "      <td>2021-02-13</td>\n",
       "      <td>0.0</td>\n",
       "      <td>50.695293</td>\n",
       "    </tr>\n",
       "    <tr>\n",
       "      <th>4</th>\n",
       "      <td>2021-02-14</td>\n",
       "      <td>0.0</td>\n",
       "      <td>50.615185</td>\n",
       "    </tr>\n",
       "    <tr>\n",
       "      <th>...</th>\n",
       "      <td>...</td>\n",
       "      <td>...</td>\n",
       "      <td>...</td>\n",
       "    </tr>\n",
       "    <tr>\n",
       "      <th>95</th>\n",
       "      <td>2021-05-16</td>\n",
       "      <td>0.0</td>\n",
       "      <td>66.742950</td>\n",
       "    </tr>\n",
       "    <tr>\n",
       "      <th>96</th>\n",
       "      <td>2021-05-17</td>\n",
       "      <td>0.0</td>\n",
       "      <td>63.451477</td>\n",
       "    </tr>\n",
       "    <tr>\n",
       "      <th>97</th>\n",
       "      <td>2021-05-18</td>\n",
       "      <td>815.0</td>\n",
       "      <td>60.635227</td>\n",
       "    </tr>\n",
       "    <tr>\n",
       "      <th>98</th>\n",
       "      <td>2021-05-19</td>\n",
       "      <td>88.0</td>\n",
       "      <td>56.173817</td>\n",
       "    </tr>\n",
       "    <tr>\n",
       "      <th>99</th>\n",
       "      <td>2021-05-20</td>\n",
       "      <td>191.0</td>\n",
       "      <td>53.520920</td>\n",
       "    </tr>\n",
       "  </tbody>\n",
       "</table>\n",
       "<p>100 rows × 3 columns</p>\n",
       "</div>"
      ],
      "text/plain": [
       "        fecha  ValorTest  ValorPredicción\n",
       "0  2021-02-10      150.0        51.969303\n",
       "1  2021-02-11      201.0        51.168907\n",
       "2  2021-02-12      147.0        50.981285\n",
       "3  2021-02-13        0.0        50.695293\n",
       "4  2021-02-14        0.0        50.615185\n",
       "..        ...        ...              ...\n",
       "95 2021-05-16        0.0        66.742950\n",
       "96 2021-05-17        0.0        63.451477\n",
       "97 2021-05-18      815.0        60.635227\n",
       "98 2021-05-19       88.0        56.173817\n",
       "99 2021-05-20      191.0        53.520920\n",
       "\n",
       "[100 rows x 3 columns]"
      ]
     },
     "execution_count": 82,
     "metadata": {},
     "output_type": "execute_result"
    }
   ],
   "source": [
    "# Resultado Final\n",
    "Prediccion['ValorTest'].fillna(0, inplace = True)\n",
    "Prediccion"
   ]
  },
  {
   "cell_type": "markdown",
   "id": "3e163a82",
   "metadata": {},
   "source": [
    "# Comportamiento de ventas aproximado"
   ]
  },
  {
   "cell_type": "code",
   "execution_count": 83,
   "id": "f720f38d",
   "metadata": {},
   "outputs": [
    {
     "name": "stderr",
     "output_type": "stream",
     "text": [
      "No handles with labels found to put in legend.\n"
     ]
    },
    {
     "data": {
      "text/plain": [
       "<matplotlib.legend.Legend at 0x1fa442f7070>"
      ]
     },
     "execution_count": 83,
     "metadata": {},
     "output_type": "execute_result"
    },
    {
     "data": {
      "image/png": "[encoded data removed]",
      "text/plain": [
       "<Figure size 1440x720 with 1 Axes>"
      ]
     },
     "metadata": {},
     "output_type": "display_data"
    }
   ],
   "source": [
    "fig = plt.figure(figsize=(20,10))\n",
    "\n",
    "ax1 = fig.add_subplot(111)\n",
    "\n",
    "x = fecha\n",
    "y = ValorTest\n",
    "\n",
    "y1 = ValorEsperado\n",
    "\n",
    "plt.plot(x,y, color=\"red\") # valores reales\n",
    "plt.plot(x,y1, color=\"green\") # valores esperados\n",
    "\n",
    "plt.gcf().autofmt_xdate()\n",
    "plt.xlabel('fecha')\n",
    "plt.ylabel('cantidad')\n",
    "plt.title(\"ventas a futuro\")\n",
    "plt.legend()"
   ]
  },
  {
   "cell_type": "code",
   "execution_count": null,
   "id": "1ab33064",
   "metadata": {},
   "outputs": [],
   "source": []
  }
 ],
 "metadata": {
  "kernelspec": {
   "display_name": "Python 3",
   "language": "python",
   "name": "python3"
  },
  "language_info": {
   "codemirror_mode": {
    "name": "ipython",
    "version": 3
   },
   "file_extension": ".py",
   "mimetype": "text/x-python",
   "name": "python",
   "nbconvert_exporter": "python",
   "pygments_lexer": "ipython3",
   "version": "3.8.10"
  }
 },
 "nbformat": 4,
 "nbformat_minor": 5
}
